{
 "cells": [
  {
   "cell_type": "markdown",
   "id": "b97ecff5",
   "metadata": {},
   "source": [
    "# ARC-AGI 2025: Training Notebook\n",
    "\n",
    "This notebook trains a baseline sequence-to-sequence Transformer on the generated ARC-AGI dataset (`artifacts/datasets/*.jsonl`).\n",
    "\n",
    "Sections:\n",
    "1. Setup\n",
    "2. Dependencies\n",
    "3. Device & Determinism\n",
    "4. Load Dataset\n",
    "5. Visualize Samples\n",
    "6. Tokenization & Augmentations\n",
    "7. Datasets & DataLoaders\n",
    "8. Transformer Model\n",
    "9. Loss/Optimizer/Scheduler\n",
    "10. Training Loop\n",
    "11. Validation Metrics\n",
    "12. Inference Solver\n",
    "13. Save Artifacts\n",
    "14. Unit Tests\n",
    "15. Hyperparameter Sweep (optional)\n",
    "16. Export to TorchScript/ONNX (optional)"
   ]
  },
  {
   "cell_type": "code",
   "execution_count": 19,
   "id": "14e703dd",
   "metadata": {},
   "outputs": [
    {
     "name": "stdout",
     "output_type": "stream",
     "text": [
      "Project root: c:\\Users\\aibel\\OneDrive\\Documents\\Code\\arc-agi\n",
      "Datasets dir: c:\\Users\\aibel\\OneDrive\\Documents\\Code\\arc-agi\\artifacts\\datasets\n",
      "Run dir: c:\\Users\\aibel\\OneDrive\\Documents\\Code\\arc-agi\\models\\run_20250824-113414\n"
     ]
    }
   ],
   "source": [
    "from __future__ import annotations\n",
    "import os, json, time, random\n",
    "from pathlib import Path\n",
    "CWD = Path.cwd()\n",
    "CANDIDATES = [CWD, *CWD.parents]\n",
    "PROJECT_ROOT = None\n",
    "for p in CANDIDATES:\n",
    "    if (p / 'artifacts').exists() and (p / 'models').exists():\n",
    "        PROJECT_ROOT = p\n",
    "        break\n",
    "if PROJECT_ROOT is None:\n",
    "    PROJECT_ROOT = CWD if (CWD / 'artifacts').exists() else CWD.parent\n",
    "DATASETS_DIR = PROJECT_ROOT / 'artifacts' / 'datasets'\n",
    "MODELS_DIR = PROJECT_ROOT / 'models'\n",
    "MODELS_DIR.mkdir(parents=True, exist_ok=True)\n",
    "run_id = time.strftime('%Y%m%d-%H%M%S')\n",
    "RUN_DIR = MODELS_DIR / f'run_{run_id}'\n",
    "RUN_DIR.mkdir(parents=True, exist_ok=True)\n",
    "print('Project root:', PROJECT_ROOT)\n",
    "print('Datasets dir:', DATASETS_DIR)\n",
    "print('Run dir:', RUN_DIR)"
   ]
  },
  {
   "cell_type": "code",
   "execution_count": 20,
   "id": "1146d29b",
   "metadata": {},
   "outputs": [
    {
     "name": "stdout",
     "output_type": "stream",
     "text": [
      "Python 3.13.7 (tags/v3.13.7:bcee1c3, Aug 14 2025, 14:15:11) [MSC v.1944 64 bit (AMD64)]\n",
      "Torch 2.8.0+cpu\n",
      "NumPy 2.3.2\n"
     ]
    }
   ],
   "source": [
    "import sys\n",
    "try:\n",
    "    import torch\n",
    "except Exception:\n",
    "    %pip install torch --quiet\n",
    "    import torch\n",
    "try:\n",
    "    import einops\n",
    "except Exception:\n",
    "    %pip install einops --quiet\n",
    "    import einops\n",
    "try:\n",
    "    import tqdm\n",
    "except Exception:\n",
    "    %pip install tqdm --quiet\n",
    "    import tqdm\n",
    "try:\n",
    "    import matplotlib\n",
    "except Exception:\n",
    "    %pip install matplotlib --quiet\n",
    "    import matplotlib\n",
    "from typing import List, Tuple, Dict, Optional\n",
    "import numpy as np\n",
    "import torch\n",
    "import torch.nn as nn\n",
    "import torch.nn.functional as F\n",
    "from torch.utils.data import Dataset, DataLoader\n",
    "from einops import rearrange\n",
    "from tqdm.auto import tqdm\n",
    "import matplotlib.pyplot as plt\n",
    "print('Python', sys.version)\n",
    "print('Torch', torch.__version__)\n",
    "print('NumPy', np.__version__)"
   ]
  },
  {
   "cell_type": "code",
   "execution_count": 21,
   "id": "9674c471",
   "metadata": {},
   "outputs": [
    {
     "name": "stdout",
     "output_type": "stream",
     "text": [
      "Using device: cpu\n"
     ]
    }
   ],
   "source": [
    "SEED = 1337\n",
    "random.seed(SEED)\n",
    "np.random.seed(SEED)\n",
    "torch.manual_seed(SEED)\n",
    "if torch.cuda.is_available():\n",
    "    device = torch.device('cuda')\n",
    "    torch.cuda.manual_seed_all(SEED)\n",
    "    torch.backends.cudnn.deterministic = True\n",
    "    torch.backends.cudnn.benchmark = False\n",
    "    try:\n",
    "        torch.set_float32_matmul_precision('high')\n",
    "    except Exception:\n",
    "        pass\n",
    "elif hasattr(torch.backends, 'mps') and torch.backends.mps.is_available():\n",
    "    device = torch.device('mps')\n",
    "else:\n",
    "    device = torch.device('cpu')\n",
    "print('Using device:', device)"
   ]
  },
  {
   "cell_type": "code",
   "execution_count": 22,
   "id": "919a5421",
   "metadata": {},
   "outputs": [
    {
     "name": "stdout",
     "output_type": "stream",
     "text": [
      "Train samples: 3232 | Val samples: 358\n"
     ]
    }
   ],
   "source": [
    "from dataclasses import dataclass\n",
    "@dataclass\n",
    "class Sample:\n",
    "    split: str\n",
    "    task_id: str\n",
    "    subset: str\n",
    "    index: int\n",
    "    input: List[List[int]]\n",
    "    output: List[List[int]]\n",
    "    transform: dict\n",
    "\n",
    "def read_jsonl(path: Path):\n",
    "    with path.open('r') as f:\n",
    "        for line in f:\n",
    "            if line.strip():\n",
    "                yield json.loads(line)\n",
    "\n",
    "def load_split(name: str):\n",
    "    path = DATASETS_DIR / f'{name}.jsonl'\n",
    "    if not path.exists():\n",
    "        print(f'Warning: dataset not found: {path}')\n",
    "        return []\n",
    "    data = []\n",
    "    for rec in read_jsonl(path):\n",
    "        if 'input' in rec and 'output' in rec:\n",
    "            data.append(Sample(\n",
    "                split=rec['split'], task_id=rec['task_id'], subset=rec['subset'], index=rec['index'],\n",
    "                input=rec['input'], output=rec['output'], transform=rec.get('transform', {})\n",
    "            ))\n",
    "    return data\n",
    "train_samples = load_split('training')\n",
    "val_samples = load_split('evaluation')\n",
    "if not val_samples and len(train_samples) > 10:\n",
    "    n = int(0.9 * len(train_samples))\n",
    "    val_samples = train_samples[n:]\n",
    "    train_samples = train_samples[:n]\n",
    "print(f'Train samples: {len(train_samples)} | Val samples: {len(val_samples)}')"
   ]
  },
  {
   "cell_type": "code",
   "execution_count": 23,
   "id": "c223f53f",
   "metadata": {},
   "outputs": [
    {
     "name": "stdout",
     "output_type": "stream",
     "text": [
      "Small experiment: train=180 val=20 (orig train=3232 val=358)\n"
     ]
    }
   ],
   "source": [
    "# === Small Experiment Subset Setup ===\n",
    "# Reduce dataset size for a fast baseline experiment run.\n",
    "MAX_TRAIN = 200           # cap number of training examples considered (set None for full)\n",
    "VAL_RATIO = 0.1           # portion of (post-cap) training examples to use as validation if evaluation split empty\n",
    "FORCE_RESPLIT = True      # force re-splitting even if evaluation examples exist (set False to keep evaluation split)\n",
    "\n",
    "original_train_len = len(train_samples)\n",
    "original_val_len = len(val_samples)\n",
    "\n",
    "# Cap train set\n",
    "if MAX_TRAIN is not None and len(train_samples) > MAX_TRAIN:\n",
    "    train_samples = train_samples[:MAX_TRAIN]\n",
    "\n",
    "# Re-split if evaluation empty or forced\n",
    "if FORCE_RESPLIT or (not val_samples):\n",
    "    cut = int(len(train_samples) * (1 - VAL_RATIO))\n",
    "    if cut <= 0: cut = max(1, len(train_samples) - 1)\n",
    "    val_samples = train_samples[cut:]\n",
    "    train_samples = train_samples[:cut]\n",
    "\n",
    "print(f\"Small experiment: train={len(train_samples)} val={len(val_samples)} (orig train={original_train_len} val={original_val_len})\")"
   ]
  },
  {
   "cell_type": "code",
   "execution_count": 24,
   "id": "998c4e15",
   "metadata": {},
   "outputs": [
    {
     "data": {
      "image/png": "[encoded data removed]",
      "text/plain": [
       "<Figure size 1000x500 with 8 Axes>"
      ]
     },
     "metadata": {},
     "output_type": "display_data"
    }
   ],
   "source": [
    "from itertools import islice\n",
    "def show_grid(ax, grid, title=\"\"):\n",
    "    arr = np.array(grid, dtype=int)\n",
    "    cmap = plt.get_cmap('tab10', 10)\n",
    "    ax.imshow(arr, cmap=cmap, vmin=0, vmax=9)\n",
    "    ax.set_title(title)\n",
    "    ax.set_xticks([]); ax.set_yticks([])\n",
    "fig, axes = plt.subplots(2, 4, figsize=(10,5))\n",
    "axes = axes.ravel()\n",
    "for i, s in enumerate(islice(train_samples, 4)):\n",
    "    show_grid(axes[2*i], s.input, f\"Train Input {i}\")\n",
    "    show_grid(axes[2*i+1], s.output, f\"Train Output {i}\")\n",
    "plt.tight_layout()\n",
    "plt.show()"
   ]
  },
  {
   "cell_type": "code",
   "execution_count": 25,
   "id": "4a8701ac",
   "metadata": {},
   "outputs": [
    {
     "name": "stdout",
     "output_type": "stream",
     "text": [
      "Vocab size: 14\n"
     ]
    }
   ],
   "source": [
    "PAD, BOS, EOS, SEP = 10, 11, 12, 13\n",
    "VOCAB_SIZE = 14\n",
    "\n",
    "def normalize_grid(grid: List[List[int]] | List[int] | int) -> np.ndarray:\n",
    "    arr = np.array(grid, dtype=int)\n",
    "    if arr.ndim == 0:\n",
    "        arr = arr.reshape(1, 1)\n",
    "    elif arr.ndim == 1:\n",
    "        arr = arr.reshape(1, -1)\n",
    "    return arr\n",
    "\n",
    "def encode_grid(grid: List[List[int]] | List[int] | int) -> List[int]:\n",
    "    arr = normalize_grid(grid)\n",
    "    return arr.reshape(-1).tolist()\n",
    "\n",
    "def decode_grid(tokens: List[int], h: int, w: int) -> List[List[int]]:\n",
    "    seq = tokens[: h*w]\n",
    "    return [seq[i*w:(i+1)*w] for i in range(h)]\n",
    "AUG_ROT = [0, 1, 2, 3]\n",
    "AUG_FLIP = [False, True]\n",
    "\n",
    "# --- Paired augmentation (applied consistently to input and output) ---\n",
    "\n",
    "def _sample_aug_params(arr_in: np.ndarray, arr_out: np.ndarray):\n",
    "    rot = random.choice(AUG_ROT)\n",
    "    flip = random.choice(AUG_FLIP)\n",
    "    vals = sorted(set(arr_in.ravel().tolist()) | set(arr_out.ravel().tolist()))\n",
    "    cmap = {}\n",
    "    if len(vals) > 1:\n",
    "        perm = vals[:]\n",
    "        random.shuffle(perm)\n",
    "        cmap = {a: b for a, b in zip(vals, perm)}\n",
    "    return {\"rot\": rot, \"flip\": flip, \"cmap\": cmap}\n",
    "\n",
    "def _apply_aug_with_params(arr: np.ndarray, params):\n",
    "    if params[\"rot\"]:\n",
    "        arr = np.rot90(arr, params[\"rot\"])\n",
    "    if params[\"flip\"]:\n",
    "        arr = np.fliplr(arr)\n",
    "    if params[\"cmap\"]:\n",
    "        vfunc = np.vectorize(lambda x: params[\"cmap\"].get(int(x), int(x)))\n",
    "        arr = vfunc(arr)\n",
    "    return arr\n",
    "\n",
    "def apply_shared_aug(inp_grid, out_grid):\n",
    "    arr_in = normalize_grid(inp_grid)\n",
    "    arr_out = normalize_grid(out_grid)\n",
    "    if arr_in.size == 0 or arr_out.size == 0:\n",
    "        return inp_grid, out_grid\n",
    "    params = _sample_aug_params(arr_in, arr_out)\n",
    "    aug_in = _apply_aug_with_params(arr_in, params)\n",
    "    aug_out = _apply_aug_with_params(arr_out, params)\n",
    "    return aug_in.astype(int).tolist(), aug_out.astype(int).tolist()\n",
    "\n",
    "print('Vocab size:', VOCAB_SIZE)"
   ]
  },
  {
   "cell_type": "code",
   "execution_count": 45,
   "id": "f43ff0e5",
   "metadata": {},
   "outputs": [
    {
     "data": {
      "text/plain": [
       "(12, 2)"
      ]
     },
     "execution_count": 45,
     "metadata": {},
     "output_type": "execute_result"
    }
   ],
   "source": [
    "MAX_H, MAX_W = 30, 30\n",
    "\n",
    "def to_2d(grid):\n",
    "    if grid is None:\n",
    "        return []\n",
    "    if isinstance(grid, (int, np.integer)):\n",
    "        return [[int(grid)]]\n",
    "    if isinstance(grid, list):\n",
    "        if not grid:\n",
    "            return []\n",
    "        if isinstance(grid[0], list):\n",
    "            return grid\n",
    "        else:\n",
    "            return [grid]\n",
    "    arr = np.array(grid)\n",
    "    if arr.ndim == 0:\n",
    "        return [[int(arr)]]\n",
    "    if arr.ndim == 1:\n",
    "        return [arr.astype(int).tolist()]\n",
    "    return arr.astype(int).tolist()\n",
    "class ArcSeqDataset(Dataset):\n",
    "    def __init__(self, samples, augment=False):\n",
    "        self.samples = samples\n",
    "        self.augment = augment\n",
    "    def __len__(self):\n",
    "        return len(self.samples)\n",
    "    def __getitem__(self, idx):\n",
    "        s = self.samples[idx]\n",
    "        inp = to_2d(s.input)\n",
    "        out = to_2d(s.output)\n",
    "        if self.augment:\n",
    "            inp, out = apply_shared_aug(inp, out)\n",
    "        h_in, w_in = len(inp), len(inp[0]) if inp and len(inp) > 0 else 0\n",
    "        h_out, w_out = len(out), len(out[0]) if out and len(out) > 0 else 0\n",
    "        enc = encode_grid(inp)\n",
    "        dec_tgt_core = encode_grid(out)\n",
    "        dec_tgt = dec_tgt_core + [EOS]\n",
    "        dec_in = [BOS] + dec_tgt[:-1]\n",
    "        return {\n",
    "            'enc': torch.tensor(enc, dtype=torch.long),\n",
    "            'dec_in': torch.tensor(dec_in, dtype=torch.long),\n",
    "            'tgt': torch.tensor(dec_tgt, dtype=torch.long),\n",
    "            'h_in': h_in, 'w_in': w_in, 'h_out': h_out, 'w_out': w_out\n",
    "        }\n",
    "\n",
    "def make_row_col_indices(h, w):\n",
    "    rows = np.repeat(np.arange(h), w) if (h > 0 and w > 0) else np.array([], dtype=int)\n",
    "    cols = np.tile(np.arange(w), h) if (h > 0 and w > 0) else np.array([], dtype=int)\n",
    "    return rows, cols\n",
    "\n",
    "def collate_batch(batch):\n",
    "    B = len(batch)\n",
    "    enc_lens = [len(b['enc']) for b in batch]\n",
    "    dec_lens = [len(b['dec_in']) for b in batch]\n",
    "    max_enc = max(enc_lens) if enc_lens else 0\n",
    "    max_dec = max(dec_lens) if dec_lens else 0\n",
    "    enc = torch.full((B, max_enc), PAD, dtype=torch.long)\n",
    "    dec_in = torch.full((B, max_dec), PAD, dtype=torch.long)\n",
    "    tgt = torch.full((B, max_dec), PAD, dtype=torch.long)\n",
    "    enc_pad_mask = torch.ones((B, max_enc), dtype=torch.bool)\n",
    "    dec_pad_mask = torch.ones((B, max_dec), dtype=torch.bool)\n",
    "    row_idx = torch.zeros((B, max_enc), dtype=torch.long)\n",
    "    col_idx = torch.zeros((B, max_enc), dtype=torch.long)\n",
    "    meta = []\n",
    "    for i, b in enumerate(batch):\n",
    "        L_e = len(b['enc']); L_d = len(b['dec_in'])\n",
    "        enc[i, :L_e] = b['enc']\n",
    "        dec_in[i, :L_d] = b['dec_in']\n",
    "        tgt[i, :len(b['tgt'])] = b['tgt']\n",
    "        enc_pad_mask[i, :L_e] = False\n",
    "        dec_pad_mask[i, :L_d] = False\n",
    "        r, c = make_row_col_indices(b['h_in'], b['w_in'])\n",
    "        if L_e > 0 and len(r) == L_e:\n",
    "            row_idx[i, :L_e] = torch.tensor(r, dtype=torch.long)\n",
    "            col_idx[i, :L_e] = torch.tensor(c, dtype=torch.long)\n",
    "        meta.append((b['h_in'], b['w_in'], b['h_out'], b['w_out']))\n",
    "    return {\n",
    "        'enc': enc, 'dec_in': dec_in, 'tgt': tgt,\n",
    "        'enc_pad_mask': enc_pad_mask, 'dec_pad_mask': dec_pad_mask,\n",
    "        'row_idx': row_idx, 'col_idx': col_idx, 'meta': meta\n",
    "    }\n",
    "train_ds = ArcSeqDataset(train_samples, augment=True)\n",
    "val_ds = ArcSeqDataset(val_samples, augment=False)\n",
    "BATCH_SIZE = 16\n",
    "NUM_WORKERS = 0\n",
    "PIN_MEM = (device.type == 'cuda')\n",
    "train_loader = DataLoader(train_ds, batch_size=BATCH_SIZE, shuffle=True,\n",
    "                          num_workers=NUM_WORKERS, pin_memory=PIN_MEM, collate_fn=collate_batch)\n",
    "val_loader = DataLoader(val_ds, batch_size=BATCH_SIZE, shuffle=False,\n",
    "                        num_workers=NUM_WORKERS, pin_memory=PIN_MEM, collate_fn=collate_batch)\n",
    "len(train_loader), len(val_loader)"
   ]
  },
  {
   "cell_type": "code",
   "execution_count": 27,
   "id": "a50e8d47",
   "metadata": {},
   "outputs": [],
   "source": [
    "class PositionalEncoding(nn.Module):\n",
    "    def __init__(self, d_model, max_len=4096):\n",
    "        super().__init__()\n",
    "        pe = torch.zeros(max_len, d_model)\n",
    "        position = torch.arange(0, max_len, dtype=torch.float).unsqueeze(1)\n",
    "        div_term = torch.exp(torch.arange(0, d_model, 2).float() * (-np.log(10000.0) / d_model))\n",
    "        pe[:, 0::2] = torch.sin(position * div_term)\n",
    "        pe[:, 1::2] = torch.cos(position * div_term)\n",
    "        self.register_buffer('pe', pe.unsqueeze(0), persistent=False)\n",
    "    def forward(self, x):\n",
    "        L = x.size(1)\n",
    "        return x + self.pe[:, :L]\n",
    "class ArcTransformer(nn.Module):\n",
    "    def __init__(self, vocab_size=VOCAB_SIZE, d_model=128, nhead=4, num_layers=3, dim_ff=256, dropout=0.1):\n",
    "        super().__init__()\n",
    "        self.tok_emb = nn.Embedding(vocab_size, d_model)\n",
    "        self.row_emb = nn.Embedding(64, d_model)\n",
    "        self.col_emb = nn.Embedding(64, d_model)\n",
    "        self.pos_enc = PositionalEncoding(d_model)\n",
    "        encoder_layer = nn.TransformerEncoderLayer(d_model, nhead, dim_ff, dropout, batch_first=True)\n",
    "        self.encoder = nn.TransformerEncoder(encoder_layer, num_layers=num_layers)\n",
    "        decoder_layer = nn.TransformerDecoderLayer(d_model, nhead, dim_ff, dropout, batch_first=True)\n",
    "        self.decoder = nn.TransformerDecoder(decoder_layer, num_layers=num_layers)\n",
    "        self.proj = nn.Linear(d_model, vocab_size)\n",
    "    def encode(self, enc_tokens, row_idx, col_idx, src_key_padding_mask=None):\n",
    "        x = self.tok_emb(enc_tokens) + self.row_emb(row_idx) + self.col_emb(col_idx)\n",
    "        x = self.pos_enc(x)\n",
    "        x = self.encoder(x, src_key_padding_mask=src_key_padding_mask)\n",
    "        return x\n",
    "    def decode(self, dec_tokens, memory, tgt_key_padding_mask=None, memory_key_padding_mask=None):\n",
    "        y = self.tok_emb(dec_tokens)\n",
    "        y = self.pos_enc(y)\n",
    "        L = y.size(1)\n",
    "        causal_mask = torch.triu(torch.ones(L, L, device=y.device, dtype=torch.bool), diagonal=1)\n",
    "        y = self.decoder(y, memory, tgt_mask=causal_mask,\n",
    "                         tgt_key_padding_mask=tgt_key_padding_mask,\n",
    "                         memory_key_padding_mask=memory_key_padding_mask)\n",
    "        return self.proj(y)\n",
    "    def forward(self, batch):\n",
    "        memory = self.encode(batch['enc'], batch['row_idx'], batch['col_idx'], src_key_padding_mask=batch['enc_pad_mask'])\n",
    "        logits = self.decode(batch['dec_in'], memory,\n",
    "                             tgt_key_padding_mask=batch['dec_pad_mask'],\n",
    "                             memory_key_padding_mask=batch['enc_pad_mask'])\n",
    "        return logits\n",
    "    @torch.no_grad()\n",
    "    def generate(self, enc, row_idx, col_idx, enc_pad_mask, max_len=256):\n",
    "        self.eval()\n",
    "        memory = self.encode(enc, row_idx, col_idx, src_key_padding_mask=enc_pad_mask)\n",
    "        B = enc.size(0)\n",
    "        ys = torch.full((B, 1), BOS, dtype=torch.long, device=enc.device)\n",
    "        for _ in range(max_len):\n",
    "            logits = self.decode(ys, memory,\n",
    "                                 tgt_key_padding_mask=torch.zeros_like(ys, dtype=torch.bool),\n",
    "                                 memory_key_padding_mask=enc_pad_mask)\n",
    "            next_tok = logits[:, -1].argmax(-1, keepdim=True)\n",
    "            ys = torch.cat([ys, next_tok], dim=1)\n",
    "            if (next_tok == EOS).all():\n",
    "                break\n",
    "        return ys[:, 1:]"
   ]
  },
  {
   "cell_type": "code",
   "execution_count": 28,
   "id": "9dfee4b0",
   "metadata": {},
   "outputs": [
    {
     "name": "stdout",
     "output_type": "stream",
     "text": [
      "0.389006 M params (small experiment model)\n"
     ]
    },
    {
     "name": "stderr",
     "output_type": "stream",
     "text": [
      "C:\\Users\\aibel\\AppData\\Local\\Temp\\ipykernel_14172\\1090104874.py:5: FutureWarning: `torch.cuda.amp.GradScaler(args...)` is deprecated. Please use `torch.amp.GradScaler('cuda', args...)` instead.\n",
      "  scaler = torch.cuda.amp.GradScaler(enabled=(device.type=='cuda'))\n"
     ]
    }
   ],
   "source": [
    "model = ArcTransformer(d_model=96, nhead=4, num_layers=2, dim_ff=192).to(device)\n",
    "criterion = nn.CrossEntropyLoss(ignore_index=PAD)\n",
    "optimizer = torch.optim.AdamW(model.parameters(), lr=4e-4, weight_decay=0.01)\n",
    "scheduler = torch.optim.lr_scheduler.CosineAnnealingLR(optimizer, T_max=8)\n",
    "scaler = torch.cuda.amp.GradScaler(enabled=(device.type=='cuda'))\n",
    "print(sum(p.numel() for p in model.parameters())/1e6, 'M params (small experiment model)')"
   ]
  },
  {
   "cell_type": "code",
   "execution_count": 29,
   "id": "6b9ce7a4",
   "metadata": {},
   "outputs": [
    {
     "name": "stderr",
     "output_type": "stream",
     "text": [
      "Epoch 1 [train]:   0%|          | 0/12 [00:00<?, ?it/s]"
     ]
    },
    {
     "name": "stderr",
     "output_type": "stream",
     "text": [
      "Epoch 1 [train]:   0%|          | 0/12 [00:00<?, ?it/s]"
     ]
    },
    {
     "name": "stderr",
     "output_type": "stream",
     "text": [
      "Epoch 1 [train]: 100%|██████████| 12/12 [03:07<00:00, 15.60s/it, loss=2.09]\n",
      "Epoch 1 [val]: 100%|██████████| 2/2 [00:00<00:00,  2.39it/s]\n",
      "Epoch 1 [train]: 100%|██████████| 12/12 [03:07<00:00, 15.60s/it, loss=2.09]\n",
      "Epoch 1 [val]: 100%|██████████| 2/2 [00:00<00:00,  2.39it/s]\n"
     ]
    },
    {
     "name": "stderr",
     "output_type": "stream",
     "text": [
      "Epoch 1 [train]:   0%|          | 0/12 [00:00<?, ?it/s]"
     ]
    },
    {
     "name": "stderr",
     "output_type": "stream",
     "text": [
      "Epoch 1 [train]: 100%|██████████| 12/12 [03:07<00:00, 15.60s/it, loss=2.09]\n",
      "Epoch 1 [val]: 100%|██████████| 2/2 [00:00<00:00,  2.39it/s]\n",
      "Epoch 1 [train]: 100%|██████████| 12/12 [03:07<00:00, 15.60s/it, loss=2.09]\n",
      "Epoch 1 [val]: 100%|██████████| 2/2 [00:00<00:00,  2.39it/s]\n"
     ]
    },
    {
     "name": "stdout",
     "output_type": "stream",
     "text": [
      "Epoch 1 train_loss=2.0866 val_loss=1.8329\n",
      "Saved new best to c:\\Users\\aibel\\OneDrive\\Documents\\Code\\arc-agi\\models\\run_20250824-113414\\best.pt\n"
     ]
    },
    {
     "name": "stderr",
     "output_type": "stream",
     "text": [
      "Epoch 2 [train]: 100%|██████████| 12/12 [01:57<00:00,  9.82s/it, loss=1.47]\n",
      "Epoch 2 [train]: 100%|██████████| 12/12 [01:57<00:00,  9.82s/it, loss=1.47]\n",
      "Epoch 2 [val]: 100%|██████████| 2/2 [00:01<00:00,  1.54it/s]\n",
      "\n"
     ]
    },
    {
     "name": "stderr",
     "output_type": "stream",
     "text": [
      "Epoch 1 [train]:   0%|          | 0/12 [00:00<?, ?it/s]"
     ]
    },
    {
     "name": "stderr",
     "output_type": "stream",
     "text": [
      "Epoch 1 [train]: 100%|██████████| 12/12 [03:07<00:00, 15.60s/it, loss=2.09]\n",
      "Epoch 1 [val]: 100%|██████████| 2/2 [00:00<00:00,  2.39it/s]\n",
      "Epoch 1 [train]: 100%|██████████| 12/12 [03:07<00:00, 15.60s/it, loss=2.09]\n",
      "Epoch 1 [val]: 100%|██████████| 2/2 [00:00<00:00,  2.39it/s]\n"
     ]
    },
    {
     "name": "stdout",
     "output_type": "stream",
     "text": [
      "Epoch 1 train_loss=2.0866 val_loss=1.8329\n",
      "Saved new best to c:\\Users\\aibel\\OneDrive\\Documents\\Code\\arc-agi\\models\\run_20250824-113414\\best.pt\n"
     ]
    },
    {
     "name": "stderr",
     "output_type": "stream",
     "text": [
      "Epoch 2 [train]: 100%|██████████| 12/12 [01:57<00:00,  9.82s/it, loss=1.47]\n",
      "Epoch 2 [train]: 100%|██████████| 12/12 [01:57<00:00,  9.82s/it, loss=1.47]\n",
      "Epoch 2 [val]: 100%|██████████| 2/2 [00:01<00:00,  1.54it/s]\n",
      "\n"
     ]
    },
    {
     "name": "stdout",
     "output_type": "stream",
     "text": [
      "Epoch 2 train_loss=1.4689 val_loss=1.3782\n",
      "Saved new best to c:\\Users\\aibel\\OneDrive\\Documents\\Code\\arc-agi\\models\\run_20250824-113414\\best.pt\n"
     ]
    },
    {
     "name": "stderr",
     "output_type": "stream",
     "text": [
      "Epoch 3 [train]: 100%|██████████| 12/12 [01:36<00:00,  8.03s/it, loss=1.22]\n",
      "Epoch 3 [train]: 100%|██████████| 12/12 [01:36<00:00,  8.03s/it, loss=1.22]\n",
      "Epoch 3 [val]: 100%|██████████| 2/2 [00:00<00:00,  3.05it/s]\n",
      "\n"
     ]
    },
    {
     "name": "stderr",
     "output_type": "stream",
     "text": [
      "Epoch 1 [train]:   0%|          | 0/12 [00:00<?, ?it/s]"
     ]
    },
    {
     "name": "stderr",
     "output_type": "stream",
     "text": [
      "Epoch 1 [train]: 100%|██████████| 12/12 [03:07<00:00, 15.60s/it, loss=2.09]\n",
      "Epoch 1 [val]: 100%|██████████| 2/2 [00:00<00:00,  2.39it/s]\n",
      "Epoch 1 [train]: 100%|██████████| 12/12 [03:07<00:00, 15.60s/it, loss=2.09]\n",
      "Epoch 1 [val]: 100%|██████████| 2/2 [00:00<00:00,  2.39it/s]\n"
     ]
    },
    {
     "name": "stdout",
     "output_type": "stream",
     "text": [
      "Epoch 1 train_loss=2.0866 val_loss=1.8329\n",
      "Saved new best to c:\\Users\\aibel\\OneDrive\\Documents\\Code\\arc-agi\\models\\run_20250824-113414\\best.pt\n"
     ]
    },
    {
     "name": "stderr",
     "output_type": "stream",
     "text": [
      "Epoch 2 [train]: 100%|██████████| 12/12 [01:57<00:00,  9.82s/it, loss=1.47]\n",
      "Epoch 2 [train]: 100%|██████████| 12/12 [01:57<00:00,  9.82s/it, loss=1.47]\n",
      "Epoch 2 [val]: 100%|██████████| 2/2 [00:01<00:00,  1.54it/s]\n",
      "\n"
     ]
    },
    {
     "name": "stdout",
     "output_type": "stream",
     "text": [
      "Epoch 2 train_loss=1.4689 val_loss=1.3782\n",
      "Saved new best to c:\\Users\\aibel\\OneDrive\\Documents\\Code\\arc-agi\\models\\run_20250824-113414\\best.pt\n"
     ]
    },
    {
     "name": "stderr",
     "output_type": "stream",
     "text": [
      "Epoch 3 [train]: 100%|██████████| 12/12 [01:36<00:00,  8.03s/it, loss=1.22]\n",
      "Epoch 3 [train]: 100%|██████████| 12/12 [01:36<00:00,  8.03s/it, loss=1.22]\n",
      "Epoch 3 [val]: 100%|██████████| 2/2 [00:00<00:00,  3.05it/s]\n",
      "\n"
     ]
    },
    {
     "name": "stdout",
     "output_type": "stream",
     "text": [
      "Epoch 3 train_loss=1.2226 val_loss=1.2749\n",
      "Saved new best to c:\\Users\\aibel\\OneDrive\\Documents\\Code\\arc-agi\\models\\run_20250824-113414\\best.pt\n"
     ]
    },
    {
     "name": "stderr",
     "output_type": "stream",
     "text": [
      "Epoch 4 [train]: 100%|██████████| 12/12 [01:33<00:00,  7.80s/it, loss=1.16]\n",
      "Epoch 4 [train]: 100%|██████████| 12/12 [01:33<00:00,  7.80s/it, loss=1.16]\n",
      "Epoch 4 [val]: 100%|██████████| 2/2 [00:00<00:00,  2.35it/s]\n",
      "\n"
     ]
    },
    {
     "name": "stderr",
     "output_type": "stream",
     "text": [
      "Epoch 1 [train]:   0%|          | 0/12 [00:00<?, ?it/s]"
     ]
    },
    {
     "name": "stderr",
     "output_type": "stream",
     "text": [
      "Epoch 1 [train]: 100%|██████████| 12/12 [03:07<00:00, 15.60s/it, loss=2.09]\n",
      "Epoch 1 [val]: 100%|██████████| 2/2 [00:00<00:00,  2.39it/s]\n",
      "Epoch 1 [train]: 100%|██████████| 12/12 [03:07<00:00, 15.60s/it, loss=2.09]\n",
      "Epoch 1 [val]: 100%|██████████| 2/2 [00:00<00:00,  2.39it/s]\n"
     ]
    },
    {
     "name": "stdout",
     "output_type": "stream",
     "text": [
      "Epoch 1 train_loss=2.0866 val_loss=1.8329\n",
      "Saved new best to c:\\Users\\aibel\\OneDrive\\Documents\\Code\\arc-agi\\models\\run_20250824-113414\\best.pt\n"
     ]
    },
    {
     "name": "stderr",
     "output_type": "stream",
     "text": [
      "Epoch 2 [train]: 100%|██████████| 12/12 [01:57<00:00,  9.82s/it, loss=1.47]\n",
      "Epoch 2 [train]: 100%|██████████| 12/12 [01:57<00:00,  9.82s/it, loss=1.47]\n",
      "Epoch 2 [val]: 100%|██████████| 2/2 [00:01<00:00,  1.54it/s]\n",
      "\n"
     ]
    },
    {
     "name": "stdout",
     "output_type": "stream",
     "text": [
      "Epoch 2 train_loss=1.4689 val_loss=1.3782\n",
      "Saved new best to c:\\Users\\aibel\\OneDrive\\Documents\\Code\\arc-agi\\models\\run_20250824-113414\\best.pt\n"
     ]
    },
    {
     "name": "stderr",
     "output_type": "stream",
     "text": [
      "Epoch 3 [train]: 100%|██████████| 12/12 [01:36<00:00,  8.03s/it, loss=1.22]\n",
      "Epoch 3 [train]: 100%|██████████| 12/12 [01:36<00:00,  8.03s/it, loss=1.22]\n",
      "Epoch 3 [val]: 100%|██████████| 2/2 [00:00<00:00,  3.05it/s]\n",
      "\n"
     ]
    },
    {
     "name": "stdout",
     "output_type": "stream",
     "text": [
      "Epoch 3 train_loss=1.2226 val_loss=1.2749\n",
      "Saved new best to c:\\Users\\aibel\\OneDrive\\Documents\\Code\\arc-agi\\models\\run_20250824-113414\\best.pt\n"
     ]
    },
    {
     "name": "stderr",
     "output_type": "stream",
     "text": [
      "Epoch 4 [train]: 100%|██████████| 12/12 [01:33<00:00,  7.80s/it, loss=1.16]\n",
      "Epoch 4 [train]: 100%|██████████| 12/12 [01:33<00:00,  7.80s/it, loss=1.16]\n",
      "Epoch 4 [val]: 100%|██████████| 2/2 [00:00<00:00,  2.35it/s]\n",
      "\n"
     ]
    },
    {
     "name": "stdout",
     "output_type": "stream",
     "text": [
      "Epoch 4 train_loss=1.1626 val_loss=1.1869\n",
      "Saved new best to c:\\Users\\aibel\\OneDrive\\Documents\\Code\\arc-agi\\models\\run_20250824-113414\\best.pt\n"
     ]
    },
    {
     "name": "stderr",
     "output_type": "stream",
     "text": [
      "Epoch 5 [train]: 100%|██████████| 12/12 [01:35<00:00,  7.95s/it, loss=1.04]\n",
      "Epoch 5 [train]: 100%|██████████| 12/12 [01:35<00:00,  7.95s/it, loss=1.04]\n",
      "Epoch 5 [val]: 100%|██████████| 2/2 [00:00<00:00,  4.02it/s]"
     ]
    },
    {
     "name": "stderr",
     "output_type": "stream",
     "text": [
      "Epoch 1 [train]:   0%|          | 0/12 [00:00<?, ?it/s]"
     ]
    },
    {
     "name": "stderr",
     "output_type": "stream",
     "text": [
      "Epoch 1 [train]: 100%|██████████| 12/12 [03:07<00:00, 15.60s/it, loss=2.09]\n",
      "Epoch 1 [val]: 100%|██████████| 2/2 [00:00<00:00,  2.39it/s]\n",
      "Epoch 1 [train]: 100%|██████████| 12/12 [03:07<00:00, 15.60s/it, loss=2.09]\n",
      "Epoch 1 [val]: 100%|██████████| 2/2 [00:00<00:00,  2.39it/s]\n"
     ]
    },
    {
     "name": "stdout",
     "output_type": "stream",
     "text": [
      "Epoch 1 train_loss=2.0866 val_loss=1.8329\n",
      "Saved new best to c:\\Users\\aibel\\OneDrive\\Documents\\Code\\arc-agi\\models\\run_20250824-113414\\best.pt\n"
     ]
    },
    {
     "name": "stderr",
     "output_type": "stream",
     "text": [
      "Epoch 2 [train]: 100%|██████████| 12/12 [01:57<00:00,  9.82s/it, loss=1.47]\n",
      "Epoch 2 [train]: 100%|██████████| 12/12 [01:57<00:00,  9.82s/it, loss=1.47]\n",
      "Epoch 2 [val]: 100%|██████████| 2/2 [00:01<00:00,  1.54it/s]\n",
      "\n"
     ]
    },
    {
     "name": "stdout",
     "output_type": "stream",
     "text": [
      "Epoch 2 train_loss=1.4689 val_loss=1.3782\n",
      "Saved new best to c:\\Users\\aibel\\OneDrive\\Documents\\Code\\arc-agi\\models\\run_20250824-113414\\best.pt\n"
     ]
    },
    {
     "name": "stderr",
     "output_type": "stream",
     "text": [
      "Epoch 3 [train]: 100%|██████████| 12/12 [01:36<00:00,  8.03s/it, loss=1.22]\n",
      "Epoch 3 [train]: 100%|██████████| 12/12 [01:36<00:00,  8.03s/it, loss=1.22]\n",
      "Epoch 3 [val]: 100%|██████████| 2/2 [00:00<00:00,  3.05it/s]\n",
      "\n"
     ]
    },
    {
     "name": "stdout",
     "output_type": "stream",
     "text": [
      "Epoch 3 train_loss=1.2226 val_loss=1.2749\n",
      "Saved new best to c:\\Users\\aibel\\OneDrive\\Documents\\Code\\arc-agi\\models\\run_20250824-113414\\best.pt\n"
     ]
    },
    {
     "name": "stderr",
     "output_type": "stream",
     "text": [
      "Epoch 4 [train]: 100%|██████████| 12/12 [01:33<00:00,  7.80s/it, loss=1.16]\n",
      "Epoch 4 [train]: 100%|██████████| 12/12 [01:33<00:00,  7.80s/it, loss=1.16]\n",
      "Epoch 4 [val]: 100%|██████████| 2/2 [00:00<00:00,  2.35it/s]\n",
      "\n"
     ]
    },
    {
     "name": "stdout",
     "output_type": "stream",
     "text": [
      "Epoch 4 train_loss=1.1626 val_loss=1.1869\n",
      "Saved new best to c:\\Users\\aibel\\OneDrive\\Documents\\Code\\arc-agi\\models\\run_20250824-113414\\best.pt\n"
     ]
    },
    {
     "name": "stderr",
     "output_type": "stream",
     "text": [
      "Epoch 5 [train]: 100%|██████████| 12/12 [01:35<00:00,  7.95s/it, loss=1.04]\n",
      "Epoch 5 [train]: 100%|██████████| 12/12 [01:35<00:00,  7.95s/it, loss=1.04]\n",
      "Epoch 5 [val]: 100%|██████████| 2/2 [00:00<00:00,  4.02it/s]"
     ]
    },
    {
     "name": "stdout",
     "output_type": "stream",
     "text": [
      "Epoch 5 train_loss=1.0388 val_loss=1.1622\n",
      "Saved new best to c:\\Users\\aibel\\OneDrive\\Documents\\Code\\arc-agi\\models\\run_20250824-113414\\best.pt\n",
      "Training complete. Loss history: {'train': [2.086603840192159, 1.4688979784647624, 1.2225753019253414, 1.1626150955756505, 1.0388243645429611], 'val': [1.8328602313995361, 1.378196895122528, 1.2748523354530334, 1.1868975758552551, 1.1622234582901]}\n"
     ]
    },
    {
     "name": "stderr",
     "output_type": "stream",
     "text": [
      "\n"
     ]
    }
   ],
   "source": [
    "EPOCHS = 5  # increased for small experiment\n",
    "ACCUM_STEPS = 1\n",
    "BEST_VAL = float('inf')\n",
    "best_path = RUN_DIR / 'best.pt'\n",
    "last_path = RUN_DIR / 'last.pt'\n",
    "train_history = []\n",
    "val_history = []\n",
    "for epoch in range(1, EPOCHS+1):\n",
    "    model.train()\n",
    "    pbar = tqdm(train_loader, desc=f'Epoch {epoch} [train]')\n",
    "    total_loss = 0.0\n",
    "    for step, batch in enumerate(pbar, 1):\n",
    "        for k in ['enc','dec_in','tgt','enc_pad_mask','dec_pad_mask','row_idx','col_idx']:\n",
    "            batch[k] = batch[k].to(device)\n",
    "        with torch.amp.autocast('cuda', enabled=(device.type=='cuda')):\n",
    "            logits = model(batch)\n",
    "            B, L, V = logits.shape\n",
    "            loss = criterion(logits.view(B*L, V), batch['tgt'].view(B*L)) / ACCUM_STEPS\n",
    "        scaler.scale(loss).backward()\n",
    "        if step % ACCUM_STEPS == 0:\n",
    "            scaler.unscale_(optimizer)\n",
    "            torch.nn.utils.clip_grad_norm_(model.parameters(), 1.0)\n",
    "            scaler.step(optimizer)\n",
    "            scaler.update()\n",
    "            optimizer.zero_grad(set_to_none=True)\n",
    "        total_loss += loss.item() * ACCUM_STEPS\n",
    "        pbar.set_postfix(loss=total_loss/step)\n",
    "    train_epoch_loss = total_loss / max(1, step)\n",
    "    scheduler.step()\n",
    "    model.eval()\n",
    "    val_loss = 0.0\n",
    "    with torch.no_grad():\n",
    "        for batch in tqdm(val_loader, desc=f'Epoch {epoch} [val]'):\n",
    "            for k in ['enc','dec_in','tgt','enc_pad_mask','dec_pad_mask','row_idx','col_idx']:\n",
    "                batch[k] = batch[k].to(device)\n",
    "            logits = model(batch)\n",
    "            B, L, V = logits.shape\n",
    "            loss = criterion(logits.view(B*L, V), batch['tgt'].view(B*L))\n",
    "            val_loss += loss.item()\n",
    "    val_loss /= max(1, len(val_loader))\n",
    "    train_history.append(train_epoch_loss)\n",
    "    val_history.append(val_loss)\n",
    "    print(f'Epoch {epoch} train_loss={train_epoch_loss:.4f} val_loss={val_loss:.4f}')\n",
    "    torch.save({'model': model.state_dict(), 'optimizer': optimizer.state_dict(), 'epoch': epoch}, last_path)\n",
    "    if val_loss < BEST_VAL:\n",
    "        BEST_VAL = val_loss\n",
    "        torch.save({'model': model.state_dict(), 'optimizer': optimizer.state_dict(), 'epoch': epoch}, best_path)\n",
    "        print('Saved new best to', best_path)\n",
    "print('Training complete. Loss history:', {'train': train_history, 'val': val_history})"
   ]
  },
  {
   "cell_type": "code",
   "execution_count": 30,
   "id": "4b073d1a",
   "metadata": {},
   "outputs": [
    {
     "data": {
      "image/png": "[encoded data removed]",
      "text/plain": [
       "<Figure size 500x300 with 1 Axes>"
      ]
     },
     "metadata": {},
     "output_type": "display_data"
    }
   ],
   "source": [
    "# Plot loss curves for the small experiment\n",
    "if train_history and val_history:\n",
    "    plt.figure(figsize=(5,3))\n",
    "    plt.plot(train_history, label='train_loss')\n",
    "    plt.plot(val_history, label='val_loss')\n",
    "    plt.xlabel('Epoch')\n",
    "    plt.ylabel('Loss')\n",
    "    plt.title('Experiment Loss Curves')\n",
    "    plt.legend()\n",
    "    plt.tight_layout()\n",
    "    plt.show()"
   ]
  },
  {
   "cell_type": "code",
   "execution_count": 31,
   "id": "4f968054",
   "metadata": {},
   "outputs": [
    {
     "name": "stderr",
     "output_type": "stream",
     "text": [
      "Eval: 100%|██████████| 2/2 [00:00<00:00,  3.80it/s]"
     ]
    },
    {
     "name": "stderr",
     "output_type": "stream",
     "text": [
      "Eval: 100%|██████████| 2/2 [00:00<00:00,  3.80it/s]"
     ]
    },
    {
     "name": "stdout",
     "output_type": "stream",
     "text": [
      "{'exact_match': 0.0, 'cell_accuracy': 0.6699059561128526}\n"
     ]
    },
    {
     "name": "stderr",
     "output_type": "stream",
     "text": [
      "\n"
     ]
    }
   ],
   "source": [
    "@torch.no_grad()\n",
    "def evaluate(model, loader):\n",
    "    model.eval()\n",
    "    exact = 0\n",
    "    total = 0\n",
    "    cell_correct = 0\n",
    "    cell_total = 0\n",
    "    for batch in tqdm(loader, desc='Eval'):\n",
    "        for k in ['enc','dec_in','tgt','enc_pad_mask','dec_pad_mask','row_idx','col_idx']:\n",
    "            batch[k] = batch[k].to(device)\n",
    "        logits = model(batch)\n",
    "        preds = logits.argmax(-1)\n",
    "        mask = batch['tgt'] != PAD\n",
    "        equal = (preds == batch['tgt']) & mask\n",
    "        cell_correct += equal.sum().item()\n",
    "        cell_total += mask.sum().item()\n",
    "        seq_equal = (equal.sum(dim=1) == mask.sum(dim=1))\n",
    "        exact += seq_equal.sum().item()\n",
    "        total += preds.size(0)\n",
    "    return {\n",
    "        'exact_match': exact / max(1, total),\n",
    "        'cell_accuracy': cell_correct / max(1, cell_total)\n",
    "    }\n",
    "metrics = evaluate(model, val_loader)\n",
    "print(metrics)"
   ]
  },
  {
   "cell_type": "code",
   "execution_count": 32,
   "id": "9695b2de",
   "metadata": {},
   "outputs": [
    {
     "name": "stdout",
     "output_type": "stream",
     "text": [
      "Showing 3 validation examples:\n",
      "Task 15663ba9 subset train index 2\n",
      "Input : [[0, 0, 0, 0, 0, 0, 0, 0, 0, 0, 0, 0, 0, 0, 0, 0], [0, 1, 1, 1, 1, 1, 1, 0, 0, 0, 0, 0, 0, 0, 0, 0], [0, 1, 0, 0, 0, 0, 1, 1, 1, 0, 0, 0, 0, 0, 0, 0], [0, 1, 0, 0, 0, 0, 0, 0, 1, 0, 0, 0, 0, 0, 0, 0], [0, 1, 1, 1, 0, 0, 0, 0, 1, 0, 0, 0, 0, 0, 0, 0], [0, 0, 0, 1, 0, 0, 0, 0, 1, 0, 0, 0, 0, 0, 0, 0], [0, 0, 0, 1, 0, 0, 1, 1, 1, 0, 0, 0, 0, 0, 0, 0], [0, 0, 0, 1, 1, 1, 1, 0, 0, 0, 0, 0, 0, 0, 0, 0], [0, 0, 0, 0, 0, 0, 0, 0, 0, 0, 1, 1, 1, 1, 0, 0], [0, 0, 0, 0, 0, 0, 0, 0, 1, 1, 1, 0, 0, 1, 1, 0], [0, 0, 0, 1, 1, 1, 1, 1, 1, 0, 0, 0, 0, 0, 1, 0], [0, 0, 0, 1, 0, 0, 0, 0, 0, 0, 1, 1, 1, 0, 1, 0], [0, 0, 0, 1, 1, 1, 1, 1, 1, 1, 1, 0, 1, 1, 1, 0], [0, 0, 0, 0, 0, 0, 0, 0, 0, 0, 0, 0, 0, 0, 0, 0]]\n",
      "Target: [[0, 0, 0, 0, 0, 0, 0, 0, 0, 0, 0, 0, 0, 0, 0, 0], [0, 4, 1, 1, 1, 1, 4, 0, 0, 0, 0, 0, 0, 0, 0, 0], [0, 1, 0, 0, 0, 0, 2, 1, 4, 0, 0, 0, 0, 0, 0, 0], [0, 1, 0, 0, 0, 0, 0, 0, 1, 0, 0, 0, 0, 0, 0, 0], [0, 4, 1, 2, 0, 0, 0, 0, 1, 0, 0, 0, 0, 0, 0, 0], [0, 0, 0, 1, 0, 0, 0, 0, 1, 0, 0, 0, 0, 0, 0, 0], [0, 0, 0, 1, 0, 0, 2, 1, 4, 0, 0, 0, 0, 0, 0, 0], [0, 0, 0, 4, 1, 1, 4, 0, 0, 0, 0, 0, 0, 0, 0, 0], [0, 0, 0, 0, 0, 0, 0, 0, 0, 0, 4, 1, 1, 4, 0, 0], [0, 0, 0, 0, 0, 0, 0, 0, 4, 1, 2, 0, 0, 2, 4, 0], [0, 0, 0, 4, 1, 1, 1, 1, 2, 0, 0, 0, 0, 0, 1, 0], [0, 0, 0, 1, 0, 0, 0, 0, 0, 0, 2, 1, 2, 0, 1, 0], [0, 0, 0, 4, 1, 1, 1, 1, 1, 1, 4, 0, 4, 1, 4, 0], [0, 0, 0, 0, 0, 0, 0, 0, 0, 0, 0, 0, 0, 0, 0, 0]]\n",
      "Pred  : [[0, 0, 0, 0, 0, 0, 0, 0, 0, 0, 0, 0, 0, 0, 0, 0], [0, 0, 0, 0, 0, 0, 0, 0, 0, 0, 0, 0, 0, 0, 0, 0], [0, 0, 0, 0, 0, 0, 0, 0, 0, 0, 0, 0, 0, 0, 0, 0], [0, 0, 0, 0, 0, 0, 0, 0, 0, 0, 0, 0, 0, 0, 0, 0], [0, 0, 0, 0, 0, 0, 0, 0, 0, 0, 0, 0, 0, 0, 0, 0], [0, 0, 0, 0, 0, 0, 0, 0, 0, 0, 0, 0, 0, 0, 0, 0], [0, 0, 0, 0, 0, 0, 0, 0, 0, 0, 0, 0, 0, 0, 0, 0], [0, 0, 0, 0, 0, 0, 0, 0, 0, 0, 0, 0, 0, 0, 0, 0], [0, 0, 0, 0, 0, 0, 0, 0, 0, 0, 0, 0, 0, 0, 0, 0], [0, 0, 0, 0, 0, 0, 0, 0, 0, 0, 0, 0, 0, 0, 0, 0], [0, 0, 0, 0, 0, 0, 0, 0, 0, 0, 0, 0, 0, 0, 0, 0], [0, 0, 0, 0, 0, 0, 0, 0, 0, 0, 0, 0, 0, 0, 0, 0], [0, 0, 0, 0, 0, 0, 0, 0, 0, 0, 0, 0, 0, 0, 0, 0], [0, 0, 0, 0, 0, 0, 0, 0, 0, 0, 0, 0, 0, 0, 0, 0]]\n",
      "------------------------------------------------------------\n",
      "Task 15663ba9 subset train index 2\n",
      "Input : [[0, 0, 0, 0, 0, 0, 0, 0, 0, 0, 0, 0, 0, 0, 0, 0], [0, 1, 1, 1, 1, 1, 1, 0, 0, 0, 0, 0, 0, 0, 0, 0], [0, 1, 0, 0, 0, 0, 1, 1, 1, 0, 0, 0, 0, 0, 0, 0], [0, 1, 0, 0, 0, 0, 0, 0, 1, 0, 0, 0, 0, 0, 0, 0], [0, 1, 1, 1, 0, 0, 0, 0, 1, 0, 0, 0, 0, 0, 0, 0], [0, 0, 0, 1, 0, 0, 0, 0, 1, 0, 0, 0, 0, 0, 0, 0], [0, 0, 0, 1, 0, 0, 1, 1, 1, 0, 0, 0, 0, 0, 0, 0], [0, 0, 0, 1, 1, 1, 1, 0, 0, 0, 0, 0, 0, 0, 0, 0], [0, 0, 0, 0, 0, 0, 0, 0, 0, 0, 1, 1, 1, 1, 0, 0], [0, 0, 0, 0, 0, 0, 0, 0, 1, 1, 1, 0, 0, 1, 1, 0], [0, 0, 0, 1, 1, 1, 1, 1, 1, 0, 0, 0, 0, 0, 1, 0], [0, 0, 0, 1, 0, 0, 0, 0, 0, 0, 1, 1, 1, 0, 1, 0], [0, 0, 0, 1, 1, 1, 1, 1, 1, 1, 1, 0, 1, 1, 1, 0], [0, 0, 0, 0, 0, 0, 0, 0, 0, 0, 0, 0, 0, 0, 0, 0]]\n",
      "Target: [[0, 0, 0, 0, 0, 0, 0, 0, 0, 0, 0, 0, 0, 0, 0, 0], [0, 4, 1, 1, 1, 1, 4, 0, 0, 0, 0, 0, 0, 0, 0, 0], [0, 1, 0, 0, 0, 0, 2, 1, 4, 0, 0, 0, 0, 0, 0, 0], [0, 1, 0, 0, 0, 0, 0, 0, 1, 0, 0, 0, 0, 0, 0, 0], [0, 4, 1, 2, 0, 0, 0, 0, 1, 0, 0, 0, 0, 0, 0, 0], [0, 0, 0, 1, 0, 0, 0, 0, 1, 0, 0, 0, 0, 0, 0, 0], [0, 0, 0, 1, 0, 0, 2, 1, 4, 0, 0, 0, 0, 0, 0, 0], [0, 0, 0, 4, 1, 1, 4, 0, 0, 0, 0, 0, 0, 0, 0, 0], [0, 0, 0, 0, 0, 0, 0, 0, 0, 0, 4, 1, 1, 4, 0, 0], [0, 0, 0, 0, 0, 0, 0, 0, 4, 1, 2, 0, 0, 2, 4, 0], [0, 0, 0, 4, 1, 1, 1, 1, 2, 0, 0, 0, 0, 0, 1, 0], [0, 0, 0, 1, 0, 0, 0, 0, 0, 0, 2, 1, 2, 0, 1, 0], [0, 0, 0, 4, 1, 1, 1, 1, 1, 1, 4, 0, 4, 1, 4, 0], [0, 0, 0, 0, 0, 0, 0, 0, 0, 0, 0, 0, 0, 0, 0, 0]]\n",
      "Pred  : [[0, 0, 0, 0, 0, 0, 0, 0, 0, 0, 0, 0, 0, 0, 0, 0], [0, 0, 0, 0, 0, 0, 0, 0, 0, 0, 0, 0, 0, 0, 0, 0], [0, 0, 0, 0, 0, 0, 0, 0, 0, 0, 0, 0, 0, 0, 0, 0], [0, 0, 0, 0, 0, 0, 0, 0, 0, 0, 0, 0, 0, 0, 0, 0], [0, 0, 0, 0, 0, 0, 0, 0, 0, 0, 0, 0, 0, 0, 0, 0], [0, 0, 0, 0, 0, 0, 0, 0, 0, 0, 0, 0, 0, 0, 0, 0], [0, 0, 0, 0, 0, 0, 0, 0, 0, 0, 0, 0, 0, 0, 0, 0], [0, 0, 0, 0, 0, 0, 0, 0, 0, 0, 0, 0, 0, 0, 0, 0], [0, 0, 0, 0, 0, 0, 0, 0, 0, 0, 0, 0, 0, 0, 0, 0], [0, 0, 0, 0, 0, 0, 0, 0, 0, 0, 0, 0, 0, 0, 0, 0], [0, 0, 0, 0, 0, 0, 0, 0, 0, 0, 0, 0, 0, 0, 0, 0], [0, 0, 0, 0, 0, 0, 0, 0, 0, 0, 0, 0, 0, 0, 0, 0], [0, 0, 0, 0, 0, 0, 0, 0, 0, 0, 0, 0, 0, 0, 0, 0], [0, 0, 0, 0, 0, 0, 0, 0, 0, 0, 0, 0, 0, 0, 0, 0]]\n",
      "------------------------------------------------------------\n",
      "Task 17b80ad2 subset train index 3\n",
      "Input : [[0, 4, 0, 0, 8, 0, 0, 0, 0, 0, 0, 0, 0, 0, 0, 0, 0], [0, 0, 0, 0, 0, 9, 0, 0, 0, 7, 0, 0, 0, 0, 0, 4, 0], [0, 0, 0, 0, 0, 1, 0, 0, 0, 0, 0, 0, 0, 0, 0, 0, 0], [0, 0, 3, 0, 0, 0, 0, 0, 0, 0, 4, 0, 0, 0, 0, 0, 0], [0, 0, 0, 0, 0, 0, 0, 0, 0, 0, 0, 0, 0, 0, 9, 0, 0], [0, 0, 0, 0, 0, 0, 0, 0, 0, 0, 0, 0, 0, 0, 0, 0, 7], [7, 0, 0, 0, 0, 0, 0, 9, 0, 0, 0, 0, 0, 0, 0, 0, 9], [0, 0, 0, 3, 0, 0, 0, 0, 0, 0, 0, 0, 0, 0, 0, 0, 0], [0, 2, 0, 0, 0, 0, 0, 0, 0, 0, 3, 0, 0, 0, 0, 4, 0], [6, 0, 0, 0, 0, 0, 0, 0, 0, 0, 0, 0, 0, 0, 0, 0, 0], [0, 0, 0, 0, 0, 2, 0, 0, 0, 0, 0, 0, 0, 0, 0, 0, 0], [0, 0, 0, 0, 0, 0, 0, 0, 0, 0, 4, 0, 0, 0, 0, 0, 6], [0, 0, 0, 0, 0, 0, 0, 0, 0, 0, 0, 2, 0, 0, 0, 0, 0], [0, 8, 0, 0, 0, 2, 0, 0, 0, 0, 7, 0, 0, 0, 6, 0, 0], [0, 0, 6, 0, 0, 0, 0, 0, 0, 4, 0, 0, 0, 0, 0, 0, 0], [0, 0, 0, 0, 0, 0, 0, 0, 0, 0, 0, 0, 0, 0, 0, 0, 0], [0, 0, 0, 0, 0, 5, 0, 0, 0, 5, 0, 0, 0, 0, 5, 0, 0]]\n",
      "Target: [[0, 4, 0, 0, 8, 9, 0, 0, 0, 7, 0, 0, 0, 0, 9, 0, 0], [0, 0, 0, 0, 0, 9, 0, 0, 0, 7, 0, 0, 0, 0, 9, 4, 0], [0, 0, 0, 0, 0, 1, 0, 0, 0, 4, 0, 0, 0, 0, 9, 0, 0], [0, 0, 3, 0, 0, 2, 0, 0, 0, 4, 4, 0, 0, 0, 9, 0, 0], [0, 0, 0, 0, 0, 2, 0, 0, 0, 4, 0, 0, 0, 0, 9, 0, 0], [0, 0, 0, 0, 0, 2, 0, 0, 0, 4, 0, 0, 0, 0, 6, 0, 7], [7, 0, 0, 0, 0, 2, 0, 9, 0, 4, 0, 0, 0, 0, 6, 0, 9], [0, 0, 0, 3, 0, 2, 0, 0, 0, 4, 0, 0, 0, 0, 6, 0, 0], [0, 2, 0, 0, 0, 2, 0, 0, 0, 4, 3, 0, 0, 0, 6, 4, 0], [6, 0, 0, 0, 0, 2, 0, 0, 0, 4, 0, 0, 0, 0, 6, 0, 0], [0, 0, 0, 0, 0, 2, 0, 0, 0, 4, 0, 0, 0, 0, 6, 0, 0], [0, 0, 0, 0, 0, 2, 0, 0, 0, 4, 4, 0, 0, 0, 6, 0, 6], [0, 0, 0, 0, 0, 2, 0, 0, 0, 4, 0, 2, 0, 0, 6, 0, 0], [0, 8, 0, 0, 0, 2, 0, 0, 0, 4, 7, 0, 0, 0, 6, 0, 0], [0, 0, 6, 0, 0, 5, 0, 0, 0, 4, 0, 0, 0, 0, 5, 0, 0], [0, 0, 0, 0, 0, 5, 0, 0, 0, 5, 0, 0, 0, 0, 5, 0, 0], [0, 0, 0, 0, 0, 5, 0, 0, 0, 5, 0, 0, 0, 0, 5, 0, 0]]\n",
      "Pred  : [[0, 0, 0, 0, 0, 0, 0, 0, 0, 0, 0, 0, 0, 0, 0, 0, 0], [0, 0, 0, 0, 0, 0, 0, 0, 0, 0, 0, 0, 0, 0, 0, 0, 0], [0, 0, 0, 0, 0, 0, 0, 0, 0, 0, 0, 0, 0, 0, 0, 0, 0], [0, 0, 0, 0, 0, 0, 0, 0, 0, 0, 0, 0, 0, 0, 0, 0, 0], [0, 0, 0, 0, 0, 0, 0, 0, 0, 0, 0, 0, 0, 0, 0, 0, 0], [0, 0, 0, 0, 0, 0, 0, 0, 0, 0, 0, 0, 0, 0, 0, 0, 0], [0, 0, 0, 0, 0, 0, 0, 0, 0, 0, 0, 0, 0, 0, 0, 0, 0], [0, 0, 0, 0, 0, 0, 0, 0, 0, 0, 0, 0, 0, 0, 0, 0, 0], [0, 0, 0, 0, 0, 0, 0, 0, 0, 0, 0, 0, 0, 0, 0, 0, 0], [0, 0, 0, 0, 0, 0, 0, 0, 0, 0, 0, 0, 0, 0, 0, 0, 0], [0, 0, 0, 0, 0, 0, 0, 0, 0, 0, 0, 0, 0, 0, 0, 0, 0], [0, 0, 0, 0, 0, 0, 0, 0, 0, 0, 0, 0, 0, 0, 0, 0, 0], [0, 0, 0, 0, 0, 0, 0, 0, 0, 0, 0, 0, 0, 0, 0, 0, 0], [0, 0, 0, 0, 0, 0, 0, 0, 0, 0, 0, 0, 0, 0, 0, 0, 0], [0, 0, 0, 0, 0, 0, 0, 0, 0, 0, 0, 0, 0, 0, 0, 0, 0], [0, 0, 0, 0, 0, 0, 0, 0, 0, 0, 0, 0, 0, 0, 0, 0, 0], [0, 0, 0, 0, 0, 0, 0, 0, 0, 0, 0, 0, 0, 0, 0, 0, 0]]\n",
      "------------------------------------------------------------\n",
      "Task 17b80ad2 subset train index 3\n",
      "Input : [[0, 4, 0, 0, 8, 0, 0, 0, 0, 0, 0, 0, 0, 0, 0, 0, 0], [0, 0, 0, 0, 0, 9, 0, 0, 0, 7, 0, 0, 0, 0, 0, 4, 0], [0, 0, 0, 0, 0, 1, 0, 0, 0, 0, 0, 0, 0, 0, 0, 0, 0], [0, 0, 3, 0, 0, 0, 0, 0, 0, 0, 4, 0, 0, 0, 0, 0, 0], [0, 0, 0, 0, 0, 0, 0, 0, 0, 0, 0, 0, 0, 0, 9, 0, 0], [0, 0, 0, 0, 0, 0, 0, 0, 0, 0, 0, 0, 0, 0, 0, 0, 7], [7, 0, 0, 0, 0, 0, 0, 9, 0, 0, 0, 0, 0, 0, 0, 0, 9], [0, 0, 0, 3, 0, 0, 0, 0, 0, 0, 0, 0, 0, 0, 0, 0, 0], [0, 2, 0, 0, 0, 0, 0, 0, 0, 0, 3, 0, 0, 0, 0, 4, 0], [6, 0, 0, 0, 0, 0, 0, 0, 0, 0, 0, 0, 0, 0, 0, 0, 0], [0, 0, 0, 0, 0, 2, 0, 0, 0, 0, 0, 0, 0, 0, 0, 0, 0], [0, 0, 0, 0, 0, 0, 0, 0, 0, 0, 4, 0, 0, 0, 0, 0, 6], [0, 0, 0, 0, 0, 0, 0, 0, 0, 0, 0, 2, 0, 0, 0, 0, 0], [0, 8, 0, 0, 0, 2, 0, 0, 0, 0, 7, 0, 0, 0, 6, 0, 0], [0, 0, 6, 0, 0, 0, 0, 0, 0, 4, 0, 0, 0, 0, 0, 0, 0], [0, 0, 0, 0, 0, 0, 0, 0, 0, 0, 0, 0, 0, 0, 0, 0, 0], [0, 0, 0, 0, 0, 5, 0, 0, 0, 5, 0, 0, 0, 0, 5, 0, 0]]\n",
      "Target: [[0, 4, 0, 0, 8, 9, 0, 0, 0, 7, 0, 0, 0, 0, 9, 0, 0], [0, 0, 0, 0, 0, 9, 0, 0, 0, 7, 0, 0, 0, 0, 9, 4, 0], [0, 0, 0, 0, 0, 1, 0, 0, 0, 4, 0, 0, 0, 0, 9, 0, 0], [0, 0, 3, 0, 0, 2, 0, 0, 0, 4, 4, 0, 0, 0, 9, 0, 0], [0, 0, 0, 0, 0, 2, 0, 0, 0, 4, 0, 0, 0, 0, 9, 0, 0], [0, 0, 0, 0, 0, 2, 0, 0, 0, 4, 0, 0, 0, 0, 6, 0, 7], [7, 0, 0, 0, 0, 2, 0, 9, 0, 4, 0, 0, 0, 0, 6, 0, 9], [0, 0, 0, 3, 0, 2, 0, 0, 0, 4, 0, 0, 0, 0, 6, 0, 0], [0, 2, 0, 0, 0, 2, 0, 0, 0, 4, 3, 0, 0, 0, 6, 4, 0], [6, 0, 0, 0, 0, 2, 0, 0, 0, 4, 0, 0, 0, 0, 6, 0, 0], [0, 0, 0, 0, 0, 2, 0, 0, 0, 4, 0, 0, 0, 0, 6, 0, 0], [0, 0, 0, 0, 0, 2, 0, 0, 0, 4, 4, 0, 0, 0, 6, 0, 6], [0, 0, 0, 0, 0, 2, 0, 0, 0, 4, 0, 2, 0, 0, 6, 0, 0], [0, 8, 0, 0, 0, 2, 0, 0, 0, 4, 7, 0, 0, 0, 6, 0, 0], [0, 0, 6, 0, 0, 5, 0, 0, 0, 4, 0, 0, 0, 0, 5, 0, 0], [0, 0, 0, 0, 0, 5, 0, 0, 0, 5, 0, 0, 0, 0, 5, 0, 0], [0, 0, 0, 0, 0, 5, 0, 0, 0, 5, 0, 0, 0, 0, 5, 0, 0]]\n",
      "Pred  : [[0, 0, 0, 0, 0, 0, 0, 0, 0, 0, 0, 0, 0, 0, 0, 0, 0], [0, 0, 0, 0, 0, 0, 0, 0, 0, 0, 0, 0, 0, 0, 0, 0, 0], [0, 0, 0, 0, 0, 0, 0, 0, 0, 0, 0, 0, 0, 0, 0, 0, 0], [0, 0, 0, 0, 0, 0, 0, 0, 0, 0, 0, 0, 0, 0, 0, 0, 0], [0, 0, 0, 0, 0, 0, 0, 0, 0, 0, 0, 0, 0, 0, 0, 0, 0], [0, 0, 0, 0, 0, 0, 0, 0, 0, 0, 0, 0, 0, 0, 0, 0, 0], [0, 0, 0, 0, 0, 0, 0, 0, 0, 0, 0, 0, 0, 0, 0, 0, 0], [0, 0, 0, 0, 0, 0, 0, 0, 0, 0, 0, 0, 0, 0, 0, 0, 0], [0, 0, 0, 0, 0, 0, 0, 0, 0, 0, 0, 0, 0, 0, 0, 0, 0], [0, 0, 0, 0, 0, 0, 0, 0, 0, 0, 0, 0, 0, 0, 0, 0, 0], [0, 0, 0, 0, 0, 0, 0, 0, 0, 0, 0, 0, 0, 0, 0, 0, 0], [0, 0, 0, 0, 0, 0, 0, 0, 0, 0, 0, 0, 0, 0, 0, 0, 0], [0, 0, 0, 0, 0, 0, 0, 0, 0, 0, 0, 0, 0, 0, 0, 0, 0], [0, 0, 0, 0, 0, 0, 0, 0, 0, 0, 0, 0, 0, 0, 0, 0, 0], [0, 0, 0, 0, 0, 0, 0, 0, 0, 0, 0, 0, 0, 0, 0, 0, 0], [0, 0, 0, 0, 0, 0, 0, 0, 0, 0, 0, 0, 0, 0, 0, 0, 0], [0, 0, 0, 0, 0, 0, 0, 0, 0, 0, 0, 0, 0, 0, 0, 0, 0]]\n",
      "------------------------------------------------------------\n",
      "Task 178fcbfb subset train index 0\n",
      "Input : [[0, 0, 0, 0, 0, 0, 0, 0], [0, 3, 0, 0, 0, 0, 0, 0], [0, 0, 0, 0, 0, 0, 0, 0], [0, 0, 0, 0, 0, 0, 0, 0], [0, 0, 0, 3, 0, 0, 0, 0], [0, 0, 0, 0, 0, 0, 0, 0], [0, 1, 0, 0, 0, 0, 0, 0], [0, 0, 0, 0, 0, 2, 0, 0], [0, 0, 0, 0, 0, 0, 0, 0], [0, 0, 0, 0, 0, 0, 0, 0]]\n",
      "Target: [[0, 0, 0, 0, 0, 2, 0, 0], [3, 3, 3, 3, 3, 3, 3, 3], [0, 0, 0, 0, 0, 2, 0, 0], [0, 0, 0, 0, 0, 2, 0, 0], [3, 3, 3, 3, 3, 3, 3, 3], [0, 0, 0, 0, 0, 2, 0, 0], [1, 1, 1, 1, 1, 1, 1, 1], [0, 0, 0, 0, 0, 2, 0, 0], [0, 0, 0, 0, 0, 2, 0, 0], [0, 0, 0, 0, 0, 2, 0, 0]]\n",
      "Pred  : [[0, 0, 0, 0, 0, 0, 0, 0], [0, 0, 0, 0, 0, 0, 0, 0], [0, 0, 0, 0, 0, 0, 0, 0], [0, 0, 0, 0, 0, 0, 0, 0], [0, 0, 0, 0, 0, 0, 0, 0], [0, 0, 0, 0, 0, 0, 0, 0], [0, 0, 0, 0, 0, 0, 0, 0], [0, 0, 0, 0, 0, 0, 0, 0], [0, 0, 0, 0, 0, 0, 0, 0], [0, 0, 0, 0, 0, 0, 0, 0]]\n",
      "------------------------------------------------------------\n",
      "Task 178fcbfb subset train index 0\n",
      "Input : [[0, 0, 0, 0, 0, 0, 0, 0], [0, 3, 0, 0, 0, 0, 0, 0], [0, 0, 0, 0, 0, 0, 0, 0], [0, 0, 0, 0, 0, 0, 0, 0], [0, 0, 0, 3, 0, 0, 0, 0], [0, 0, 0, 0, 0, 0, 0, 0], [0, 1, 0, 0, 0, 0, 0, 0], [0, 0, 0, 0, 0, 2, 0, 0], [0, 0, 0, 0, 0, 0, 0, 0], [0, 0, 0, 0, 0, 0, 0, 0]]\n",
      "Target: [[0, 0, 0, 0, 0, 2, 0, 0], [3, 3, 3, 3, 3, 3, 3, 3], [0, 0, 0, 0, 0, 2, 0, 0], [0, 0, 0, 0, 0, 2, 0, 0], [3, 3, 3, 3, 3, 3, 3, 3], [0, 0, 0, 0, 0, 2, 0, 0], [1, 1, 1, 1, 1, 1, 1, 1], [0, 0, 0, 0, 0, 2, 0, 0], [0, 0, 0, 0, 0, 2, 0, 0], [0, 0, 0, 0, 0, 2, 0, 0]]\n",
      "Pred  : [[0, 0, 0, 0, 0, 0, 0, 0], [0, 0, 0, 0, 0, 0, 0, 0], [0, 0, 0, 0, 0, 0, 0, 0], [0, 0, 0, 0, 0, 0, 0, 0], [0, 0, 0, 0, 0, 0, 0, 0], [0, 0, 0, 0, 0, 0, 0, 0], [0, 0, 0, 0, 0, 0, 0, 0], [0, 0, 0, 0, 0, 0, 0, 0], [0, 0, 0, 0, 0, 0, 0, 0], [0, 0, 0, 0, 0, 0, 0, 0]]\n",
      "------------------------------------------------------------\n"
     ]
    }
   ],
   "source": [
    "# === Qualitative Predictions (Validation Samples) ===\n",
    "from random import sample as _sample\n",
    "model.eval()\n",
    "num_show = min(3, len(val_samples))\n",
    "show_examples = _sample(val_samples, num_show) if num_show > 0 else []\n",
    "print(f'Showing {len(show_examples)} validation examples:')\n",
    "for ex in show_examples:\n",
    "    grid_in = ex.input\n",
    "    target = ex.output\n",
    "    h_out, w_out = len(target), len(target[0]) if target else (0,0)\n",
    "    enc_tokens = torch.tensor(encode_grid(grid_in), dtype=torch.long).unsqueeze(0).to(device)\n",
    "    h_in, w_in = len(grid_in), len(grid_in[0]) if grid_in else (0,0)\n",
    "    row_idx = torch.tensor([r for r in range(h_in) for _ in range(w_in)], dtype=torch.long).unsqueeze(0).to(device)\n",
    "    col_idx = torch.tensor(list(range(w_in))*h_in, dtype=torch.long).unsqueeze(0).to(device)\n",
    "    pad_mask = torch.zeros_like(enc_tokens, dtype=torch.bool)\n",
    "    max_len = h_out * w_out + 2\n",
    "    gen_seq = model.generate(enc_tokens, row_idx, col_idx, pad_mask, max_len=max_len)[0].cpu().tolist()\n",
    "    pred_grid = decode_grid(gen_seq, h_out, w_out)\n",
    "    print(f'Task {ex.task_id} subset {ex.subset} index {ex.index}')\n",
    "    print('Input :', grid_in)\n",
    "    print('Target:', target)\n",
    "    print('Pred  :', pred_grid)\n",
    "    print('-'*60)"
   ]
  },
  {
   "cell_type": "code",
   "execution_count": 33,
   "id": "f6189452",
   "metadata": {},
   "outputs": [],
   "source": [
    "@torch.no_grad()\n",
    "def solve_batch(model, batch, max_len=256):\n",
    "    for k in ['enc','enc_pad_mask','row_idx','col_idx']:\n",
    "        batch[k] = batch[k].to(device)\n",
    "    gen = model.generate(batch['enc'], batch['row_idx'], batch['col_idx'], batch['enc_pad_mask'], max_len=max_len)\n",
    "    preds = gen.cpu().numpy().tolist()\n",
    "    outputs = []\n",
    "    for i, (h_in, w_in, h_out, w_out) in enumerate(batch['meta']):\n",
    "        outputs.append(decode_grid(preds[i], h_out, w_out))\n",
    "    return outputs"
   ]
  },
  {
   "cell_type": "code",
   "execution_count": 34,
   "id": "c31b0179",
   "metadata": {},
   "outputs": [
    {
     "name": "stderr",
     "output_type": "stream",
     "text": [
      "Eval: 100%|██████████| 2/2 [00:00<00:00,  3.81it/s]"
     ]
    },
    {
     "name": "stderr",
     "output_type": "stream",
     "text": [
      "Eval: 100%|██████████| 2/2 [00:00<00:00,  3.81it/s]"
     ]
    },
    {
     "name": "stdout",
     "output_type": "stream",
     "text": [
      "Saved to c:\\Users\\aibel\\OneDrive\\Documents\\Code\\arc-agi\\models\\run_20250824-113414\n"
     ]
    },
    {
     "name": "stderr",
     "output_type": "stream",
     "text": [
      "\n"
     ]
    }
   ],
   "source": [
    "config = {\n",
    "    'model': 'ArcTransformer', 'vocab_size': VOCAB_SIZE,\n",
    "    'd_model': 256, 'nhead': 8, 'num_layers': 4, 'dim_ff': 512,\n",
    "    'batch_size': BATCH_SIZE, 'epochs': EPOCHS, 'seed': SEED,\n",
    "}\n",
    "metrics = evaluate(model, val_loader)\n",
    "with (RUN_DIR / 'metrics.json').open('w') as f:\n",
    "    json.dump(metrics, f, indent=2)\n",
    "torch.save({'model': model.state_dict(), 'config': config}, RUN_DIR / 'model.pt')\n",
    "with (RUN_DIR / 'config.json').open('w') as f:\n",
    "    json.dump(config, f, indent=2)\n",
    "print('Saved to', RUN_DIR)"
   ]
  },
  {
   "cell_type": "code",
   "execution_count": 35,
   "id": "89c11329",
   "metadata": {},
   "outputs": [
    {
     "name": "stdout",
     "output_type": "stream",
     "text": [
      "Encode/Decode test passed\n",
      "Forward pass shape test passed\n",
      "Forward pass shape test passed\n"
     ]
    }
   ],
   "source": [
    "_grid = [[1,2,3],[4,5,6]]\n",
    "assert decode_grid(encode_grid(_grid), 2, 3) == _grid\n",
    "print('Encode/Decode test passed')\n",
    "\n",
    "# Paired augmentation sanity check on first few raw samples (no loader augment to avoid double aug)\n",
    "for i in range(min(3, len(train_samples))):\n",
    "    s = train_samples[i]\n",
    "    aug_in, aug_out = apply_shared_aug(s.input, s.output)\n",
    "    if aug_in and aug_out:\n",
    "        print(f'[AUG SANITY] idx {i} in_shape={len(aug_in)}x{len(aug_in[0])} out_shape={len(aug_out)}x{len(aug_out[0])}')\n",
    "        print('  in_row0:', aug_in[0][:10])\n",
    "        print('  out_row0:', aug_out[0][:10])\n",
    "\n",
    "batch = next(iter(train_loader))\n",
    "for k in ['enc','dec_in','tgt','enc_pad_mask','dec_pad_mask','row_idx','col_idx']:\n",
    "    batch[k] = batch[k].to(device)\n",
    "with torch.no_grad():\n",
    "    logits = model(batch)\n",
    "assert logits.shape[:2] == batch['tgt'].shape\n",
    "print('Forward pass shape test passed')"
   ]
  },
  {
   "cell_type": "code",
   "execution_count": 36,
   "id": "d32aeca1",
   "metadata": {},
   "outputs": [],
   "source": [
    "from itertools import product\n",
    "def sweep(grid):\n",
    "    results = []\n",
    "    for (lr, layers, heads, dropout) in product(grid['lr'], grid['layers'], grid['heads'], grid['dropout']):\n",
    "        m = ArcTransformer(num_layers=layers, nhead=heads).to(device)\n",
    "        opt = torch.optim.AdamW(m.parameters(), lr=lr)\n",
    "        batch = next(iter(train_loader))\n",
    "        for k in ['enc','dec_in','tgt','enc_pad_mask','dec_pad_mask','row_idx','col_idx']:\n",
    "            batch[k] = batch[k].to(device)\n",
    "        with torch.no_grad():\n",
    "            logits = m(batch)\n",
    "            B, L, V = logits.shape\n",
    "            loss = criterion(logits.view(B*L, V), batch['tgt'].view(B*L)).item()\n",
    "        results.append({'lr': lr, 'layers': layers, 'heads': heads, 'dropout': dropout, 'loss': loss})\n",
    "    return sorted(results, key=lambda x: x['loss'])"
   ]
  },
  {
   "cell_type": "code",
   "execution_count": 37,
   "id": "952e2d89",
   "metadata": {},
   "outputs": [
    {
     "name": "stdout",
     "output_type": "stream",
     "text": [
      "TorchScript export skipped: Tracer cannot infer type of ({'enc': tensor([[ 8,  8,  8,  ..., 10, 10, 10],\n",
      "        [ 8,  8,  8,  ...,  8,  8,  8],\n",
      "        [ 0,  0,  0,  ..., 10, 10, 10],\n",
      "        ...,\n",
      "        [ 0,  0,  0,  ..., 10, 10, 10],\n",
      "        [ 0,  0,  0,  ..., 10, 10, 10],\n",
      "        [ 8,  0,  0,  ..., 10, 10, 10]]), 'dec_in': tensor([[11,  9,  9,  ..., 10, 10, 10],\n",
      "        [11,  0,  0,  ..., 10, 10, 10],\n",
      "        [11,  0,  0,  ..., 10, 10, 10],\n",
      "        ...,\n",
      "        [11,  0,  0,  ..., 10, 10, 10],\n",
      "        [11,  0,  0,  ..., 10, 10, 10],\n",
      "        [11,  8,  0,  ..., 10, 10, 10]]), 'tgt': tensor([[ 9,  9,  9,  ..., 10, 10, 10],\n",
      "        [ 0,  0,  0,  ..., 10, 10, 10],\n",
      "        [ 0,  0,  0,  ..., 10, 10, 10],\n",
      "        ...,\n",
      "        [ 0,  0,  0,  ..., 10, 10, 10],\n",
      "        [ 0,  0,  3,  ..., 10, 10, 10],\n",
      "        [ 8,  0,  0,  ..., 10, 10, 10]]), 'enc_pad_mask': tensor([[False, False, False,  ...,  True,  True,  True],\n",
      "        [False, False, False,  ..., False, False, False],\n",
      "        [False, False, False,  ...,  True,  True,  True],\n",
      "        ...,\n",
      "        [False, False, False,  ...,  True,  True,  True],\n",
      "        [False, False, False,  ...,  True,  True,  True],\n",
      "        [False, False, False,  ...,  True,  True,  True]]), 'dec_pad_mask': tensor([[False, False, False,  ...,  True,  True,  True],\n",
      "        [False, False, False,  ...,  True,  True,  True],\n",
      "        [False, False, False,  ...,  True,  True,  True],\n",
      "        ...,\n",
      "        [False, False, False,  ...,  True,  True,  True],\n",
      "        [False, False, False,  ...,  True,  True,  True],\n",
      "        [False, False, False,  ...,  True,  True,  True]]), 'row_idx': tensor([[ 0,  0,  0,  ...,  0,  0,  0],\n",
      "        [ 0,  0,  0,  ..., 21, 21, 21],\n",
      "        [ 0,  0,  0,  ...,  0,  0,  0],\n",
      "        ...,\n",
      "        [ 0,  0,  0,  ...,  0,  0,  0],\n",
      "        [ 0,  0,  0,  ...,  0,  0,  0],\n",
      "        [ 0,  0,  0,  ...,  0,  0,  0]]), 'col_idx': tensor([[ 0,  1,  2,  ...,  0,  0,  0],\n",
      "        [ 0,  1,  2,  ..., 26, 27, 28],\n",
      "        [ 0,  1,  2,  ...,  0,  0,  0],\n",
      "        ...,\n",
      "        [ 0,  1,  2,  ...,  0,  0,  0],\n",
      "        [ 0,  1,  2,  ...,  0,  0,  0],\n",
      "        [ 0,  1,  2,  ...,  0,  0,  0]]), 'meta': [(19, 19, 5, 17), (22, 29, 6, 27), (12, 15, 12, 15), (13, 13, 13, 13), (14, 16, 14, 16), (3, 3, 9, 9), (3, 3, 9, 9), (3, 3, 9, 9), (3, 3, 9, 9), (16, 16, 16, 16), (16, 16, 16, 16), (10, 8, 10, 8), (9, 9, 9, 9), (10, 11, 10, 11), (12, 12, 12, 12), (13, 13, 13, 13)]},)\n",
      ":Dictionary inputs to traced functions must have consistent type. Found Tensor and List[Tuple[int, int, int, int]]\n"
     ]
    }
   ],
   "source": [
    "try:\n",
    "    example = next(iter(val_loader))\n",
    "    for k in ['enc','dec_in','tgt','enc_pad_mask','dec_pad_mask','row_idx','col_idx']:\n",
    "        example[k] = example[k].to(device)\n",
    "    ts_path = RUN_DIR / 'model_ts.pt'\n",
    "    scripted = torch.jit.trace(model, (example))\n",
    "    scripted.save(str(ts_path))\n",
    "    print('Saved TorchScript to', ts_path)\n",
    "except Exception as e:\n",
    "    print('TorchScript export skipped:', e)\n",
    "try:\n",
    "    import onnx\n",
    "    onnx_path = RUN_DIR / 'model.onnx'\n",
    "    print('ONNX export not implemented in this baseline')\n",
    "except Exception as e:\n",
    "    pass"
   ]
  },
  {
   "cell_type": "code",
   "execution_count": 38,
   "id": "049f64a7",
   "metadata": {},
   "outputs": [
    {
     "name": "stderr",
     "output_type": "stream",
     "text": [
      "Eval(gen): 100%|██████████| 2/2 [00:53<00:00, 26.54s/it]"
     ]
    },
    {
     "name": "stderr",
     "output_type": "stream",
     "text": [
      "Eval(gen): 100%|██████████| 2/2 [00:53<00:00, 26.54s/it]"
     ]
    },
    {
     "name": "stdout",
     "output_type": "stream",
     "text": [
      "{'exact_match_seq': 0.0, 'cell_accuracy_seq': 0.503448275862069}\n"
     ]
    },
    {
     "name": "stderr",
     "output_type": "stream",
     "text": [
      "\n"
     ]
    }
   ],
   "source": [
    "@torch.no_grad()\n",
    "def evaluate_generate(model, loader, max_len_factor=1.2):\n",
    "    model.eval()\n",
    "    exact = 0\n",
    "    total = 0\n",
    "    cell_correct = 0\n",
    "    cell_total = 0\n",
    "    for batch in tqdm(loader, desc='Eval(gen)'):\n",
    "        enc = batch['enc'].to(device)\n",
    "        row_idx = batch['row_idx'].to(device)\n",
    "        col_idx = batch['col_idx'].to(device)\n",
    "        enc_pad_mask = batch['enc_pad_mask'].to(device)\n",
    "        gen_max = [max(1, h_out*w_out) + 1 for (_, _, h_out, w_out) in batch['meta']]\n",
    "        max_len = int(max(gen_max) * max_len_factor)\n",
    "        gen = model.generate(enc, row_idx, col_idx, enc_pad_mask, max_len=max_len)\n",
    "        preds = gen.cpu().tolist()\n",
    "        tgt = batch['tgt']\n",
    "        pad_mask = (tgt != PAD)\n",
    "        for i in range(tgt.size(0)):\n",
    "            tlen = pad_mask[i].sum().item()\n",
    "            p = preds[i][:tlen]\n",
    "            t = tgt[i, :tlen].tolist()\n",
    "            cell_total += tlen\n",
    "            cell_correct += sum(int(pi == ti) for pi, ti in zip(p, t))\n",
    "            if p == t:\n",
    "                exact += 1\n",
    "            total += 1\n",
    "    return {\n",
    "        'exact_match_seq': exact / max(1, total),\n",
    "        'cell_accuracy_seq': cell_correct / max(1, cell_total)\n",
    "    }\n",
    "gen_metrics = evaluate_generate(model, val_loader)\n",
    "print(gen_metrics)"
   ]
  },
  {
   "cell_type": "code",
   "execution_count": null,
   "id": "305f1ef4",
   "metadata": {},
   "outputs": [],
   "source": []
  },
  {
   "cell_type": "code",
   "execution_count": 39,
   "id": "6d236390",
   "metadata": {},
   "outputs": [
    {
     "name": "stdout",
     "output_type": "stream",
     "text": [
      "== ArcSeqDataset ==\n",
      "Error getting ArcSeqDataset source: source code not available\n",
      "\n",
      "== collate_fn or collate ==\n",
      "\n",
      "-- collate_batch --\n",
      "\n",
      "def collate_batch(batch):\n",
      "    B = len(batch)\n",
      "    enc_lens = [len(b['enc']) for b in batch]\n",
      "    dec_lens = [len(b['dec_in']) for b in batch]\n",
      "    max_enc = max(enc_lens) if enc_lens else 0\n",
      "    max_dec = max(dec_lens) if dec_lens else 0\n",
      "    enc = torch.full((B, max_enc), PAD, dtype=torch.long)\n",
      "    dec_in = torch.full((B, max_dec), PAD, dtype=torch.long)\n",
      "    tgt = torch.full((B, max_dec), PAD, dtype=torch.long)\n",
      "    enc_pad_mask = torch.ones((B, max_enc), dtype=torch.bool)\n",
      "    dec_pad_mask = torch.ones((B, max_dec), dtype=torch.bool)\n",
      "    row_idx = torch.zeros((B, max_enc), dtype=torch.long)\n",
      "    col_idx = torch.zeros((B, max_enc), dtype=torch.long)\n",
      "    meta = []\n",
      "    for i, b in enumerate(batch):\n",
      "        L_e = len(b['enc']); L_d = len(b['dec_in'])\n",
      "        enc[i, :L_e] = b['enc']\n",
      "        dec_in[i, :L_d] = b['dec_in']\n",
      "        tgt[i, :len(b['tgt'])] = b['tgt']\n",
      "        enc_pad_mask[i, :L_e] = False\n",
      "        dec_pad_mask[i, :L_d] = False\n",
      "        r, c = make_row_col_indices(b['h_in'], b['w_in'])\n",
      "        if L_e > 0 and len(r) == L_e:\n",
      "            row_idx[i, :L_e] = torch.tensor(r, dtype=torch.long)\n",
      "            col_idx[i, :L_e] = torch.tensor(c, dtype=torch.long)\n",
      "        meta.append((b['h_in'], b['w_in'], b['h_out'], b['w_out']))\n",
      "    return {\n",
      "        'enc': enc, 'dec_in': dec_in, 'tgt': tgt,\n",
      "        'enc_pad_mask': enc_pad_mask, 'dec_pad_mask': dec_pad_mask,\n",
      "        'row_idx': row_idx, 'col_idx': col_idx, 'meta': meta\n",
      "    }\n",
      "\n",
      "\n",
      "== tokenization helpers (encode/decode) ==\n",
      "\n",
      "-- encode_grid --\n",
      "\n",
      "def encode_grid(grid: List[List[int]] | List[int] | int) -> List[int]:\n",
      "    arr = normalize_grid(grid)\n",
      "    return arr.reshape(-1).tolist()\n",
      "\n",
      "\n",
      "-- decode_grid --\n",
      "\n",
      "def decode_grid(tokens: List[int], h: int, w: int) -> List[List[int]]:\n",
      "    seq = tokens[: h*w]\n",
      "    return [seq[i*w:(i+1)*w] for i in range(h)]\n",
      "\n",
      "\n",
      "== model.generate ==\n",
      "    @torch.no_grad()\n",
      "    def generate(self, enc, row_idx, col_idx, enc_pad_mask, max_len=256):\n",
      "        self.eval()\n",
      "        memory = self.encode(enc, row_idx, col_idx, src_key_padding_mask=enc_pad_mask)\n",
      "        B = enc.size(0)\n",
      "        ys = torch.full((B, 1), BOS, dtype=torch.long, device=enc.device)\n",
      "        for _ in range(max_len):\n",
      "            logits = self.decode(ys, memory,\n",
      "                                 tgt_key_padding_mask=torch.zeros_like(ys, dtype=torch.bool),\n",
      "                                 memory_key_padding_mask=enc_pad_mask)\n",
      "            next_tok = logits[:, -1].argmax(-1, keepdim=True)\n",
      "            ys = torch.cat([ys, next_tok], dim=1)\n",
      "            if (next_tok == EOS).all():\n",
      "                break\n",
      "        return ys[:, 1:]\n",
      "\n"
     ]
    }
   ],
   "source": [
    "import inspect\n",
    "from textwrap import indent\n",
    "\n",
    "print(\"== ArcSeqDataset ==\")\n",
    "try:\n",
    "    print(inspect.getsource(ArcSeqDataset))\n",
    "except Exception as e:\n",
    "    print(\"Error getting ArcSeqDataset source:\", e)\n",
    "\n",
    "print(\"\\n== collate_fn or collate ==\")\n",
    "for name in list(globals().keys()):\n",
    "    if name.lower().startswith(\"collate\"):\n",
    "        obj = globals()[name]\n",
    "        if callable(obj):\n",
    "            print(f\"\\n-- {name} --\\n\")\n",
    "            try:\n",
    "                print(inspect.getsource(obj))\n",
    "            except Exception as e:\n",
    "                print(\"(no source)\", e)\n",
    "\n",
    "print(\"\\n== tokenization helpers (encode/decode) ==\")\n",
    "for name in [n for n in globals().keys() if any(n.lower().startswith(p) for p in (\"encode\",\"decode\",\"grid_to\",\"seq_to\"))]:\n",
    "    obj = globals()[name]\n",
    "    if callable(obj):\n",
    "        print(f\"\\n-- {name} --\\n\")\n",
    "        try:\n",
    "            print(inspect.getsource(obj))\n",
    "        except Exception as e:\n",
    "            print(\"(no source)\", e)\n",
    "\n",
    "print(\"\\n== model.generate ==\")\n",
    "try:\n",
    "    print(inspect.getsource(model.generate))\n",
    "except Exception as e:\n",
    "    print(\"Error getting model.generate source:\", e)\n"
   ]
  },
  {
   "cell_type": "code",
   "execution_count": 40,
   "id": "f2926c47",
   "metadata": {},
   "outputs": [
    {
     "name": "stdout",
     "output_type": "stream",
     "text": [
      "Train sample 0:\n",
      "keys: ['enc', 'dec_in', 'tgt', 'h_in', 'w_in', 'h_out', 'w_out']\n",
      "enc: <class 'torch.Tensor'> -> tensor([7, 3, 9, 4])\n",
      "dec_in: <class 'torch.Tensor'> -> tensor([11,  9,  7,  3,  4,  9,  7,  3,  4,  9,  7,  3,  4,  9,  7,  3,  4,  9,\n",
      "         7,  3,  4,  9,  7,  3,  4,  9,  7,  3,  4,  9,  7,  3,  4,  9,  7,  3,\n",
      "         4])\n",
      "tgt: <class 'torch.Tensor'> -> tensor([ 9,  7,  3,  4,  9,  7,  3,  4,  9,  7,  3,  4,  9,  7,  3,  4,  9,  7,\n",
      "         3,  4,  9,  7,  3,  4,  9,  7,  3,  4,  9,  7,  3,  4,  9,  7,  3,  4,\n",
      "        12])\n",
      "h_in 2\n",
      "w_in 2\n",
      "h_out 6\n",
      "w_out 6\n",
      "\n",
      "Val sample 0:\n",
      "keys: ['enc', 'dec_in', 'tgt', 'h_in', 'w_in', 'h_out', 'w_out']\n",
      "enc: <class 'torch.Tensor'> -> tensor([8, 8, 8, 8, 8, 8, 8, 8, 8, 8, 8, 8, 8, 8, 8, 8, 8, 8, 8, 5, 1, 1, 1, 1,\n",
      "        1, 8, 1, 1, 1, 1, 1, 8, 1, 1, 1, 1, 1, 8, 5, 1, 8, 2, 8, 1, 8, 1, 6, 6,\n",
      "        6, 1, 8, 1, 7, 7, 7, 1, 8, 5, 1, 2, 2, 2, 1, 8, 1, 6, 6, 6, 1, 8, 1, 7,\n",
      "        7, 7, 1, 8, 5, 1, 8, 2, 8, 1, 8, 1, 6, 6, 6, 1, 8, 1, 7, 7, 7, 1, 8, 5,\n",
      "        1, 1, 1, 1, 1, 8, 1, 1, 1, 1, 1, 8, 1, 1, 1, 1, 1, 8, 8, 8, 8, 8, 8, 8,\n",
      "        8, 8, 8, 8, 8, 8, 8, 8, 8, 8, 8, 8, 8, 9, 1, 1, 1, 1, 1, 8, 1, 1, 1, 1,\n",
      "        1, 8, 1, 1, 1, 1, 1, 8, 9, 1, 3, 3, 3, 1, 8, 1, 2, 8, 8, 1, 8, 1, 2, 2,\n",
      "        2, 1, 8, 9, 1, 3, 3, 3, 1, 8, 1, 2, 2, 8, 1, 8, 1, 8, 2, 8, 1, 8, 9, 1,\n",
      "        3, 3, 3, 1, 8, 1, 8, 2, 2, 1, 8, 1, 8, 8, 8, 1, 8, 9, 1, 1, 1, 1, 1, 8,\n",
      "        1, 1, 1, 1, 1, 8, 1, 1, 1, 1, 1, 8, 8, 8, 8, 8, 8, 8, 8, 8, 8, 8, 8, 8,\n",
      "        8, 8, 8, 8, 8, 8, 8, 0, 1, 1, 1, 1, 1, 8, 1, 1, 1, 1, 1, 8, 1, 1, 1, 1,\n",
      "        1, 8, 0, 1, 8, 2, 8, 1, 8, 1, 2, 8, 8, 1, 8, 1, 2, 2, 2, 1, 8, 0, 1, 2,\n",
      "        2, 2, 1, 8, 1, 2, 2, 8, 1, 8, 1, 8, 2, 8, 1, 8, 0, 1, 8, 2, 8, 1, 8, 1,\n",
      "        8, 2, 2, 1, 8, 1, 8, 8, 8, 1, 8, 0, 1, 1, 1, 1, 1, 8, 1, 1, 1, 1, 1, 8,\n",
      "        1, 1, 1, 1, 1, 8, 8, 8, 8, 8, 8, 8, 8, 8, 8, 8, 8, 8, 8, 8, 8, 8, 8, 8,\n",
      "        8])\n",
      "dec_in: <class 'torch.Tensor'> -> tensor([11,  9,  9,  9,  9,  9,  8,  5,  5,  5,  5,  5,  8,  5,  5,  5,  5,  5,\n",
      "         9,  8,  3,  8,  9,  8,  5,  6,  8,  8,  5,  8,  5,  7,  7,  7,  5,  9,\n",
      "         3,  3,  3,  9,  8,  5,  6,  6,  8,  5,  8,  5,  8,  7,  8,  5,  9,  8,\n",
      "         3,  8,  9,  8,  5,  8,  6,  6,  5,  8,  5,  8,  8,  8,  5,  9,  9,  9,\n",
      "         9,  9,  8,  5,  5,  5,  5,  5,  8,  5,  5,  5,  5,  5])\n",
      "tgt: <class 'torch.Tensor'> -> tensor([ 9,  9,  9,  9,  9,  8,  5,  5,  5,  5,  5,  8,  5,  5,  5,  5,  5,  9,\n",
      "         8,  3,  8,  9,  8,  5,  6,  8,  8,  5,  8,  5,  7,  7,  7,  5,  9,  3,\n",
      "         3,  3,  9,  8,  5,  6,  6,  8,  5,  8,  5,  8,  7,  8,  5,  9,  8,  3,\n",
      "         8,  9,  8,  5,  8,  6,  6,  5,  8,  5,  8,  8,  8,  5,  9,  9,  9,  9,\n",
      "         9,  8,  5,  5,  5,  5,  5,  8,  5,  5,  5,  5,  5, 12])\n",
      "h_in 19\n",
      "w_in 19\n",
      "h_out 5\n",
      "w_out 17\n",
      "\n",
      "train_loader.collate_fn: <function collate_batch at 0x000002CB50B33BA0>\n"
     ]
    }
   ],
   "source": [
    "def peek_sample(ds, idx=0):\n",
    "    s = ds[idx]\n",
    "    print(\"keys:\", list(s.keys()))\n",
    "    for k in (\"enc\",\"dec_in\",\"tgt\"):\n",
    "        v = s.get(k)\n",
    "        if isinstance(v, list):\n",
    "            print(f\"{k}: len={len(v)} head={v[:10]}\")\n",
    "        else:\n",
    "            print(f\"{k}: {type(v)} -> {v}\")\n",
    "    for k in (\"h_in\",\"w_in\",\"h_out\",\"w_out\"):\n",
    "        print(k, s.get(k))\n",
    "\n",
    "print(\"Train sample 0:\")\n",
    "peek_sample(train_ds, 0)\n",
    "\n",
    "print(\"\\nVal sample 0:\")\n",
    "peek_sample(val_ds, 0)\n",
    "\n",
    "print(\"\\ntrain_loader.collate_fn:\", getattr(train_loader, 'collate_fn', None))"
   ]
  },
  {
   "cell_type": "code",
   "execution_count": 41,
   "id": "0f5c2b75",
   "metadata": {},
   "outputs": [
    {
     "name": "stdout",
     "output_type": "stream",
     "text": [
      "Train len summaries:\n",
      "{'avg_dec_in': 134.4, 'avg_tgt': 134.4, 'avg_area': 133.4, 'eos_present_cnt': 20}\n",
      "First 3: [{'i': 0, 'dec_in': 37, 'tgt': 37, 'area': 36, 'has_eos': tensor(True)}, {'i': 1, 'dec_in': 37, 'tgt': 37, 'area': 36, 'has_eos': tensor(True)}, {'i': 2, 'dec_in': 82, 'tgt': 82, 'area': 81, 'has_eos': tensor(True)}]\n",
      "\n",
      "Val len summaries:\n",
      "{'avg_dec_in': 159.5, 'avg_tgt': 159.5, 'avg_area': 158.5, 'eos_present_cnt': 20}\n",
      "First 3: [{'i': 0, 'dec_in': 86, 'tgt': 86, 'area': 85, 'has_eos': tensor(True)}, {'i': 1, 'dec_in': 163, 'tgt': 163, 'area': 162, 'has_eos': tensor(True)}, {'i': 2, 'dec_in': 181, 'tgt': 181, 'area': 180, 'has_eos': tensor(True)}]\n"
     ]
    }
   ],
   "source": [
    "def has_eos(sample):\n",
    "    return len(sample['tgt']) > 0 and sample['tgt'][-1] == EOS\n",
    "\n",
    "# Inspect first 20 samples from train/val\n",
    "train_checks = []\n",
    "for i in range(min(20, len(train_ds))):\n",
    "    s = train_ds[i]\n",
    "    area = int(s['h_out']) * int(s['w_out'])\n",
    "    train_checks.append({\n",
    "        'i': i,\n",
    "        'dec_in': len(s['dec_in']),\n",
    "        'tgt': len(s['tgt']),\n",
    "        'area': area,\n",
    "        'has_eos': has_eos(s)\n",
    "    })\n",
    "\n",
    "val_checks = []\n",
    "for i in range(min(20, len(val_ds))):\n",
    "    s = val_ds[i]\n",
    "    area = int(s['h_out']) * int(s['w_out'])\n",
    "    val_checks.append({\n",
    "        'i': i,\n",
    "        'dec_in': len(s['dec_in']),\n",
    "        'tgt': len(s['tgt']),\n",
    "        'area': area,\n",
    "        'has_eos': has_eos(s)\n",
    "    })\n",
    "\n",
    "print('Train len summaries:')\n",
    "print({\n",
    "    'avg_dec_in': sum(x['dec_in'] for x in train_checks)/len(train_checks),\n",
    "    'avg_tgt': sum(x['tgt'] for x in train_checks)/len(train_checks),\n",
    "    'avg_area': sum(x['area'] for x in train_checks)/len(train_checks),\n",
    "    'eos_present_cnt': sum(1 for x in train_checks if x['has_eos'])\n",
    "})\n",
    "print('First 3:', train_checks[:3])\n",
    "\n",
    "print('\\nVal len summaries:')\n",
    "print({\n",
    "    'avg_dec_in': sum(x['dec_in'] for x in val_checks)/len(val_checks),\n",
    "    'avg_tgt': sum(x['tgt'] for x in val_checks)/len(val_checks),\n",
    "    'avg_area': sum(x['area'] for x in val_checks)/len(val_checks),\n",
    "    'eos_present_cnt': sum(1 for x in val_checks if x['has_eos'])\n",
    "})\n",
    "print('First 3:', val_checks[:3])"
   ]
  },
  {
   "cell_type": "code",
   "execution_count": 46,
   "id": "576807a5",
   "metadata": {},
   "outputs": [
    {
     "name": "stdout",
     "output_type": "stream",
     "text": [
      "Loaded best checkpoint: c:\\Users\\aibel\\OneDrive\\Documents\\Code\\arc-agi\\models\\run_20250824-113414\\best.pt\n",
      "Generate eval (val): {'exact_match': 0.0, 'cell_accuracy': 0.5066246056782334, 'n_examples': 20}\n",
      "Generate eval (val): {'exact_match': 0.0, 'cell_accuracy': 0.5066246056782334, 'n_examples': 20}\n"
     ]
    }
   ],
   "source": [
    "import os\n",
    "\n",
    "def load_best(model, path):\n",
    "    if os.path.exists(path):\n",
    "        sd = torch.load(path, map_location=device)\n",
    "        if isinstance(sd, dict) and 'model' in sd:\n",
    "            model.load_state_dict(sd['model'])\n",
    "        else:\n",
    "            model.load_state_dict(sd)\n",
    "        print(f\"Loaded best checkpoint: {path}\")\n",
    "    else:\n",
    "        print(f\"Best checkpoint not found: {path}\")\n",
    "load_best(model, str(best_path))\n",
    "\n",
    "# NOTE: Model may have been trained before paired augmentation fix; consider retraining for cleaner learning signal.\n",
    "@torch.no_grad()\n",
    "def evaluate_generate(model, loader, max_gen_len=None, limit=None):\n",
    "    model.eval()\n",
    "    total_cells = 0\n",
    "    correct_cells = 0\n",
    "    exact_matches = 0\n",
    "    total_examples = 0\n",
    "    for bi, batch in enumerate(loader):\n",
    "        enc = batch['enc'].to(device)\n",
    "        enc_pad = batch['enc_pad_mask'].to(device)\n",
    "        row_idx = batch['row_idx'].to(device)\n",
    "        col_idx = batch['col_idx'].to(device)\n",
    "        tgt = batch['tgt'].to(device)\n",
    "        B = enc.size(0)\n",
    "        metas = batch['meta']\n",
    "        areas = [int(h_out) * int(w_out) for (_, _, h_out, w_out) in metas]\n",
    "        max_area = max(areas) if areas else 0\n",
    "        max_len = max_gen_len or (max_area + 2)\n",
    "        ys = model.generate(enc, row_idx, col_idx, enc_pad, max_len=max_len)\n",
    "        for i in range(B):\n",
    "            area = areas[i]\n",
    "            tgt_seq = tgt[i, :area]\n",
    "            pred = ys[i]\n",
    "            eos_pos = (pred == EOS).nonzero(as_tuple=False)\n",
    "            if len(eos_pos) > 0:\n",
    "                pred = pred[: int(eos_pos[0].item())]\n",
    "            pred_area = pred[:area]\n",
    "            if pred_area.numel() < area:\n",
    "                pad = torch.full((area - pred_area.numel(),), PAD, dtype=pred_area.dtype, device=pred_area.device)\n",
    "                pred_area = torch.cat([pred_area, pad], dim=0)\n",
    "            else:\n",
    "                pred_area = pred_area[:area]\n",
    "            correct = (pred_area == tgt_seq).sum().item()\n",
    "            correct_cells += correct\n",
    "            total_cells += area\n",
    "            if correct == area and pred.numel() >= area:\n",
    "                exact_matches += 1\n",
    "            total_examples += 1\n",
    "        if limit and total_examples >= limit:\n",
    "            break\n",
    "    return {\n",
    "        'exact_match': exact_matches / max(1, total_examples),\n",
    "        'cell_accuracy': correct_cells / max(1, total_cells),\n",
    "        'n_examples': total_examples,\n",
    "    }\n",
    "metrics_gen = evaluate_generate(model, val_loader, max_gen_len=MAX_H*MAX_W+2)\n",
    "print(\"Generate eval (val):\", metrics_gen)"
   ]
  },
  {
   "cell_type": "code",
   "execution_count": null,
   "id": "6ec1b0ad",
   "metadata": {},
   "outputs": [],
   "source": []
  },
  {
   "cell_type": "code",
   "execution_count": 47,
   "id": "6abbd721",
   "metadata": {},
   "outputs": [
    {
     "name": "stdout",
     "output_type": "stream",
     "text": [
      "Showing 5 validation samples\n"
     ]
    },
    {
     "data": {
      "image/png": "[encoded data removed]",
      "text/plain": [
       "<Figure size 900x1500 with 15 Axes>"
      ]
     },
     "metadata": {},
     "output_type": "display_data"
    },
    {
     "name": "stdout",
     "output_type": "stream",
     "text": [
      "{'samples': 5, 'avg_cell_accuracy': 0.5039783767988897, 'exact_match_rate': 0.0}\n"
     ]
    }
   ],
   "source": [
    "\n",
    "import random, numpy as np, matplotlib.pyplot as plt, torch\n",
    "\n",
    "if 'val_samples' not in globals():\n",
    "    print('val_samples not defined; run earlier cells first.')\n",
    "else:\n",
    "    random.seed(1234)\n",
    "    n_show = min(5, len(val_samples))\n",
    "    picked = random.sample(val_samples, n_show) if n_show else []\n",
    "    print(f\"Showing {len(picked)} validation samples\")\n",
    "\n",
    "    def _predict_grid(grid_in, target_out):\n",
    "        h_out = len(target_out)\n",
    "        w_out = len(target_out[0]) if h_out else 0\n",
    "        enc_tokens = torch.tensor(encode_grid(grid_in), dtype=torch.long).unsqueeze(0).to(device)\n",
    "        h_in = len(grid_in); w_in = len(grid_in[0]) if h_in else 0\n",
    "        row_idx = torch.tensor([r for r in range(h_in) for _ in range(w_in)], dtype=torch.long).unsqueeze(0).to(device)\n",
    "        col_idx = torch.tensor(list(range(w_in))*h_in, dtype=torch.long).unsqueeze(0).to(device)\n",
    "        pad_mask = torch.zeros_like(enc_tokens, dtype=torch.bool)\n",
    "        max_len = h_out * w_out + 2\n",
    "        with torch.no_grad():\n",
    "            gen_seq = model.generate(enc_tokens, row_idx, col_idx, pad_mask, max_len=max_len)[0].cpu().tolist()\n",
    "        pred_grid = decode_grid(gen_seq, h_out, w_out)\n",
    "        return pred_grid\n",
    "\n",
    "    def _grid_accuracy(pred, tgt):\n",
    "        if not tgt: return 0.0, False\n",
    "        flat_t = [c for row in tgt for c in row]\n",
    "        flat_p = [c for row in pred for c in row][:len(flat_t)]\n",
    "        correct = sum(int(a==b) for a,b in zip(flat_p, flat_t))\n",
    "        return correct / max(1, len(flat_t)), (correct == len(flat_t))\n",
    "\n",
    "    def _show_color_grid(ax, grid, title):\n",
    "        arr = np.array(grid if grid else [[]], dtype=int)\n",
    "        cmap = plt.get_cmap('tab10', 10)\n",
    "        if arr.size == 0:\n",
    "            ax.text(0.5,0.5,'(empty)', ha='center', va='center')\n",
    "        else:\n",
    "            ax.imshow(arr, cmap=cmap, vmin=0, vmax=9)\n",
    "        ax.set_title(title, fontsize=9)\n",
    "        ax.set_xticks([]); ax.set_yticks([])\n",
    "\n",
    "    if n_show == 0:\n",
    "        print('No validation samples available.')\n",
    "    else:\n",
    "        rows, cols = n_show, 3\n",
    "        fig, axes = plt.subplots(rows, cols, figsize=(cols*3, rows*3))\n",
    "        if rows == 1:\n",
    "            axes = np.array([axes])\n",
    "        cell_accs, exact_flags = [], []\n",
    "        for r, ex in enumerate(picked):\n",
    "            inp = ex.input\n",
    "            tgt = ex.output\n",
    "            pred = _predict_grid(inp, tgt)\n",
    "            acc, exact = _grid_accuracy(pred, tgt)\n",
    "            cell_accs.append(acc); exact_flags.append(exact)\n",
    "            _show_color_grid(axes[r,0], inp, f\"In {ex.task_id[:6]} {ex.subset}[{ex.index}]\")\n",
    "            _show_color_grid(axes[r,1], tgt, 'Target')\n",
    "            _show_color_grid(axes[r,2], pred, f\"Pred acc={acc*100:.1f}% {'✓' if exact else ''}\")\n",
    "        plt.tight_layout(); plt.show()\n",
    "        overall_cell_acc = sum(cell_accs)/len(cell_accs) if cell_accs else 0.0\n",
    "        overall_exact = sum(exact_flags)/len(exact_flags) if exact_flags else 0.0\n",
    "        print({'samples': len(picked), 'avg_cell_accuracy': overall_cell_acc, 'exact_match_rate': overall_exact})"
   ]
  },
  {
   "cell_type": "code",
   "execution_count": null,
   "id": "bbdc1f21",
   "metadata": {},
   "outputs": [
    {
     "name": "stdout",
     "output_type": "stream",
     "text": [
      "Color stats (train): {'total_output_cells': 28452, 'n_colors_present': 10, 'top5': [(0, 17166), (1, 1885), (2, 1782), (8, 1761), (4, 1648)], 'majority_color': 0, 'majority_frac': 0.6033319274567693}\n",
      "Majority baseline: {'baseline_cell_acc': 0.6033319274567693, 'baseline_exact_match': 0.0}\n",
      "Model val perf: {'model_cell_acc_val': 0.6699059561128526, 'uniform_prediction_rate': 0.1}\n",
      "If model_cell_acc_val <= baseline_cell_acc and uniform_prediction_rate high -> collapse confirmed.\n"
     ]
    }
   ],
   "source": [
    "# === Color Imbalance & Majority Baseline Diagnostics === | cheating model \n",
    "from collections import Counter\n",
    "import numpy as np, torch\n",
    "\n",
    "def color_stats(samples):\n",
    "    freq = Counter()\n",
    "    total = 0\n",
    "    for s in samples:\n",
    "        for row in s.output:\n",
    "            for c in row:\n",
    "                freq[c] += 1\n",
    "                total += 1\n",
    "    top = freq.most_common()\n",
    "    if not top:\n",
    "        return {}\n",
    "    return {\n",
    "        'total_output_cells': total,\n",
    "        'n_colors_present': len(freq),\n",
    "        'top5': top[:5],\n",
    "        'majority_color': top[0][0],\n",
    "        'majority_frac': top[0][1] / total\n",
    "    }\n",
    "\n",
    "def majority_baseline_cell_accuracy(samples):\n",
    "    stats = color_stats(samples)\n",
    "    if not stats: return {}\n",
    "    maj = stats['majority_color']\n",
    "    correct = 0\n",
    "    total = 0\n",
    "    exact = 0\n",
    "    for s in samples:\n",
    "        tgt = s.output\n",
    "        area = sum(len(r) for r in tgt)\n",
    "        if area == 0: \n",
    "            continue\n",
    "        # cell accuracy\n",
    "        tgt_flat = [c for r in tgt for c in r]\n",
    "        correct += sum(1 for c in tgt_flat if c == maj)\n",
    "        total += area\n",
    "        # exact match if all cells are maj\n",
    "        if all(c == maj for c in tgt_flat):\n",
    "            exact += 1\n",
    "    return {\n",
    "        'baseline_cell_acc': correct / total if total else 0.0,\n",
    "        'baseline_exact_match': exact / len(samples) if samples else 0.0\n",
    "    }\n",
    "\n",
    "@torch.no_grad()\n",
    "def model_cell_accuracy_on_val(model, val_loader):\n",
    "    model.eval()\n",
    "    cell_correct = 0\n",
    "    cell_total = 0\n",
    "    uniform_preds = 0\n",
    "    total_examples = 0\n",
    "    for batch in val_loader:\n",
    "        for k in ['enc','dec_in','tgt','enc_pad_mask','dec_pad_mask','row_idx','col_idx']:\n",
    "            batch[k] = batch[k].to(device)\n",
    "        logits = model(batch)\n",
    "        preds = logits.argmax(-1)\n",
    "        mask = batch['tgt'] != PAD\n",
    "        cell_correct += (preds[mask] == batch['tgt'][mask]).sum().item()\n",
    "        cell_total += mask.sum().item()\n",
    "        # uniform prediction check (ignoring PAD)\n",
    "        for i in range(preds.size(0)):\n",
    "            seq = preds[i][mask[i]]\n",
    "            if seq.numel() > 0 and len(torch.unique(seq)) == 1:\n",
    "                uniform_preds += 1\n",
    "            total_examples += 1\n",
    "    return {\n",
    "        'model_cell_acc_val': cell_correct / cell_total if cell_total else 0.0,\n",
    "        'uniform_prediction_rate': uniform_preds / total_examples if total_examples else 0.0\n",
    "    }\n",
    "\n",
    "train_color_stats = color_stats(train_samples)\n",
    "maj_baseline = majority_baseline_cell_accuracy(train_samples)\n",
    "model_val_perf = model_cell_accuracy_on_val(model, val_loader)\n",
    "\n",
    "print('Color stats (train):', train_color_stats)\n",
    "print('Majority baseline:', maj_baseline)\n",
    "print('Model val perf:', model_val_perf)\n",
    "print('If model_cell_acc_val <= baseline_cell_acc and uniform_prediction_rate high -> collapse confirmed.')"
   ]
  },
  {
   "cell_type": "code",
   "execution_count": null,
   "id": "c1d80149",
   "metadata": {},
   "outputs": [],
   "source": []
  }
 ],
 "metadata": {
  "kernelspec": {
   "display_name": ".venv",
   "language": "python",
   "name": "python3"
  },
  "language_info": {
   "codemirror_mode": {
    "name": "ipython",
    "version": 3
   },
   "file_extension": ".py",
   "mimetype": "text/x-python",
   "name": "python",
   "nbconvert_exporter": "python",
   "pygments_lexer": "ipython3",
   "version": "3.13.7"
  }
 },
 "nbformat": 4,
 "nbformat_minor": 5
}
