{
 "cells": [
  {
   "cell_type": "code",
   "execution_count": 1,
   "id": "fedc392a",
   "metadata": {},
   "outputs": [
    {
     "name": "stdout",
     "output_type": "stream",
     "text": [
      "Using device: cpu\n",
      "Training challenges file: c:\\Users\\aibel\\OneDrive\\Documents\\Code\\arc-agi\\default\\arc-agi_training_challenges.json\n",
      "Total train pairs: 3232 (tasks=1000)\n",
      "Using 500 pairs for training experiment\n"
     ]
    }
   ],
   "source": [
    "# Cell 1: Load default ARC training dataset (train pairs only)\n",
    "import json, time, random, math, os\n",
    "from pathlib import Path\n",
    "from dataclasses import dataclass\n",
    "from typing import List, Tuple\n",
    "import numpy as np\n",
    "import torch\n",
    "import torch.nn as nn\n",
    "from torch.utils.data import Dataset, DataLoader\n",
    "\n",
    "SEED = 1337\n",
    "random.seed(SEED); np.random.seed(SEED); torch.manual_seed(SEED)\n",
    "\n",
    "device = torch.device('cuda' if torch.cuda.is_available() else 'cpu')\n",
    "print('Using device:', device)\n",
    "\n",
    "# Locate default training challenges\n",
    "start = Path.cwd()\n",
    "rel = Path('default') / 'arc-agi_training_challenges.json'\n",
    "train_challenges_path = None\n",
    "for p in [start, *start.parents]:\n",
    "    cand = p / rel\n",
    "    if cand.exists():\n",
    "        train_challenges_path = cand\n",
    "        break\n",
    "if train_challenges_path is None:\n",
    "    raise FileNotFoundError('Could not locate default training challenges file')\n",
    "print('Training challenges file:', train_challenges_path)\n",
    "\n",
    "with train_challenges_path.open('r') as f:\n",
    "    raw_data = json.load(f)\n",
    "\n",
    "# Normalize tasks dict\n",
    "if isinstance(raw_data, list):\n",
    "    tasks = { (t.get('task_id') or t.get('id') or f'task_{i}') : t for i,t in enumerate(raw_data) }\n",
    "else:\n",
    "    tasks = raw_data\n",
    "\n",
    "pairs = []  # (input_grid, output_grid, task_id, pair_index)\n",
    "for tid, task in tasks.items():\n",
    "    for i, pair in enumerate(task.get('train', [])):\n",
    "        inp = pair.get('input'); out = pair.get('output')\n",
    "        if inp is None or out is None: continue\n",
    "        pairs.append((inp, out, tid, i))\n",
    "\n",
    "print(f'Total train pairs: {len(pairs)} (tasks={len(tasks)})')\n",
    "\n",
    "# Optional cap for quick experiment\n",
    "MAX_PAIRS = 500  # set None for full\n",
    "if MAX_PAIRS and len(pairs) > MAX_PAIRS:\n",
    "    pairs = pairs[:MAX_PAIRS]\n",
    "print('Using', len(pairs), 'pairs for training experiment')"
   ]
  },
  {
   "cell_type": "code",
   "execution_count": 2,
   "id": "05d5c00c",
   "metadata": {},
   "outputs": [
    {
     "name": "stdout",
     "output_type": "stream",
     "text": [
      "Train batches: 15 Val batches: 2\n"
     ]
    }
   ],
   "source": [
    "# Cell 2: Dataset + tokenization utilities\n",
    "PAD, BOS, EOS = 10, 11, 12\n",
    "VOCAB_SIZE = 13  # digits 0-9 plus PAD,BOS,EOS\n",
    "\n",
    "def _norm(grid):\n",
    "    arr = np.array(grid, dtype=int)\n",
    "    if arr.ndim == 0: arr = arr.reshape(1,1)\n",
    "    if arr.ndim == 1: arr = arr.reshape(1,-1)\n",
    "    return arr\n",
    "\n",
    "def encode_grid(grid):\n",
    "    g = _norm(grid)\n",
    "    return g.reshape(-1).tolist()\n",
    "\n",
    "def decode_grid(tokens, h, w):\n",
    "    seq = tokens[:h*w]\n",
    "    return [seq[i*w:(i+1)*w] for i in range(h)]\n",
    "\n",
    "class PairDataset(Dataset):\n",
    "    def __init__(self, pairs):  # list of (inp,out,tid,i)\n",
    "        self.pairs = pairs\n",
    "    def __len__(self): return len(self.pairs)\n",
    "    def __getitem__(self, idx):\n",
    "        inp, out, tid, i = self.pairs[idx]\n",
    "        inp2 = _norm(inp).astype(int)\n",
    "        out2 = _norm(out).astype(int)\n",
    "        enc = encode_grid(inp2)\n",
    "        tgt_core = encode_grid(out2)\n",
    "        tgt = tgt_core + [EOS]\n",
    "        dec_in = [BOS] + tgt_core\n",
    "        return {\n",
    "            'enc': torch.tensor(enc, dtype=torch.long),\n",
    "            'dec_in': torch.tensor(dec_in, dtype=torch.long),\n",
    "            'tgt': torch.tensor(tgt, dtype=torch.long),\n",
    "            'h_in': inp2.shape[0], 'w_in': inp2.shape[1],\n",
    "            'h_out': out2.shape[0], 'w_out': out2.shape[1]\n",
    "        }\n",
    "\n",
    "def collate(batch):\n",
    "    B = len(batch)\n",
    "    enc_lens = [len(b['enc']) for b in batch]\n",
    "    dec_lens = [len(b['dec_in']) for b in batch]\n",
    "    max_e = max(enc_lens) if enc_lens else 0\n",
    "    max_d = max(dec_lens) if dec_lens else 0\n",
    "    enc = torch.full((B,max_e), PAD, dtype=torch.long)\n",
    "    dec_in = torch.full((B,max_d), PAD, dtype=torch.long)\n",
    "    tgt = torch.full((B,max_d), PAD, dtype=torch.long)\n",
    "    enc_mask = torch.ones((B,max_e), dtype=torch.bool)\n",
    "    dec_mask = torch.ones((B,max_d), dtype=torch.bool)\n",
    "    row_idx = torch.zeros((B,max_e), dtype=torch.long)\n",
    "    col_idx = torch.zeros((B,max_e), dtype=torch.long)\n",
    "    for i,b in enumerate(batch):\n",
    "        L_e = len(b['enc']); L_d = len(b['dec_in'])\n",
    "        enc[i,:L_e] = b['enc']; dec_in[i,:L_d] = b['dec_in']; tgt[i,:len(b['tgt'])]=b['tgt']\n",
    "        enc_mask[i,:L_e] = False; dec_mask[i,:L_d] = False\n",
    "        h,w = b['h_in'], b['w_in']\n",
    "        if h*w == L_e:\n",
    "            rows = torch.arange(h).repeat_interleave(w)\n",
    "            cols = torch.arange(w).repeat(h)\n",
    "            row_idx[i,:L_e] = rows; col_idx[i,:L_e] = cols\n",
    "    return {'enc':enc,'dec_in':dec_in,'tgt':tgt,'enc_pad_mask':enc_mask,'dec_pad_mask':dec_mask,'row_idx':row_idx,'col_idx':col_idx}\n",
    "\n",
    "# Split train/val simple\n",
    "VAL_RATIO = 0.1\n",
    "cut = int(len(pairs)*(1-VAL_RATIO))\n",
    "train_pairs = pairs[:cut]\n",
    "val_pairs = pairs[cut:]\n",
    "\n",
    "train_ds = PairDataset(train_pairs)\n",
    "val_ds = PairDataset(val_pairs)\n",
    "train_loader = DataLoader(train_ds, batch_size=32, shuffle=True, collate_fn=collate)\n",
    "val_loader = DataLoader(val_ds, batch_size=32, shuffle=False, collate_fn=collate)\n",
    "print('Train batches:', len(train_loader), 'Val batches:', len(val_loader))"
   ]
  },
  {
   "cell_type": "code",
   "execution_count": 3,
   "id": "9c866799",
   "metadata": {},
   "outputs": [
    {
     "name": "stdout",
     "output_type": "stream",
     "text": [
      "Params (M): 1.013517\n"
     ]
    }
   ],
   "source": [
    "# Cell 3: Simple seq2seq Transformer model\n",
    "class PositionalEncoding(nn.Module):\n",
    "    def __init__(self, d_model, max_len=4096):\n",
    "        super().__init__()\n",
    "        pe = torch.zeros(max_len, d_model)\n",
    "        position = torch.arange(0, max_len, dtype=torch.float).unsqueeze(1)\n",
    "        div = torch.exp(torch.arange(0, d_model, 2).float() * (-math.log(10000.0)/d_model))\n",
    "        pe[:,0::2] = torch.sin(position*div)\n",
    "        pe[:,1::2] = torch.cos(position*div)\n",
    "        self.register_buffer('pe', pe.unsqueeze(0), persistent=False)\n",
    "    def forward(self,x):\n",
    "        return x + self.pe[:, :x.size(1)]\n",
    "\n",
    "class ARCSeqModel(nn.Module):\n",
    "    def __init__(self, vocab=VOCAB_SIZE, d_model=128, nhead=4, layers=3, ff=256, dropout=0.1):\n",
    "        super().__init__()\n",
    "        self.tok_emb = nn.Embedding(vocab, d_model)\n",
    "        self.row_emb = nn.Embedding(64, d_model)\n",
    "        self.col_emb = nn.Embedding(64, d_model)\n",
    "        self.pos = PositionalEncoding(d_model)\n",
    "        enc_layer = nn.TransformerEncoderLayer(d_model, nhead, ff, dropout, batch_first=True)\n",
    "        self.encoder = nn.TransformerEncoder(enc_layer, num_layers=layers)\n",
    "        dec_layer = nn.TransformerDecoderLayer(d_model, nhead, ff, dropout, batch_first=True)\n",
    "        self.decoder = nn.TransformerDecoder(dec_layer, num_layers=layers)\n",
    "        self.proj = nn.Linear(d_model, vocab)\n",
    "    def encode(self, batch):\n",
    "        x = self.tok_emb(batch['enc']) + self.row_emb(batch['row_idx']) + self.col_emb(batch['col_idx'])\n",
    "        x = self.pos(x)\n",
    "        x = self.encoder(x, src_key_padding_mask=batch['enc_pad_mask'])\n",
    "        return x\n",
    "    def decode(self, ys, memory, dec_pad, enc_pad):\n",
    "        y = self.tok_emb(ys)\n",
    "        y = self.pos(y)\n",
    "        L = y.size(1)\n",
    "        causal = torch.triu(torch.ones(L,L, device=y.device, dtype=torch.bool),1)\n",
    "        out = self.decoder(y, memory, tgt_mask=causal, tgt_key_padding_mask=dec_pad, memory_key_padding_mask=enc_pad)\n",
    "        return self.proj(out)\n",
    "    def forward(self, batch):\n",
    "        mem = self.encode(batch)\n",
    "        return self.decode(batch['dec_in'], mem, batch['dec_pad_mask'], batch['enc_pad_mask'])\n",
    "    @torch.no_grad()\n",
    "    def generate(self, batch, max_len=256):\n",
    "        mem = self.encode(batch)\n",
    "        B = batch['enc'].size(0)\n",
    "        ys = torch.full((B,1), BOS, dtype=torch.long, device=mem.device)\n",
    "        for _ in range(max_len):\n",
    "            dec_pad = torch.zeros_like(ys, dtype=torch.bool)\n",
    "            logits = self.decode(ys, mem, dec_pad, batch['enc_pad_mask'])\n",
    "            nxt = logits[:,-1].argmax(-1, keepdim=True)\n",
    "            ys = torch.cat([ys, nxt], dim=1)\n",
    "            if (nxt.squeeze(-1) == EOS).all():\n",
    "                break\n",
    "        return ys[:,1:]\n",
    "\n",
    "model = ARCSeqModel().to(device)\n",
    "print('Params (M):', sum(p.numel() for p in model.parameters())/1e6)"
   ]
  },
  {
   "cell_type": "code",
   "execution_count": 4,
   "id": "fd7913c4",
   "metadata": {},
   "outputs": [
    {
     "name": "stderr",
     "output_type": "stream",
     "text": [
      "c:\\Users\\aibel\\OneDrive\\Documents\\Code\\arc-agi\\.venv\\Lib\\site-packages\\tqdm\\auto.py:21: TqdmWarning: IProgress not found. Please update jupyter and ipywidgets. See https://ipywidgets.readthedocs.io/en/stable/user_install.html\n",
      "  from .autonotebook import tqdm as notebook_tqdm\n",
      "Epoch 1 [train]: 100%|██████████| 15/15 [15:44<00:00, 62.94s/it] \n",
      "Epoch 1 [val]:   0%|          | 0/2 [00:00<?, ?it/s]\n",
      "Epoch 1 [val]:   0%|          | 0/2 [00:00<?, ?it/s]c:\\Users\\aibel\\OneDrive\\Documents\\Code\\arc-agi\\.venv\\Lib\\site-packages\\torch\\nn\\modules\\transformer.py:515: UserWarning: The PyTorch API of nested tensors is in prototype stage and will change in the near future. We recommend specifying layout=torch.jagged when constructing a nested tensor, as this layout receives active development, has better operator coverage, and works with torch.compile. (Triggered internally at C:\\actions-runner\\_work\\pytorch\\pytorch\\pytorch\\aten\\src\\ATen\\NestedTensorImpl.cpp:182.)\n",
      "  output = torch._nested_tensor_from_mask(\n",
      "c:\\Users\\aibel\\OneDrive\\Documents\\Code\\arc-agi\\.venv\\Lib\\site-packages\\torch\\nn\\modules\\transformer.py:515: UserWarning: The PyTorch API of nested tensors is in prototype stage and will change in the near future. We recommend specifying layout=torch.jagged when constructing a nested tensor, as this layout receives active development, has better operator coverage, and works with torch.compile. (Triggered internally at C:\\actions-runner\\_work\\pytorch\\pytorch\\pytorch\\aten\\src\\ATen\\NestedTensorImpl.cpp:182.)\n",
      "  output = torch._nested_tensor_from_mask(\n",
      "Epoch 1 [val]: 100%|██████████| 2/2 [00:01<00:00,  1.04it/s]\n",
      "Epoch 1 [val]: 100%|██████████| 2/2 [00:01<00:00,  1.04it/s]\n"
     ]
    },
    {
     "name": "stdout",
     "output_type": "stream",
     "text": [
      "Epoch 1: train_loss=1.5921 val_loss=1.6665\n"
     ]
    },
    {
     "name": "stderr",
     "output_type": "stream",
     "text": [
      "Epoch 2 [train]: 100%|██████████| 15/15 [16:57<00:00, 67.86s/it] \n",
      "Epoch 2 [val]:   0%|          | 0/2 [00:00<?, ?it/s]\n",
      "Epoch 2 [val]: 100%|██████████| 2/2 [00:01<00:00,  1.33it/s]\n",
      "Epoch 2 [val]: 100%|██████████| 2/2 [00:01<00:00,  1.33it/s]\n"
     ]
    },
    {
     "name": "stdout",
     "output_type": "stream",
     "text": [
      "Epoch 2: train_loss=1.0256 val_loss=1.3116\n"
     ]
    },
    {
     "name": "stderr",
     "output_type": "stream",
     "text": [
      "Epoch 3 [train]: 100%|██████████| 15/15 [17:18<00:00, 69.21s/it]\n",
      "Epoch 3 [train]: 100%|██████████| 15/15 [17:18<00:00, 69.21s/it]\n",
      "Epoch 3 [val]: 100%|██████████| 2/2 [00:01<00:00,  1.16it/s]\n",
      "Epoch 3 [val]: 100%|██████████| 2/2 [00:01<00:00,  1.16it/s]\n"
     ]
    },
    {
     "name": "stdout",
     "output_type": "stream",
     "text": [
      "Epoch 3: train_loss=0.9176 val_loss=1.2297\n"
     ]
    },
    {
     "name": "stderr",
     "output_type": "stream",
     "text": [
      "Epoch 4 [train]: 100%|██████████| 15/15 [19:02<00:00, 76.17s/it]\n",
      "\n",
      "Epoch 4 [val]: 100%|██████████| 2/2 [00:03<00:00,  1.55s/it]\n",
      "Epoch 4 [val]: 100%|██████████| 2/2 [00:03<00:00,  1.55s/it]\n"
     ]
    },
    {
     "name": "stdout",
     "output_type": "stream",
     "text": [
      "Epoch 4: train_loss=0.9041 val_loss=1.1654\n"
     ]
    },
    {
     "name": "stderr",
     "output_type": "stream",
     "text": [
      "Epoch 5 [train]: 100%|██████████| 15/15 [17:46<00:00, 71.13s/it]\n",
      "Epoch 5 [train]: 100%|██████████| 15/15 [17:46<00:00, 71.13s/it]\n",
      "Epoch 5 [val]: 100%|██████████| 2/2 [00:02<00:00,  1.18s/it]"
     ]
    },
    {
     "name": "stdout",
     "output_type": "stream",
     "text": [
      "Epoch 5: train_loss=0.8747 val_loss=1.1361\n",
      "Done.\n"
     ]
    },
    {
     "name": "stderr",
     "output_type": "stream",
     "text": [
      "\n"
     ]
    }
   ],
   "source": [
    "# Cell 4: Training loop\n",
    "EPOCHS = 5\n",
    "criterion = nn.CrossEntropyLoss(ignore_index=PAD)\n",
    "optimizer = torch.optim.AdamW(model.parameters(), lr=4e-4, weight_decay=0.01)\n",
    "from tqdm.auto import tqdm\n",
    "train_hist = []; val_hist = []\n",
    "for epoch in range(1, EPOCHS+1):\n",
    "    model.train(); total=0\n",
    "    for batch in tqdm(train_loader, desc=f'Epoch {epoch} [train]'):\n",
    "        for k in batch: batch[k] = batch[k].to(device)\n",
    "        logits = model(batch)\n",
    "        B,L,V = logits.shape\n",
    "        loss = criterion(logits.view(B*L,V), batch['tgt'].view(B*L))\n",
    "        optimizer.zero_grad(); loss.backward(); nn.utils.clip_grad_norm_(model.parameters(),1.0); optimizer.step()\n",
    "        total += loss.item()\n",
    "    train_loss = total / max(1,len(train_loader))\n",
    "    model.eval(); vtotal=0\n",
    "    with torch.no_grad():\n",
    "        for batch in tqdm(val_loader, desc=f'Epoch {epoch} [val]'):\n",
    "            for k in batch: batch[k] = batch[k].to(device)\n",
    "            logits = model(batch)\n",
    "            B,L,V = logits.shape\n",
    "            loss = criterion(logits.view(B*L,V), batch['tgt'].view(B*L))\n",
    "            vtotal += loss.item()\n",
    "    val_loss = vtotal / max(1,len(val_loader))\n",
    "    train_hist.append(train_loss); val_hist.append(val_loss)\n",
    "    print(f'Epoch {epoch}: train_loss={train_loss:.4f} val_loss={val_loss:.4f}')\n",
    "print('Done.')"
   ]
  },
  {
   "cell_type": "code",
   "execution_count": 5,
   "id": "988bae22",
   "metadata": {},
   "outputs": [
    {
     "name": "stdout",
     "output_type": "stream",
     "text": [
      "Validation metrics: {'cell_acc': 0.6417347580138277, 'exact_match': 0.0}\n",
      "Task 1f876c06 pair 0\n",
      "Input : [[9, 0, 0, 0, 0, 0, 0, 3, 0, 0], [0, 0, 0, 0, 0, 0, 0, 0, 0, 0], [0, 0, 0, 0, 0, 0, 8, 0, 0, 3], [0, 0, 0, 9, 0, 0, 0, 0, 0, 0], [0, 0, 0, 0, 0, 0, 0, 0, 0, 0], [0, 0, 0, 0, 0, 7, 0, 0, 0, 0], [0, 0, 0, 0, 0, 0, 0, 0, 0, 0], [0, 8, 0, 0, 0, 0, 0, 0, 0, 0], [0, 0, 0, 0, 0, 0, 0, 0, 0, 0], [0, 0, 0, 0, 0, 0, 0, 0, 0, 7]]\n",
      "Target: [[9, 0, 0, 0, 0, 0, 0, 3, 0, 0], [0, 9, 0, 0, 0, 0, 0, 0, 3, 0], [0, 0, 9, 0, 0, 0, 8, 0, 0, 3], [0, 0, 0, 9, 0, 8, 0, 0, 0, 0], [0, 0, 0, 0, 8, 0, 0, 0, 0, 0], [0, 0, 0, 8, 0, 7, 0, 0, 0, 0], [0, 0, 8, 0, 0, 0, 7, 0, 0, 0], [0, 8, 0, 0, 0, 0, 0, 7, 0, 0], [0, 0, 0, 0, 0, 0, 0, 0, 7, 0], [0, 0, 0, 0, 0, 0, 0, 0, 0, 7]]\n",
      "Pred  : [[0, 0, 0, 0, 0, 0, 0, 0, 0, 0], [0, 0, 0, 0, 0, 0, 0, 0, 0, 0], [0, 0, 0, 0, 0, 0, 0, 0, 0, 0], [0, 0, 0, 0, 0, 0, 0, 0, 0, 0], [0, 0, 0, 0, 0, 0, 0, 0, 0, 0], [0, 0, 0, 0, 0, 0, 0, 0, 0, 0], [0, 0, 0, 0, 0, 0, 0, 0, 0, 0], [0, 0, 0, 0, 0, 0, 0, 0, 0, 0], [0, 0, 0, 0, 0, 0, 0, 0, 0, 0], [0, 0, 0, 0, 0, 0, 0, 0, 0, 0]]\n",
      "--------------------------------------------------\n",
      "Task 1f876c06 pair 0\n",
      "Input : [[9, 0, 0, 0, 0, 0, 0, 3, 0, 0], [0, 0, 0, 0, 0, 0, 0, 0, 0, 0], [0, 0, 0, 0, 0, 0, 8, 0, 0, 3], [0, 0, 0, 9, 0, 0, 0, 0, 0, 0], [0, 0, 0, 0, 0, 0, 0, 0, 0, 0], [0, 0, 0, 0, 0, 7, 0, 0, 0, 0], [0, 0, 0, 0, 0, 0, 0, 0, 0, 0], [0, 8, 0, 0, 0, 0, 0, 0, 0, 0], [0, 0, 0, 0, 0, 0, 0, 0, 0, 0], [0, 0, 0, 0, 0, 0, 0, 0, 0, 7]]\n",
      "Target: [[9, 0, 0, 0, 0, 0, 0, 3, 0, 0], [0, 9, 0, 0, 0, 0, 0, 0, 3, 0], [0, 0, 9, 0, 0, 0, 8, 0, 0, 3], [0, 0, 0, 9, 0, 8, 0, 0, 0, 0], [0, 0, 0, 0, 8, 0, 0, 0, 0, 0], [0, 0, 0, 8, 0, 7, 0, 0, 0, 0], [0, 0, 8, 0, 0, 0, 7, 0, 0, 0], [0, 8, 0, 0, 0, 0, 0, 7, 0, 0], [0, 0, 0, 0, 0, 0, 0, 0, 7, 0], [0, 0, 0, 0, 0, 0, 0, 0, 0, 7]]\n",
      "Pred  : [[0, 0, 0, 0, 0, 0, 0, 0, 0, 0], [0, 0, 0, 0, 0, 0, 0, 0, 0, 0], [0, 0, 0, 0, 0, 0, 0, 0, 0, 0], [0, 0, 0, 0, 0, 0, 0, 0, 0, 0], [0, 0, 0, 0, 0, 0, 0, 0, 0, 0], [0, 0, 0, 0, 0, 0, 0, 0, 0, 0], [0, 0, 0, 0, 0, 0, 0, 0, 0, 0], [0, 0, 0, 0, 0, 0, 0, 0, 0, 0], [0, 0, 0, 0, 0, 0, 0, 0, 0, 0], [0, 0, 0, 0, 0, 0, 0, 0, 0, 0]]\n",
      "--------------------------------------------------\n",
      "Task 1c56ad9f pair 3\n",
      "Input : [[0, 0, 0, 0, 0, 0, 0, 0, 0, 0, 0, 0, 0, 0], [0, 0, 0, 0, 0, 0, 0, 0, 0, 0, 0, 0, 0, 0], [0, 0, 0, 0, 0, 0, 0, 0, 0, 0, 0, 0, 0, 0], [0, 0, 0, 0, 0, 0, 0, 0, 0, 0, 0, 0, 0, 0], [0, 0, 0, 3, 3, 3, 3, 3, 3, 3, 3, 3, 0, 0], [0, 0, 0, 3, 0, 0, 0, 3, 0, 0, 0, 3, 0, 0], [0, 0, 0, 3, 0, 0, 0, 3, 0, 0, 0, 3, 0, 0], [0, 0, 0, 3, 3, 3, 3, 3, 3, 3, 3, 3, 0, 0], [0, 0, 0, 3, 0, 0, 0, 3, 0, 0, 0, 3, 0, 0], [0, 0, 0, 3, 0, 0, 0, 3, 0, 0, 0, 3, 0, 0], [0, 0, 0, 3, 3, 3, 3, 3, 3, 3, 3, 3, 0, 0], [0, 0, 0, 0, 0, 0, 0, 0, 0, 0, 0, 0, 0, 0], [0, 0, 0, 0, 0, 0, 0, 0, 0, 0, 0, 0, 0, 0]]\n",
      "Target: [[0, 0, 0, 0, 0, 0, 0, 0, 0, 0, 0, 0, 0, 0], [0, 0, 0, 0, 0, 0, 0, 0, 0, 0, 0, 0, 0, 0], [0, 0, 0, 0, 0, 0, 0, 0, 0, 0, 0, 0, 0, 0], [0, 0, 0, 0, 0, 0, 0, 0, 0, 0, 0, 0, 0, 0], [0, 0, 0, 3, 3, 3, 3, 3, 3, 3, 3, 3, 0, 0], [0, 0, 3, 0, 0, 0, 3, 0, 0, 0, 3, 0, 0, 0], [0, 0, 0, 3, 0, 0, 0, 3, 0, 0, 0, 3, 0, 0], [0, 0, 0, 0, 3, 3, 3, 3, 3, 3, 3, 3, 3, 0], [0, 0, 0, 3, 0, 0, 0, 3, 0, 0, 0, 3, 0, 0], [0, 0, 3, 0, 0, 0, 3, 0, 0, 0, 3, 0, 0, 0], [0, 0, 0, 3, 3, 3, 3, 3, 3, 3, 3, 3, 0, 0], [0, 0, 0, 0, 0, 0, 0, 0, 0, 0, 0, 0, 0, 0], [0, 0, 0, 0, 0, 0, 0, 0, 0, 0, 0, 0, 0, 0]]\n",
      "Pred  : [[0, 0, 0, 0, 0, 0, 0, 0, 0, 0, 0, 0, 0, 0], [0, 0, 0, 0, 0, 0, 0, 0, 0, 0, 0, 0, 0, 0], [0, 0, 0, 0, 0, 0, 0, 0, 0, 0, 0, 0, 0, 0], [0, 0, 0, 0, 0, 0, 0, 0, 0, 0, 0, 0, 0, 0], [0, 0, 0, 0, 0, 0, 0, 0, 0, 0, 0, 0, 0, 0], [0, 0, 0, 0, 0, 0, 0, 0, 0, 0, 0, 0, 0, 0], [0, 0, 0, 0, 0, 0, 0, 0, 0, 0, 0, 0, 0, 0], [0, 0, 0, 0, 0, 0, 0, 0, 0, 0, 0, 0, 0, 0], [0, 0, 0, 0, 0, 0, 0, 0, 0, 0, 0, 0, 0, 0], [0, 0, 0, 0, 0, 0, 0, 0, 0, 0, 0, 0, 0, 0], [0, 0, 0, 0, 0, 0, 0, 0, 0, 0, 0, 0, 0, 0], [0, 0, 0, 0, 0, 0, 0, 0, 0, 0, 0, 0, 0, 0], [0, 0, 0, 0, 0, 0, 0, 0, 0, 0, 0, 0, 0, 0]]\n",
      "--------------------------------------------------\n",
      "Task 1c56ad9f pair 3\n",
      "Input : [[0, 0, 0, 0, 0, 0, 0, 0, 0, 0, 0, 0, 0, 0], [0, 0, 0, 0, 0, 0, 0, 0, 0, 0, 0, 0, 0, 0], [0, 0, 0, 0, 0, 0, 0, 0, 0, 0, 0, 0, 0, 0], [0, 0, 0, 0, 0, 0, 0, 0, 0, 0, 0, 0, 0, 0], [0, 0, 0, 3, 3, 3, 3, 3, 3, 3, 3, 3, 0, 0], [0, 0, 0, 3, 0, 0, 0, 3, 0, 0, 0, 3, 0, 0], [0, 0, 0, 3, 0, 0, 0, 3, 0, 0, 0, 3, 0, 0], [0, 0, 0, 3, 3, 3, 3, 3, 3, 3, 3, 3, 0, 0], [0, 0, 0, 3, 0, 0, 0, 3, 0, 0, 0, 3, 0, 0], [0, 0, 0, 3, 0, 0, 0, 3, 0, 0, 0, 3, 0, 0], [0, 0, 0, 3, 3, 3, 3, 3, 3, 3, 3, 3, 0, 0], [0, 0, 0, 0, 0, 0, 0, 0, 0, 0, 0, 0, 0, 0], [0, 0, 0, 0, 0, 0, 0, 0, 0, 0, 0, 0, 0, 0]]\n",
      "Target: [[0, 0, 0, 0, 0, 0, 0, 0, 0, 0, 0, 0, 0, 0], [0, 0, 0, 0, 0, 0, 0, 0, 0, 0, 0, 0, 0, 0], [0, 0, 0, 0, 0, 0, 0, 0, 0, 0, 0, 0, 0, 0], [0, 0, 0, 0, 0, 0, 0, 0, 0, 0, 0, 0, 0, 0], [0, 0, 0, 3, 3, 3, 3, 3, 3, 3, 3, 3, 0, 0], [0, 0, 3, 0, 0, 0, 3, 0, 0, 0, 3, 0, 0, 0], [0, 0, 0, 3, 0, 0, 0, 3, 0, 0, 0, 3, 0, 0], [0, 0, 0, 0, 3, 3, 3, 3, 3, 3, 3, 3, 3, 0], [0, 0, 0, 3, 0, 0, 0, 3, 0, 0, 0, 3, 0, 0], [0, 0, 3, 0, 0, 0, 3, 0, 0, 0, 3, 0, 0, 0], [0, 0, 0, 3, 3, 3, 3, 3, 3, 3, 3, 3, 0, 0], [0, 0, 0, 0, 0, 0, 0, 0, 0, 0, 0, 0, 0, 0], [0, 0, 0, 0, 0, 0, 0, 0, 0, 0, 0, 0, 0, 0]]\n",
      "Pred  : [[0, 0, 0, 0, 0, 0, 0, 0, 0, 0, 0, 0, 0, 0], [0, 0, 0, 0, 0, 0, 0, 0, 0, 0, 0, 0, 0, 0], [0, 0, 0, 0, 0, 0, 0, 0, 0, 0, 0, 0, 0, 0], [0, 0, 0, 0, 0, 0, 0, 0, 0, 0, 0, 0, 0, 0], [0, 0, 0, 0, 0, 0, 0, 0, 0, 0, 0, 0, 0, 0], [0, 0, 0, 0, 0, 0, 0, 0, 0, 0, 0, 0, 0, 0], [0, 0, 0, 0, 0, 0, 0, 0, 0, 0, 0, 0, 0, 0], [0, 0, 0, 0, 0, 0, 0, 0, 0, 0, 0, 0, 0, 0], [0, 0, 0, 0, 0, 0, 0, 0, 0, 0, 0, 0, 0, 0], [0, 0, 0, 0, 0, 0, 0, 0, 0, 0, 0, 0, 0, 0], [0, 0, 0, 0, 0, 0, 0, 0, 0, 0, 0, 0, 0, 0], [0, 0, 0, 0, 0, 0, 0, 0, 0, 0, 0, 0, 0, 0], [0, 0, 0, 0, 0, 0, 0, 0, 0, 0, 0, 0, 0, 0]]\n",
      "--------------------------------------------------\n",
      "Task 2281f1f4 pair 0\n",
      "Input : [[0, 5, 0, 5, 5, 0, 0, 5, 0, 0], [0, 0, 0, 0, 0, 0, 0, 0, 0, 0], [0, 0, 0, 0, 0, 0, 0, 0, 0, 5], [0, 0, 0, 0, 0, 0, 0, 0, 0, 0], [0, 0, 0, 0, 0, 0, 0, 0, 0, 5], [0, 0, 0, 0, 0, 0, 0, 0, 0, 0], [0, 0, 0, 0, 0, 0, 0, 0, 0, 0], [0, 0, 0, 0, 0, 0, 0, 0, 0, 5], [0, 0, 0, 0, 0, 0, 0, 0, 0, 0], [0, 0, 0, 0, 0, 0, 0, 0, 0, 0]]\n",
      "Target: [[0, 5, 0, 5, 5, 0, 0, 5, 0, 0], [0, 0, 0, 0, 0, 0, 0, 0, 0, 0], [0, 2, 0, 2, 2, 0, 0, 2, 0, 5], [0, 0, 0, 0, 0, 0, 0, 0, 0, 0], [0, 2, 0, 2, 2, 0, 0, 2, 0, 5], [0, 0, 0, 0, 0, 0, 0, 0, 0, 0], [0, 0, 0, 0, 0, 0, 0, 0, 0, 0], [0, 2, 0, 2, 2, 0, 0, 2, 0, 5], [0, 0, 0, 0, 0, 0, 0, 0, 0, 0], [0, 0, 0, 0, 0, 0, 0, 0, 0, 0]]\n",
      "Pred  : [[0, 0, 0, 0, 0, 0, 0, 0, 0, 0], [0, 0, 0, 0, 0, 0, 0, 0, 0, 0], [0, 0, 0, 0, 0, 0, 0, 0, 0, 0], [0, 0, 0, 0, 0, 0, 0, 0, 0, 0], [0, 0, 0, 0, 0, 0, 0, 0, 0, 0], [0, 0, 0, 0, 0, 0, 0, 0, 0, 0], [0, 0, 0, 0, 0, 0, 0, 0, 0, 0], [0, 0, 0, 0, 0, 0, 0, 0, 0, 0], [0, 0, 0, 0, 0, 0, 0, 0, 0, 0], [0, 0, 0, 0, 0, 0, 0, 0, 0, 0]]\n",
      "--------------------------------------------------\n",
      "Task 2281f1f4 pair 0\n",
      "Input : [[0, 5, 0, 5, 5, 0, 0, 5, 0, 0], [0, 0, 0, 0, 0, 0, 0, 0, 0, 0], [0, 0, 0, 0, 0, 0, 0, 0, 0, 5], [0, 0, 0, 0, 0, 0, 0, 0, 0, 0], [0, 0, 0, 0, 0, 0, 0, 0, 0, 5], [0, 0, 0, 0, 0, 0, 0, 0, 0, 0], [0, 0, 0, 0, 0, 0, 0, 0, 0, 0], [0, 0, 0, 0, 0, 0, 0, 0, 0, 5], [0, 0, 0, 0, 0, 0, 0, 0, 0, 0], [0, 0, 0, 0, 0, 0, 0, 0, 0, 0]]\n",
      "Target: [[0, 5, 0, 5, 5, 0, 0, 5, 0, 0], [0, 0, 0, 0, 0, 0, 0, 0, 0, 0], [0, 2, 0, 2, 2, 0, 0, 2, 0, 5], [0, 0, 0, 0, 0, 0, 0, 0, 0, 0], [0, 2, 0, 2, 2, 0, 0, 2, 0, 5], [0, 0, 0, 0, 0, 0, 0, 0, 0, 0], [0, 0, 0, 0, 0, 0, 0, 0, 0, 0], [0, 2, 0, 2, 2, 0, 0, 2, 0, 5], [0, 0, 0, 0, 0, 0, 0, 0, 0, 0], [0, 0, 0, 0, 0, 0, 0, 0, 0, 0]]\n",
      "Pred  : [[0, 0, 0, 0, 0, 0, 0, 0, 0, 0], [0, 0, 0, 0, 0, 0, 0, 0, 0, 0], [0, 0, 0, 0, 0, 0, 0, 0, 0, 0], [0, 0, 0, 0, 0, 0, 0, 0, 0, 0], [0, 0, 0, 0, 0, 0, 0, 0, 0, 0], [0, 0, 0, 0, 0, 0, 0, 0, 0, 0], [0, 0, 0, 0, 0, 0, 0, 0, 0, 0], [0, 0, 0, 0, 0, 0, 0, 0, 0, 0], [0, 0, 0, 0, 0, 0, 0, 0, 0, 0], [0, 0, 0, 0, 0, 0, 0, 0, 0, 0]]\n",
      "--------------------------------------------------\n"
     ]
    }
   ],
   "source": [
    "# Cell 5: Evaluation metrics & qualitative samples\n",
    "@torch.no_grad()\n",
    "def eval_cell_accuracy(model, loader):\n",
    "    model.eval(); cell_correct=0; cell_total=0; exact=0; total=0\n",
    "    for batch in loader:\n",
    "        for k in batch: batch[k] = batch[k].to(device)\n",
    "        logits = model(batch)\n",
    "        preds = logits.argmax(-1)\n",
    "        mask = batch['tgt'] != PAD\n",
    "        cell_correct += ((preds==batch['tgt']) & mask).sum().item()\n",
    "        cell_total += mask.sum().item()\n",
    "        seq_equal = ((preds==batch['tgt']) & mask).sum(1) == mask.sum(1)\n",
    "        exact += seq_equal.sum().item(); total += preds.size(0)\n",
    "    return {'cell_acc': cell_correct/max(1,cell_total), 'exact_match': exact/max(1,total)}\n",
    "\n",
    "metrics = eval_cell_accuracy(model, val_loader)\n",
    "print('Validation metrics:', metrics)\n",
    "\n",
    "# Show a few generations\n",
    "from random import sample as _sample\n",
    "examples = _sample(train_pairs, min(3,len(train_pairs)))\n",
    "for inp, out, tid, idx in examples:\n",
    "    enc_tokens = torch.tensor(encode_grid(inp), dtype=torch.long).unsqueeze(0).to(device)\n",
    "    h_in,w_in = _norm(inp).shape\n",
    "    B_enc_mask = torch.zeros_like(enc_tokens, dtype=torch.bool)\n",
    "    rows = torch.arange(h_in).repeat_interleave(w_in).unsqueeze(0).to(device)\n",
    "    cols = torch.arange(w_in).repeat(h_in).unsqueeze(0).to(device)\n",
    "    batch_fake = {'enc':enc_tokens,'row_idx':rows,'col_idx':cols,'enc_pad_mask':B_enc_mask}\n",
    "    gen = model.generate(batch_fake, max_len=_norm(out).size)\n",
    "    pred = gen[0].cpu().tolist()\n",
    "    h_out,w_out = _norm(out).shape\n",
    "    pred_grid = decode_grid(pred, h_out, w_out)\n",
    "    print('Task', tid, 'pair', idx)\n",
    "    print('Input :', inp)\n",
    "    print('Target:', out)\n",
    "    print('Pred  :', pred_grid)\n",
    "    print('-'*50)"
   ]
  },
  {
   "cell_type": "code",
   "execution_count": 6,
   "id": "7ab9897b",
   "metadata": {},
   "outputs": [
    {
     "name": "stdout",
     "output_type": "stream",
     "text": [
      "======================================================================\n",
      "Task 281123b4 pair 4  | input (4, 19) -> target (4, 4)\n",
      "- Input grid:\n",
      "\u001b[48;5;39m8\u001b[0m \u001b[48;5;39m8\u001b[0m \u001b[48;5;39m8\u001b[0m \u001b[48;5;232m0\u001b[0m \u001b[48;5;196m3\u001b[0m \u001b[48;5;27m5\u001b[0m \u001b[48;5;27m5\u001b[0m \u001b[48;5;27m5\u001b[0m \u001b[48;5;232m0\u001b[0m \u001b[48;5;196m3\u001b[0m \u001b[48;5;15m9\u001b[0m \u001b[48;5;15m9\u001b[0m \u001b[48;5;15m9\u001b[0m \u001b[48;5;232m0\u001b[0m \u001b[48;5;196m3\u001b[0m \u001b[48;5;34m4\u001b[0m \u001b[48;5;34m4\u001b[0m \u001b[48;5;34m4\u001b[0m \u001b[48;5;34m4\u001b[0m\u001b[0m\n",
      "\u001b[48;5;39m8\u001b[0m \u001b[48;5;232m0\u001b[0m \u001b[48;5;39m8\u001b[0m \u001b[48;5;232m0\u001b[0m \u001b[48;5;196m3\u001b[0m \u001b[48;5;27m5\u001b[0m \u001b[48;5;27m5\u001b[0m \u001b[48;5;27m5\u001b[0m \u001b[48;5;27m5\u001b[0m \u001b[48;5;196m3\u001b[0m \u001b[48;5;15m9\u001b[0m \u001b[48;5;15m9\u001b[0m \u001b[48;5;232m0\u001b[0m \u001b[48;5;15m9\u001b[0m \u001b[48;5;196m3\u001b[0m \u001b[48;5;232m0\u001b[0m \u001b[48;5;232m0\u001b[0m \u001b[48;5;232m0\u001b[0m \u001b[48;5;232m0\u001b[0m\u001b[0m\n",
      "\u001b[48;5;232m0\u001b[0m \u001b[48;5;232m0\u001b[0m \u001b[48;5;232m0\u001b[0m \u001b[48;5;39m8\u001b[0m \u001b[48;5;196m3\u001b[0m \u001b[48;5;27m5\u001b[0m \u001b[48;5;27m5\u001b[0m \u001b[48;5;232m0\u001b[0m \u001b[48;5;232m0\u001b[0m \u001b[48;5;196m3\u001b[0m \u001b[48;5;232m0\u001b[0m \u001b[48;5;232m0\u001b[0m \u001b[48;5;232m0\u001b[0m \u001b[48;5;232m0\u001b[0m \u001b[48;5;196m3\u001b[0m \u001b[48;5;232m0\u001b[0m \u001b[48;5;34m4\u001b[0m \u001b[48;5;34m4\u001b[0m \u001b[48;5;232m0\u001b[0m\u001b[0m\n",
      "\u001b[48;5;232m0\u001b[0m \u001b[48;5;39m8\u001b[0m \u001b[48;5;232m0\u001b[0m \u001b[48;5;232m0\u001b[0m \u001b[48;5;196m3\u001b[0m \u001b[48;5;232m0\u001b[0m \u001b[48;5;27m5\u001b[0m \u001b[48;5;27m5\u001b[0m \u001b[48;5;27m5\u001b[0m \u001b[48;5;196m3\u001b[0m \u001b[48;5;15m9\u001b[0m \u001b[48;5;232m0\u001b[0m \u001b[48;5;232m0\u001b[0m \u001b[48;5;232m0\u001b[0m \u001b[48;5;196m3\u001b[0m \u001b[48;5;34m4\u001b[0m \u001b[48;5;34m4\u001b[0m \u001b[48;5;34m4\u001b[0m \u001b[48;5;34m4\u001b[0m\u001b[0m\n",
      "- Target grid:\n",
      "\u001b[48;5;15m9\u001b[0m \u001b[48;5;15m9\u001b[0m \u001b[48;5;15m9\u001b[0m \u001b[48;5;34m4\u001b[0m\u001b[0m\n",
      "\u001b[48;5;15m9\u001b[0m \u001b[48;5;15m9\u001b[0m \u001b[48;5;39m8\u001b[0m \u001b[48;5;15m9\u001b[0m\u001b[0m\n",
      "\u001b[48;5;27m5\u001b[0m \u001b[48;5;34m4\u001b[0m \u001b[48;5;34m4\u001b[0m \u001b[48;5;39m8\u001b[0m\u001b[0m\n",
      "\u001b[48;5;15m9\u001b[0m \u001b[48;5;34m4\u001b[0m \u001b[48;5;34m4\u001b[0m \u001b[48;5;34m4\u001b[0m\u001b[0m\n",
      "- Predicted grid (mismatches highlighted):\n",
      "\u001b[1m\u001b[48;5;232m\u001b[38;5;196m0\u001b[0m \u001b[1m\u001b[48;5;232m\u001b[38;5;196m0\u001b[0m \u001b[1m\u001b[48;5;232m\u001b[38;5;196m0\u001b[0m \u001b[1m\u001b[48;5;232m\u001b[38;5;196m0\u001b[0m\u001b[0m\n",
      "\u001b[1m\u001b[48;5;232m\u001b[38;5;196m0\u001b[0m \u001b[1m\u001b[48;5;232m\u001b[38;5;196m0\u001b[0m \u001b[1m\u001b[48;5;232m\u001b[38;5;196m0\u001b[0m \u001b[1m\u001b[48;5;232m\u001b[38;5;196m0\u001b[0m\u001b[0m\n",
      "\u001b[1m\u001b[48;5;232m\u001b[38;5;196m0\u001b[0m \u001b[1m\u001b[48;5;232m\u001b[38;5;196m0\u001b[0m \u001b[1m\u001b[48;5;232m\u001b[38;5;196m0\u001b[0m \u001b[1m\u001b[48;5;232m\u001b[38;5;196m0\u001b[0m\u001b[0m\n",
      "\u001b[1m\u001b[48;5;232m\u001b[38;5;196m0\u001b[0m \u001b[1m\u001b[48;5;232m\u001b[38;5;196m0\u001b[0m \u001b[1m\u001b[48;5;232m\u001b[38;5;196m0\u001b[0m \u001b[1m\u001b[48;5;232m\u001b[38;5;196m0\u001b[0m\u001b[0m\n"
     ]
    },
    {
     "data": {
      "image/png": "[encoded data removed]",
      "text/plain": [
       "<Figure size 600x200 with 3 Axes>"
      ]
     },
     "metadata": {},
     "output_type": "display_data"
    },
    {
     "name": "stdout",
     "output_type": "stream",
     "text": [
      "Per-example cell accuracy: 0/16 = 0.00%\n",
      "======================================================================\n",
      "Task 29623171 pair 0  | input (11, 11) -> target (11, 11)\n",
      "- Input grid:\n",
      "\u001b[48;5;232m0\u001b[0m \u001b[48;5;232m0\u001b[0m \u001b[48;5;232m0\u001b[0m \u001b[48;5;27m5\u001b[0m \u001b[48;5;232m0\u001b[0m \u001b[48;5;202m2\u001b[0m \u001b[48;5;232m0\u001b[0m \u001b[48;5;27m5\u001b[0m \u001b[48;5;202m2\u001b[0m \u001b[48;5;232m0\u001b[0m \u001b[48;5;232m0\u001b[0m\u001b[0m\n",
      "\u001b[48;5;202m2\u001b[0m \u001b[48;5;232m0\u001b[0m \u001b[48;5;232m0\u001b[0m \u001b[48;5;27m5\u001b[0m \u001b[48;5;232m0\u001b[0m \u001b[48;5;232m0\u001b[0m \u001b[48;5;232m0\u001b[0m \u001b[48;5;27m5\u001b[0m \u001b[48;5;232m0\u001b[0m \u001b[48;5;232m0\u001b[0m \u001b[48;5;202m2\u001b[0m\u001b[0m\n",
      "\u001b[48;5;232m0\u001b[0m \u001b[48;5;232m0\u001b[0m \u001b[48;5;232m0\u001b[0m \u001b[48;5;27m5\u001b[0m \u001b[48;5;232m0\u001b[0m \u001b[48;5;232m0\u001b[0m \u001b[48;5;232m0\u001b[0m \u001b[48;5;27m5\u001b[0m \u001b[48;5;232m0\u001b[0m \u001b[48;5;232m0\u001b[0m \u001b[48;5;232m0\u001b[0m\u001b[0m\n",
      "\u001b[48;5;27m5\u001b[0m \u001b[48;5;27m5\u001b[0m \u001b[48;5;27m5\u001b[0m \u001b[48;5;27m5\u001b[0m \u001b[48;5;27m5\u001b[0m \u001b[48;5;27m5\u001b[0m \u001b[48;5;27m5\u001b[0m \u001b[48;5;27m5\u001b[0m \u001b[48;5;27m5\u001b[0m \u001b[48;5;27m5\u001b[0m \u001b[48;5;27m5\u001b[0m\u001b[0m\n",
      "\u001b[48;5;202m2\u001b[0m \u001b[48;5;232m0\u001b[0m \u001b[48;5;232m0\u001b[0m \u001b[48;5;27m5\u001b[0m \u001b[48;5;232m0\u001b[0m \u001b[48;5;232m0\u001b[0m \u001b[48;5;232m0\u001b[0m \u001b[48;5;27m5\u001b[0m \u001b[48;5;232m0\u001b[0m \u001b[48;5;232m0\u001b[0m \u001b[48;5;232m0\u001b[0m\u001b[0m\n",
      "\u001b[48;5;202m2\u001b[0m \u001b[48;5;232m0\u001b[0m \u001b[48;5;232m0\u001b[0m \u001b[48;5;27m5\u001b[0m \u001b[48;5;232m0\u001b[0m \u001b[48;5;232m0\u001b[0m \u001b[48;5;202m2\u001b[0m \u001b[48;5;27m5\u001b[0m \u001b[48;5;232m0\u001b[0m \u001b[48;5;232m0\u001b[0m \u001b[48;5;232m0\u001b[0m\u001b[0m\n",
      "\u001b[48;5;232m0\u001b[0m \u001b[48;5;232m0\u001b[0m \u001b[48;5;232m0\u001b[0m \u001b[48;5;27m5\u001b[0m \u001b[48;5;232m0\u001b[0m \u001b[48;5;232m0\u001b[0m \u001b[48;5;232m0\u001b[0m \u001b[48;5;27m5\u001b[0m \u001b[48;5;232m0\u001b[0m \u001b[48;5;202m2\u001b[0m \u001b[48;5;232m0\u001b[0m\u001b[0m\n",
      "\u001b[48;5;27m5\u001b[0m \u001b[48;5;27m5\u001b[0m \u001b[48;5;27m5\u001b[0m \u001b[48;5;27m5\u001b[0m \u001b[48;5;27m5\u001b[0m \u001b[48;5;27m5\u001b[0m \u001b[48;5;27m5\u001b[0m \u001b[48;5;27m5\u001b[0m \u001b[48;5;27m5\u001b[0m \u001b[48;5;27m5\u001b[0m \u001b[48;5;27m5\u001b[0m\u001b[0m\n",
      "\u001b[48;5;232m0\u001b[0m \u001b[48;5;232m0\u001b[0m \u001b[48;5;232m0\u001b[0m \u001b[48;5;27m5\u001b[0m \u001b[48;5;232m0\u001b[0m \u001b[48;5;232m0\u001b[0m \u001b[48;5;232m0\u001b[0m \u001b[48;5;27m5\u001b[0m \u001b[48;5;232m0\u001b[0m \u001b[48;5;232m0\u001b[0m \u001b[48;5;232m0\u001b[0m\u001b[0m\n",
      "\u001b[48;5;202m2\u001b[0m \u001b[48;5;232m0\u001b[0m \u001b[48;5;232m0\u001b[0m \u001b[48;5;27m5\u001b[0m \u001b[48;5;232m0\u001b[0m \u001b[48;5;232m0\u001b[0m \u001b[48;5;202m2\u001b[0m \u001b[48;5;27m5\u001b[0m \u001b[48;5;232m0\u001b[0m \u001b[48;5;232m0\u001b[0m \u001b[48;5;202m2\u001b[0m\u001b[0m\n",
      "\u001b[48;5;232m0\u001b[0m \u001b[48;5;232m0\u001b[0m \u001b[48;5;232m0\u001b[0m \u001b[48;5;27m5\u001b[0m \u001b[48;5;232m0\u001b[0m \u001b[48;5;232m0\u001b[0m \u001b[48;5;232m0\u001b[0m \u001b[48;5;27m5\u001b[0m \u001b[48;5;232m0\u001b[0m \u001b[48;5;232m0\u001b[0m \u001b[48;5;232m0\u001b[0m\u001b[0m\n",
      "- Target grid:\n",
      "\u001b[48;5;232m0\u001b[0m \u001b[48;5;232m0\u001b[0m \u001b[48;5;232m0\u001b[0m \u001b[48;5;27m5\u001b[0m \u001b[48;5;232m0\u001b[0m \u001b[48;5;232m0\u001b[0m \u001b[48;5;232m0\u001b[0m \u001b[48;5;27m5\u001b[0m \u001b[48;5;202m2\u001b[0m \u001b[48;5;202m2\u001b[0m \u001b[48;5;202m2\u001b[0m\u001b[0m\n",
      "\u001b[48;5;232m0\u001b[0m \u001b[48;5;232m0\u001b[0m \u001b[48;5;232m0\u001b[0m \u001b[48;5;27m5\u001b[0m \u001b[48;5;232m0\u001b[0m \u001b[48;5;232m0\u001b[0m \u001b[48;5;232m0\u001b[0m \u001b[48;5;27m5\u001b[0m \u001b[48;5;202m2\u001b[0m \u001b[48;5;202m2\u001b[0m \u001b[48;5;202m2\u001b[0m\u001b[0m\n",
      "\u001b[48;5;232m0\u001b[0m \u001b[48;5;232m0\u001b[0m \u001b[48;5;232m0\u001b[0m \u001b[48;5;27m5\u001b[0m \u001b[48;5;232m0\u001b[0m \u001b[48;5;232m0\u001b[0m \u001b[48;5;232m0\u001b[0m \u001b[48;5;27m5\u001b[0m \u001b[48;5;202m2\u001b[0m \u001b[48;5;202m2\u001b[0m \u001b[48;5;202m2\u001b[0m\u001b[0m\n",
      "\u001b[48;5;27m5\u001b[0m \u001b[48;5;27m5\u001b[0m \u001b[48;5;27m5\u001b[0m \u001b[48;5;27m5\u001b[0m \u001b[48;5;27m5\u001b[0m \u001b[48;5;27m5\u001b[0m \u001b[48;5;27m5\u001b[0m \u001b[48;5;27m5\u001b[0m \u001b[48;5;27m5\u001b[0m \u001b[48;5;27m5\u001b[0m \u001b[48;5;27m5\u001b[0m\u001b[0m\n",
      "\u001b[48;5;202m2\u001b[0m \u001b[48;5;202m2\u001b[0m \u001b[48;5;202m2\u001b[0m \u001b[48;5;27m5\u001b[0m \u001b[48;5;232m0\u001b[0m \u001b[48;5;232m0\u001b[0m \u001b[48;5;232m0\u001b[0m \u001b[48;5;27m5\u001b[0m \u001b[48;5;232m0\u001b[0m \u001b[48;5;232m0\u001b[0m \u001b[48;5;232m0\u001b[0m\u001b[0m\n",
      "\u001b[48;5;202m2\u001b[0m \u001b[48;5;202m2\u001b[0m \u001b[48;5;202m2\u001b[0m \u001b[48;5;27m5\u001b[0m \u001b[48;5;232m0\u001b[0m \u001b[48;5;232m0\u001b[0m \u001b[48;5;232m0\u001b[0m \u001b[48;5;27m5\u001b[0m \u001b[48;5;232m0\u001b[0m \u001b[48;5;232m0\u001b[0m \u001b[48;5;232m0\u001b[0m\u001b[0m\n",
      "\u001b[48;5;202m2\u001b[0m \u001b[48;5;202m2\u001b[0m \u001b[48;5;202m2\u001b[0m \u001b[48;5;27m5\u001b[0m \u001b[48;5;232m0\u001b[0m \u001b[48;5;232m0\u001b[0m \u001b[48;5;232m0\u001b[0m \u001b[48;5;27m5\u001b[0m \u001b[48;5;232m0\u001b[0m \u001b[48;5;232m0\u001b[0m \u001b[48;5;232m0\u001b[0m\u001b[0m\n",
      "\u001b[48;5;27m5\u001b[0m \u001b[48;5;27m5\u001b[0m \u001b[48;5;27m5\u001b[0m \u001b[48;5;27m5\u001b[0m \u001b[48;5;27m5\u001b[0m \u001b[48;5;27m5\u001b[0m \u001b[48;5;27m5\u001b[0m \u001b[48;5;27m5\u001b[0m \u001b[48;5;27m5\u001b[0m \u001b[48;5;27m5\u001b[0m \u001b[48;5;27m5\u001b[0m\u001b[0m\n",
      "\u001b[48;5;232m0\u001b[0m \u001b[48;5;232m0\u001b[0m \u001b[48;5;232m0\u001b[0m \u001b[48;5;27m5\u001b[0m \u001b[48;5;232m0\u001b[0m \u001b[48;5;232m0\u001b[0m \u001b[48;5;232m0\u001b[0m \u001b[48;5;27m5\u001b[0m \u001b[48;5;232m0\u001b[0m \u001b[48;5;232m0\u001b[0m \u001b[48;5;232m0\u001b[0m\u001b[0m\n",
      "\u001b[48;5;232m0\u001b[0m \u001b[48;5;232m0\u001b[0m \u001b[48;5;232m0\u001b[0m \u001b[48;5;27m5\u001b[0m \u001b[48;5;232m0\u001b[0m \u001b[48;5;232m0\u001b[0m \u001b[48;5;232m0\u001b[0m \u001b[48;5;27m5\u001b[0m \u001b[48;5;232m0\u001b[0m \u001b[48;5;232m0\u001b[0m \u001b[48;5;232m0\u001b[0m\u001b[0m\n",
      "\u001b[48;5;232m0\u001b[0m \u001b[48;5;232m0\u001b[0m \u001b[48;5;232m0\u001b[0m \u001b[48;5;27m5\u001b[0m \u001b[48;5;232m0\u001b[0m \u001b[48;5;232m0\u001b[0m \u001b[48;5;232m0\u001b[0m \u001b[48;5;27m5\u001b[0m \u001b[48;5;232m0\u001b[0m \u001b[48;5;232m0\u001b[0m \u001b[48;5;232m0\u001b[0m\u001b[0m\n",
      "- Predicted grid (mismatches highlighted):\n",
      "\u001b[48;5;232m0\u001b[0m \u001b[48;5;232m0\u001b[0m \u001b[48;5;232m0\u001b[0m \u001b[1m\u001b[48;5;232m\u001b[38;5;196m0\u001b[0m \u001b[48;5;232m0\u001b[0m \u001b[48;5;232m0\u001b[0m \u001b[48;5;232m0\u001b[0m \u001b[1m\u001b[48;5;232m\u001b[38;5;196m0\u001b[0m \u001b[1m\u001b[48;5;232m\u001b[38;5;196m0\u001b[0m \u001b[1m\u001b[48;5;232m\u001b[38;5;196m0\u001b[0m \u001b[1m\u001b[48;5;232m\u001b[38;5;196m0\u001b[0m\u001b[0m\n",
      "\u001b[48;5;232m0\u001b[0m \u001b[48;5;232m0\u001b[0m \u001b[48;5;232m0\u001b[0m \u001b[1m\u001b[48;5;232m\u001b[38;5;196m0\u001b[0m \u001b[48;5;232m0\u001b[0m \u001b[48;5;232m0\u001b[0m \u001b[48;5;232m0\u001b[0m \u001b[1m\u001b[48;5;232m\u001b[38;5;196m0\u001b[0m \u001b[1m\u001b[48;5;232m\u001b[38;5;196m0\u001b[0m \u001b[1m\u001b[48;5;232m\u001b[38;5;196m0\u001b[0m \u001b[1m\u001b[48;5;232m\u001b[38;5;196m0\u001b[0m\u001b[0m\n",
      "\u001b[48;5;232m0\u001b[0m \u001b[48;5;232m0\u001b[0m \u001b[48;5;232m0\u001b[0m \u001b[1m\u001b[48;5;232m\u001b[38;5;196m0\u001b[0m \u001b[48;5;232m0\u001b[0m \u001b[48;5;232m0\u001b[0m \u001b[48;5;232m0\u001b[0m \u001b[1m\u001b[48;5;232m\u001b[38;5;196m0\u001b[0m \u001b[1m\u001b[48;5;232m\u001b[38;5;196m0\u001b[0m \u001b[1m\u001b[48;5;232m\u001b[38;5;196m0\u001b[0m \u001b[1m\u001b[48;5;232m\u001b[38;5;196m0\u001b[0m\u001b[0m\n",
      "\u001b[1m\u001b[48;5;232m\u001b[38;5;196m0\u001b[0m \u001b[1m\u001b[48;5;232m\u001b[38;5;196m0\u001b[0m \u001b[1m\u001b[48;5;232m\u001b[38;5;196m0\u001b[0m \u001b[1m\u001b[48;5;232m\u001b[38;5;196m0\u001b[0m \u001b[1m\u001b[48;5;232m\u001b[38;5;196m0\u001b[0m \u001b[1m\u001b[48;5;232m\u001b[38;5;196m0\u001b[0m \u001b[1m\u001b[48;5;232m\u001b[38;5;196m0\u001b[0m \u001b[1m\u001b[48;5;232m\u001b[38;5;196m0\u001b[0m \u001b[1m\u001b[48;5;232m\u001b[38;5;196m0\u001b[0m \u001b[1m\u001b[48;5;232m\u001b[38;5;196m0\u001b[0m \u001b[1m\u001b[48;5;232m\u001b[38;5;196m0\u001b[0m\u001b[0m\n",
      "\u001b[1m\u001b[48;5;232m\u001b[38;5;196m0\u001b[0m \u001b[1m\u001b[48;5;232m\u001b[38;5;196m0\u001b[0m \u001b[1m\u001b[48;5;232m\u001b[38;5;196m0\u001b[0m \u001b[1m\u001b[48;5;232m\u001b[38;5;196m0\u001b[0m \u001b[48;5;232m0\u001b[0m \u001b[48;5;232m0\u001b[0m \u001b[48;5;232m0\u001b[0m \u001b[1m\u001b[48;5;232m\u001b[38;5;196m0\u001b[0m \u001b[48;5;232m0\u001b[0m \u001b[48;5;232m0\u001b[0m \u001b[48;5;232m0\u001b[0m\u001b[0m\n",
      "\u001b[1m\u001b[48;5;232m\u001b[38;5;196m0\u001b[0m \u001b[1m\u001b[48;5;232m\u001b[38;5;196m0\u001b[0m \u001b[1m\u001b[48;5;232m\u001b[38;5;196m0\u001b[0m \u001b[1m\u001b[48;5;232m\u001b[38;5;196m0\u001b[0m \u001b[48;5;232m0\u001b[0m \u001b[48;5;232m0\u001b[0m \u001b[48;5;232m0\u001b[0m \u001b[1m\u001b[48;5;232m\u001b[38;5;196m0\u001b[0m \u001b[48;5;232m0\u001b[0m \u001b[48;5;232m0\u001b[0m \u001b[48;5;232m0\u001b[0m\u001b[0m\n",
      "\u001b[1m\u001b[48;5;232m\u001b[38;5;196m0\u001b[0m \u001b[1m\u001b[48;5;232m\u001b[38;5;196m0\u001b[0m \u001b[1m\u001b[48;5;232m\u001b[38;5;196m0\u001b[0m \u001b[1m\u001b[48;5;232m\u001b[38;5;196m0\u001b[0m \u001b[48;5;232m0\u001b[0m \u001b[48;5;232m0\u001b[0m \u001b[48;5;232m0\u001b[0m \u001b[1m\u001b[48;5;232m\u001b[38;5;196m0\u001b[0m \u001b[48;5;232m0\u001b[0m \u001b[48;5;232m0\u001b[0m \u001b[48;5;232m0\u001b[0m\u001b[0m\n",
      "\u001b[1m\u001b[48;5;232m\u001b[38;5;196m0\u001b[0m \u001b[1m\u001b[48;5;232m\u001b[38;5;196m0\u001b[0m \u001b[1m\u001b[48;5;232m\u001b[38;5;196m0\u001b[0m \u001b[1m\u001b[48;5;232m\u001b[38;5;196m0\u001b[0m \u001b[1m\u001b[48;5;232m\u001b[38;5;196m0\u001b[0m \u001b[1m\u001b[48;5;232m\u001b[38;5;196m0\u001b[0m \u001b[1m\u001b[48;5;232m\u001b[38;5;196m0\u001b[0m \u001b[1m\u001b[48;5;232m\u001b[38;5;196m0\u001b[0m \u001b[1m\u001b[48;5;232m\u001b[38;5;196m0\u001b[0m \u001b[1m\u001b[48;5;232m\u001b[38;5;196m0\u001b[0m \u001b[1m\u001b[48;5;232m\u001b[38;5;196m0\u001b[0m\u001b[0m\n",
      "\u001b[48;5;232m0\u001b[0m \u001b[48;5;232m0\u001b[0m \u001b[48;5;232m0\u001b[0m \u001b[1m\u001b[48;5;232m\u001b[38;5;196m0\u001b[0m \u001b[48;5;232m0\u001b[0m \u001b[48;5;232m0\u001b[0m \u001b[48;5;232m0\u001b[0m \u001b[1m\u001b[48;5;232m\u001b[38;5;196m0\u001b[0m \u001b[48;5;232m0\u001b[0m \u001b[48;5;232m0\u001b[0m \u001b[48;5;232m0\u001b[0m\u001b[0m\n",
      "\u001b[48;5;232m0\u001b[0m \u001b[48;5;232m0\u001b[0m \u001b[48;5;232m0\u001b[0m \u001b[1m\u001b[48;5;232m\u001b[38;5;196m0\u001b[0m \u001b[48;5;232m0\u001b[0m \u001b[48;5;232m0\u001b[0m \u001b[48;5;232m0\u001b[0m \u001b[1m\u001b[48;5;232m\u001b[38;5;196m0\u001b[0m \u001b[48;5;232m0\u001b[0m \u001b[48;5;232m0\u001b[0m \u001b[48;5;232m0\u001b[0m\u001b[0m\n",
      "\u001b[48;5;232m0\u001b[0m \u001b[48;5;232m0\u001b[0m \u001b[48;5;232m0\u001b[0m \u001b[1m\u001b[48;5;232m\u001b[38;5;196m0\u001b[0m \u001b[48;5;232m0\u001b[0m \u001b[48;5;232m0\u001b[0m \u001b[48;5;232m0\u001b[0m \u001b[1m\u001b[48;5;232m\u001b[38;5;196m0\u001b[0m \u001b[48;5;232m0\u001b[0m \u001b[48;5;232m0\u001b[0m \u001b[48;5;232m0\u001b[0m\u001b[0m\n"
     ]
    },
    {
     "data": {
      "image/png": "[encoded data removed]",
      "text/plain": [
       "<Figure size 600x200 with 3 Axes>"
      ]
     },
     "metadata": {},
     "output_type": "display_data"
    },
    {
     "name": "stdout",
     "output_type": "stream",
     "text": [
      "Per-example cell accuracy: 63/121 = 52.07%\n",
      "======================================================================\n",
      "Task 29623171 pair 1  | input (11, 11) -> target (11, 11)\n",
      "- Input grid:\n",
      "\u001b[48;5;232m0\u001b[0m \u001b[48;5;232m0\u001b[0m \u001b[48;5;232m0\u001b[0m \u001b[48;5;27m5\u001b[0m \u001b[48;5;232m0\u001b[0m \u001b[48;5;232m0\u001b[0m \u001b[48;5;232m0\u001b[0m \u001b[48;5;27m5\u001b[0m \u001b[48;5;232m0\u001b[0m \u001b[48;5;232m0\u001b[0m \u001b[48;5;232m0\u001b[0m\u001b[0m\n",
      "\u001b[48;5;240m1\u001b[0m \u001b[48;5;232m0\u001b[0m \u001b[48;5;232m0\u001b[0m \u001b[48;5;27m5\u001b[0m \u001b[48;5;232m0\u001b[0m \u001b[48;5;232m0\u001b[0m \u001b[48;5;232m0\u001b[0m \u001b[48;5;27m5\u001b[0m \u001b[48;5;232m0\u001b[0m \u001b[48;5;240m1\u001b[0m \u001b[48;5;232m0\u001b[0m\u001b[0m\n",
      "\u001b[48;5;232m0\u001b[0m \u001b[48;5;232m0\u001b[0m \u001b[48;5;232m0\u001b[0m \u001b[48;5;27m5\u001b[0m \u001b[48;5;232m0\u001b[0m \u001b[48;5;232m0\u001b[0m \u001b[48;5;240m1\u001b[0m \u001b[48;5;27m5\u001b[0m \u001b[48;5;232m0\u001b[0m \u001b[48;5;232m0\u001b[0m \u001b[48;5;232m0\u001b[0m\u001b[0m\n",
      "\u001b[48;5;27m5\u001b[0m \u001b[48;5;27m5\u001b[0m \u001b[48;5;27m5\u001b[0m \u001b[48;5;27m5\u001b[0m \u001b[48;5;27m5\u001b[0m \u001b[48;5;27m5\u001b[0m \u001b[48;5;27m5\u001b[0m \u001b[48;5;27m5\u001b[0m \u001b[48;5;27m5\u001b[0m \u001b[48;5;27m5\u001b[0m \u001b[48;5;27m5\u001b[0m\u001b[0m\n",
      "\u001b[48;5;232m0\u001b[0m \u001b[48;5;232m0\u001b[0m \u001b[48;5;232m0\u001b[0m \u001b[48;5;27m5\u001b[0m \u001b[48;5;232m0\u001b[0m \u001b[48;5;232m0\u001b[0m \u001b[48;5;240m1\u001b[0m \u001b[48;5;27m5\u001b[0m \u001b[48;5;232m0\u001b[0m \u001b[48;5;232m0\u001b[0m \u001b[48;5;232m0\u001b[0m\u001b[0m\n",
      "\u001b[48;5;232m0\u001b[0m \u001b[48;5;232m0\u001b[0m \u001b[48;5;232m0\u001b[0m \u001b[48;5;27m5\u001b[0m \u001b[48;5;232m0\u001b[0m \u001b[48;5;232m0\u001b[0m \u001b[48;5;232m0\u001b[0m \u001b[48;5;27m5\u001b[0m \u001b[48;5;232m0\u001b[0m \u001b[48;5;240m1\u001b[0m \u001b[48;5;232m0\u001b[0m\u001b[0m\n",
      "\u001b[48;5;232m0\u001b[0m \u001b[48;5;232m0\u001b[0m \u001b[48;5;232m0\u001b[0m \u001b[48;5;27m5\u001b[0m \u001b[48;5;232m0\u001b[0m \u001b[48;5;232m0\u001b[0m \u001b[48;5;232m0\u001b[0m \u001b[48;5;27m5\u001b[0m \u001b[48;5;232m0\u001b[0m \u001b[48;5;232m0\u001b[0m \u001b[48;5;232m0\u001b[0m\u001b[0m\n",
      "\u001b[48;5;27m5\u001b[0m \u001b[48;5;27m5\u001b[0m \u001b[48;5;27m5\u001b[0m \u001b[48;5;27m5\u001b[0m \u001b[48;5;27m5\u001b[0m \u001b[48;5;27m5\u001b[0m \u001b[48;5;27m5\u001b[0m \u001b[48;5;27m5\u001b[0m \u001b[48;5;27m5\u001b[0m \u001b[48;5;27m5\u001b[0m \u001b[48;5;27m5\u001b[0m\u001b[0m\n",
      "\u001b[48;5;232m0\u001b[0m \u001b[48;5;232m0\u001b[0m \u001b[48;5;232m0\u001b[0m \u001b[48;5;27m5\u001b[0m \u001b[48;5;232m0\u001b[0m \u001b[48;5;232m0\u001b[0m \u001b[48;5;232m0\u001b[0m \u001b[48;5;27m5\u001b[0m \u001b[48;5;240m1\u001b[0m \u001b[48;5;232m0\u001b[0m \u001b[48;5;232m0\u001b[0m\u001b[0m\n",
      "\u001b[48;5;232m0\u001b[0m \u001b[48;5;240m1\u001b[0m \u001b[48;5;232m0\u001b[0m \u001b[48;5;27m5\u001b[0m \u001b[48;5;232m0\u001b[0m \u001b[48;5;232m0\u001b[0m \u001b[48;5;232m0\u001b[0m \u001b[48;5;27m5\u001b[0m \u001b[48;5;232m0\u001b[0m \u001b[48;5;232m0\u001b[0m \u001b[48;5;240m1\u001b[0m\u001b[0m\n",
      "\u001b[48;5;232m0\u001b[0m \u001b[48;5;232m0\u001b[0m \u001b[48;5;232m0\u001b[0m \u001b[48;5;27m5\u001b[0m \u001b[48;5;232m0\u001b[0m \u001b[48;5;232m0\u001b[0m \u001b[48;5;232m0\u001b[0m \u001b[48;5;27m5\u001b[0m \u001b[48;5;232m0\u001b[0m \u001b[48;5;232m0\u001b[0m \u001b[48;5;232m0\u001b[0m\u001b[0m\n",
      "- Target grid:\n",
      "\u001b[48;5;232m0\u001b[0m \u001b[48;5;232m0\u001b[0m \u001b[48;5;232m0\u001b[0m \u001b[48;5;27m5\u001b[0m \u001b[48;5;232m0\u001b[0m \u001b[48;5;232m0\u001b[0m \u001b[48;5;232m0\u001b[0m \u001b[48;5;27m5\u001b[0m \u001b[48;5;232m0\u001b[0m \u001b[48;5;232m0\u001b[0m \u001b[48;5;232m0\u001b[0m\u001b[0m\n",
      "\u001b[48;5;232m0\u001b[0m \u001b[48;5;232m0\u001b[0m \u001b[48;5;232m0\u001b[0m \u001b[48;5;27m5\u001b[0m \u001b[48;5;232m0\u001b[0m \u001b[48;5;232m0\u001b[0m \u001b[48;5;232m0\u001b[0m \u001b[48;5;27m5\u001b[0m \u001b[48;5;232m0\u001b[0m \u001b[48;5;232m0\u001b[0m \u001b[48;5;232m0\u001b[0m\u001b[0m\n",
      "\u001b[48;5;232m0\u001b[0m \u001b[48;5;232m0\u001b[0m \u001b[48;5;232m0\u001b[0m \u001b[48;5;27m5\u001b[0m \u001b[48;5;232m0\u001b[0m \u001b[48;5;232m0\u001b[0m \u001b[48;5;232m0\u001b[0m \u001b[48;5;27m5\u001b[0m \u001b[48;5;232m0\u001b[0m \u001b[48;5;232m0\u001b[0m \u001b[48;5;232m0\u001b[0m\u001b[0m\n",
      "\u001b[48;5;27m5\u001b[0m \u001b[48;5;27m5\u001b[0m \u001b[48;5;27m5\u001b[0m \u001b[48;5;27m5\u001b[0m \u001b[48;5;27m5\u001b[0m \u001b[48;5;27m5\u001b[0m \u001b[48;5;27m5\u001b[0m \u001b[48;5;27m5\u001b[0m \u001b[48;5;27m5\u001b[0m \u001b[48;5;27m5\u001b[0m \u001b[48;5;27m5\u001b[0m\u001b[0m\n",
      "\u001b[48;5;232m0\u001b[0m \u001b[48;5;232m0\u001b[0m \u001b[48;5;232m0\u001b[0m \u001b[48;5;27m5\u001b[0m \u001b[48;5;232m0\u001b[0m \u001b[48;5;232m0\u001b[0m \u001b[48;5;232m0\u001b[0m \u001b[48;5;27m5\u001b[0m \u001b[48;5;232m0\u001b[0m \u001b[48;5;232m0\u001b[0m \u001b[48;5;232m0\u001b[0m\u001b[0m\n",
      "\u001b[48;5;232m0\u001b[0m \u001b[48;5;232m0\u001b[0m \u001b[48;5;232m0\u001b[0m \u001b[48;5;27m5\u001b[0m \u001b[48;5;232m0\u001b[0m \u001b[48;5;232m0\u001b[0m \u001b[48;5;232m0\u001b[0m \u001b[48;5;27m5\u001b[0m \u001b[48;5;232m0\u001b[0m \u001b[48;5;232m0\u001b[0m \u001b[48;5;232m0\u001b[0m\u001b[0m\n",
      "\u001b[48;5;232m0\u001b[0m \u001b[48;5;232m0\u001b[0m \u001b[48;5;232m0\u001b[0m \u001b[48;5;27m5\u001b[0m \u001b[48;5;232m0\u001b[0m \u001b[48;5;232m0\u001b[0m \u001b[48;5;232m0\u001b[0m \u001b[48;5;27m5\u001b[0m \u001b[48;5;232m0\u001b[0m \u001b[48;5;232m0\u001b[0m \u001b[48;5;232m0\u001b[0m\u001b[0m\n",
      "\u001b[48;5;27m5\u001b[0m \u001b[48;5;27m5\u001b[0m \u001b[48;5;27m5\u001b[0m \u001b[48;5;27m5\u001b[0m \u001b[48;5;27m5\u001b[0m \u001b[48;5;27m5\u001b[0m \u001b[48;5;27m5\u001b[0m \u001b[48;5;27m5\u001b[0m \u001b[48;5;27m5\u001b[0m \u001b[48;5;27m5\u001b[0m \u001b[48;5;27m5\u001b[0m\u001b[0m\n",
      "\u001b[48;5;232m0\u001b[0m \u001b[48;5;232m0\u001b[0m \u001b[48;5;232m0\u001b[0m \u001b[48;5;27m5\u001b[0m \u001b[48;5;232m0\u001b[0m \u001b[48;5;232m0\u001b[0m \u001b[48;5;232m0\u001b[0m \u001b[48;5;27m5\u001b[0m \u001b[48;5;240m1\u001b[0m \u001b[48;5;240m1\u001b[0m \u001b[48;5;240m1\u001b[0m\u001b[0m\n",
      "\u001b[48;5;232m0\u001b[0m \u001b[48;5;232m0\u001b[0m \u001b[48;5;232m0\u001b[0m \u001b[48;5;27m5\u001b[0m \u001b[48;5;232m0\u001b[0m \u001b[48;5;232m0\u001b[0m \u001b[48;5;232m0\u001b[0m \u001b[48;5;27m5\u001b[0m \u001b[48;5;240m1\u001b[0m \u001b[48;5;240m1\u001b[0m \u001b[48;5;240m1\u001b[0m\u001b[0m\n",
      "\u001b[48;5;232m0\u001b[0m \u001b[48;5;232m0\u001b[0m \u001b[48;5;232m0\u001b[0m \u001b[48;5;27m5\u001b[0m \u001b[48;5;232m0\u001b[0m \u001b[48;5;232m0\u001b[0m \u001b[48;5;232m0\u001b[0m \u001b[48;5;27m5\u001b[0m \u001b[48;5;240m1\u001b[0m \u001b[48;5;240m1\u001b[0m \u001b[48;5;240m1\u001b[0m\u001b[0m\n",
      "- Predicted grid (mismatches highlighted):\n",
      "\u001b[48;5;232m0\u001b[0m \u001b[48;5;232m0\u001b[0m \u001b[48;5;232m0\u001b[0m \u001b[1m\u001b[48;5;232m\u001b[38;5;196m0\u001b[0m \u001b[48;5;232m0\u001b[0m \u001b[48;5;232m0\u001b[0m \u001b[48;5;232m0\u001b[0m \u001b[1m\u001b[48;5;232m\u001b[38;5;196m0\u001b[0m \u001b[48;5;232m0\u001b[0m \u001b[48;5;232m0\u001b[0m \u001b[48;5;232m0\u001b[0m\u001b[0m\n",
      "\u001b[48;5;232m0\u001b[0m \u001b[48;5;232m0\u001b[0m \u001b[48;5;232m0\u001b[0m \u001b[1m\u001b[48;5;232m\u001b[38;5;196m0\u001b[0m \u001b[48;5;232m0\u001b[0m \u001b[48;5;232m0\u001b[0m \u001b[48;5;232m0\u001b[0m \u001b[1m\u001b[48;5;232m\u001b[38;5;196m0\u001b[0m \u001b[48;5;232m0\u001b[0m \u001b[48;5;232m0\u001b[0m \u001b[48;5;232m0\u001b[0m\u001b[0m\n",
      "\u001b[48;5;232m0\u001b[0m \u001b[48;5;232m0\u001b[0m \u001b[48;5;232m0\u001b[0m \u001b[1m\u001b[48;5;232m\u001b[38;5;196m0\u001b[0m \u001b[48;5;232m0\u001b[0m \u001b[48;5;232m0\u001b[0m \u001b[48;5;232m0\u001b[0m \u001b[1m\u001b[48;5;232m\u001b[38;5;196m0\u001b[0m \u001b[48;5;232m0\u001b[0m \u001b[48;5;232m0\u001b[0m \u001b[48;5;232m0\u001b[0m\u001b[0m\n",
      "\u001b[1m\u001b[48;5;232m\u001b[38;5;196m0\u001b[0m \u001b[1m\u001b[48;5;232m\u001b[38;5;196m0\u001b[0m \u001b[1m\u001b[48;5;232m\u001b[38;5;196m0\u001b[0m \u001b[1m\u001b[48;5;232m\u001b[38;5;196m0\u001b[0m \u001b[1m\u001b[48;5;232m\u001b[38;5;196m0\u001b[0m \u001b[1m\u001b[48;5;232m\u001b[38;5;196m0\u001b[0m \u001b[1m\u001b[48;5;232m\u001b[38;5;196m0\u001b[0m \u001b[1m\u001b[48;5;232m\u001b[38;5;196m0\u001b[0m \u001b[1m\u001b[48;5;232m\u001b[38;5;196m0\u001b[0m \u001b[1m\u001b[48;5;232m\u001b[38;5;196m0\u001b[0m \u001b[1m\u001b[48;5;232m\u001b[38;5;196m0\u001b[0m\u001b[0m\n",
      "\u001b[48;5;232m0\u001b[0m \u001b[48;5;232m0\u001b[0m \u001b[48;5;232m0\u001b[0m \u001b[1m\u001b[48;5;232m\u001b[38;5;196m0\u001b[0m \u001b[48;5;232m0\u001b[0m \u001b[48;5;232m0\u001b[0m \u001b[48;5;232m0\u001b[0m \u001b[1m\u001b[48;5;232m\u001b[38;5;196m0\u001b[0m \u001b[48;5;232m0\u001b[0m \u001b[48;5;232m0\u001b[0m \u001b[48;5;232m0\u001b[0m\u001b[0m\n",
      "\u001b[48;5;232m0\u001b[0m \u001b[48;5;232m0\u001b[0m \u001b[48;5;232m0\u001b[0m \u001b[1m\u001b[48;5;232m\u001b[38;5;196m0\u001b[0m \u001b[48;5;232m0\u001b[0m \u001b[48;5;232m0\u001b[0m \u001b[48;5;232m0\u001b[0m \u001b[1m\u001b[48;5;232m\u001b[38;5;196m0\u001b[0m \u001b[48;5;232m0\u001b[0m \u001b[48;5;232m0\u001b[0m \u001b[48;5;232m0\u001b[0m\u001b[0m\n",
      "\u001b[48;5;232m0\u001b[0m \u001b[48;5;232m0\u001b[0m \u001b[48;5;232m0\u001b[0m \u001b[1m\u001b[48;5;232m\u001b[38;5;196m0\u001b[0m \u001b[48;5;232m0\u001b[0m \u001b[48;5;232m0\u001b[0m \u001b[48;5;232m0\u001b[0m \u001b[1m\u001b[48;5;232m\u001b[38;5;196m0\u001b[0m \u001b[48;5;232m0\u001b[0m \u001b[48;5;232m0\u001b[0m \u001b[48;5;232m0\u001b[0m\u001b[0m\n",
      "\u001b[1m\u001b[48;5;232m\u001b[38;5;196m0\u001b[0m \u001b[1m\u001b[48;5;232m\u001b[38;5;196m0\u001b[0m \u001b[1m\u001b[48;5;232m\u001b[38;5;196m0\u001b[0m \u001b[1m\u001b[48;5;232m\u001b[38;5;196m0\u001b[0m \u001b[1m\u001b[48;5;232m\u001b[38;5;196m0\u001b[0m \u001b[1m\u001b[48;5;232m\u001b[38;5;196m0\u001b[0m \u001b[1m\u001b[48;5;232m\u001b[38;5;196m0\u001b[0m \u001b[1m\u001b[48;5;232m\u001b[38;5;196m0\u001b[0m \u001b[1m\u001b[48;5;232m\u001b[38;5;196m0\u001b[0m \u001b[1m\u001b[48;5;232m\u001b[38;5;196m0\u001b[0m \u001b[1m\u001b[48;5;232m\u001b[38;5;196m0\u001b[0m\u001b[0m\n",
      "\u001b[48;5;232m0\u001b[0m \u001b[48;5;232m0\u001b[0m \u001b[48;5;232m0\u001b[0m \u001b[1m\u001b[48;5;232m\u001b[38;5;196m0\u001b[0m \u001b[48;5;232m0\u001b[0m \u001b[48;5;232m0\u001b[0m \u001b[48;5;232m0\u001b[0m \u001b[1m\u001b[48;5;232m\u001b[38;5;196m0\u001b[0m \u001b[1m\u001b[48;5;232m\u001b[38;5;196m0\u001b[0m \u001b[1m\u001b[48;5;232m\u001b[38;5;196m0\u001b[0m \u001b[1m\u001b[48;5;232m\u001b[38;5;196m0\u001b[0m\u001b[0m\n",
      "\u001b[48;5;232m0\u001b[0m \u001b[48;5;232m0\u001b[0m \u001b[48;5;232m0\u001b[0m \u001b[1m\u001b[48;5;232m\u001b[38;5;196m0\u001b[0m \u001b[48;5;232m0\u001b[0m \u001b[48;5;232m0\u001b[0m \u001b[48;5;232m0\u001b[0m \u001b[1m\u001b[48;5;232m\u001b[38;5;196m0\u001b[0m \u001b[1m\u001b[48;5;232m\u001b[38;5;196m0\u001b[0m \u001b[1m\u001b[48;5;232m\u001b[38;5;196m0\u001b[0m \u001b[1m\u001b[48;5;232m\u001b[38;5;196m0\u001b[0m\u001b[0m\n",
      "\u001b[48;5;232m0\u001b[0m \u001b[48;5;232m0\u001b[0m \u001b[48;5;232m0\u001b[0m \u001b[1m\u001b[48;5;232m\u001b[38;5;196m0\u001b[0m \u001b[48;5;232m0\u001b[0m \u001b[48;5;232m0\u001b[0m \u001b[48;5;232m0\u001b[0m \u001b[1m\u001b[48;5;232m\u001b[38;5;196m0\u001b[0m \u001b[1m\u001b[48;5;232m\u001b[38;5;196m0\u001b[0m \u001b[1m\u001b[48;5;232m\u001b[38;5;196m0\u001b[0m \u001b[1m\u001b[48;5;232m\u001b[38;5;196m0\u001b[0m\u001b[0m\n"
     ]
    },
    {
     "data": {
      "image/png": "[encoded data removed]",
      "text/plain": [
       "<Figure size 600x200 with 3 Axes>"
      ]
     },
     "metadata": {},
     "output_type": "display_data"
    },
    {
     "name": "stdout",
     "output_type": "stream",
     "text": [
      "Per-example cell accuracy: 72/121 = 59.50%\n",
      "======================================================================\n",
      "Task 2a5f8217 pair 0  | input (9, 9) -> target (9, 9)\n",
      "- Input grid:\n",
      "\u001b[48;5;232m0\u001b[0m \u001b[48;5;232m0\u001b[0m \u001b[48;5;232m0\u001b[0m \u001b[48;5;232m0\u001b[0m \u001b[48;5;232m0\u001b[0m \u001b[48;5;232m0\u001b[0m \u001b[48;5;232m0\u001b[0m \u001b[48;5;232m0\u001b[0m \u001b[48;5;232m0\u001b[0m\u001b[0m\n",
      "\u001b[48;5;232m0\u001b[0m \u001b[48;5;240m1\u001b[0m \u001b[48;5;240m1\u001b[0m \u001b[48;5;240m1\u001b[0m \u001b[48;5;232m0\u001b[0m \u001b[48;5;232m0\u001b[0m \u001b[48;5;240m1\u001b[0m \u001b[48;5;232m0\u001b[0m \u001b[48;5;232m0\u001b[0m\u001b[0m\n",
      "\u001b[48;5;232m0\u001b[0m \u001b[48;5;240m1\u001b[0m \u001b[48;5;232m0\u001b[0m \u001b[48;5;240m1\u001b[0m \u001b[48;5;232m0\u001b[0m \u001b[48;5;232m0\u001b[0m \u001b[48;5;240m1\u001b[0m \u001b[48;5;240m1\u001b[0m \u001b[48;5;232m0\u001b[0m\u001b[0m\n",
      "\u001b[48;5;232m0\u001b[0m \u001b[48;5;232m0\u001b[0m \u001b[48;5;232m0\u001b[0m \u001b[48;5;232m0\u001b[0m \u001b[48;5;232m0\u001b[0m \u001b[48;5;232m0\u001b[0m \u001b[48;5;232m0\u001b[0m \u001b[48;5;232m0\u001b[0m \u001b[48;5;232m0\u001b[0m\u001b[0m\n",
      "\u001b[48;5;232m0\u001b[0m \u001b[48;5;232m0\u001b[0m \u001b[48;5;232m0\u001b[0m \u001b[48;5;232m0\u001b[0m \u001b[48;5;232m0\u001b[0m \u001b[48;5;232m0\u001b[0m \u001b[48;5;232m0\u001b[0m \u001b[48;5;15m9\u001b[0m \u001b[48;5;15m9\u001b[0m\u001b[0m\n",
      "\u001b[48;5;232m0\u001b[0m \u001b[48;5;232m0\u001b[0m \u001b[48;5;240m1\u001b[0m \u001b[48;5;240m1\u001b[0m \u001b[48;5;232m0\u001b[0m \u001b[48;5;232m0\u001b[0m \u001b[48;5;232m0\u001b[0m \u001b[48;5;232m0\u001b[0m \u001b[48;5;15m9\u001b[0m\u001b[0m\n",
      "\u001b[48;5;232m0\u001b[0m \u001b[48;5;232m0\u001b[0m \u001b[48;5;232m0\u001b[0m \u001b[48;5;240m1\u001b[0m \u001b[48;5;232m0\u001b[0m \u001b[48;5;226m7\u001b[0m \u001b[48;5;232m0\u001b[0m \u001b[48;5;232m0\u001b[0m \u001b[48;5;232m0\u001b[0m\u001b[0m\n",
      "\u001b[48;5;93m6\u001b[0m \u001b[48;5;93m6\u001b[0m \u001b[48;5;93m6\u001b[0m \u001b[48;5;232m0\u001b[0m \u001b[48;5;232m0\u001b[0m \u001b[48;5;226m7\u001b[0m \u001b[48;5;226m7\u001b[0m \u001b[48;5;232m0\u001b[0m \u001b[48;5;232m0\u001b[0m\u001b[0m\n",
      "\u001b[48;5;93m6\u001b[0m \u001b[48;5;232m0\u001b[0m \u001b[48;5;93m6\u001b[0m \u001b[48;5;232m0\u001b[0m \u001b[48;5;232m0\u001b[0m \u001b[48;5;232m0\u001b[0m \u001b[48;5;232m0\u001b[0m \u001b[48;5;232m0\u001b[0m \u001b[48;5;232m0\u001b[0m\u001b[0m\n",
      "- Target grid:\n",
      "\u001b[48;5;232m0\u001b[0m \u001b[48;5;232m0\u001b[0m \u001b[48;5;232m0\u001b[0m \u001b[48;5;232m0\u001b[0m \u001b[48;5;232m0\u001b[0m \u001b[48;5;232m0\u001b[0m \u001b[48;5;232m0\u001b[0m \u001b[48;5;232m0\u001b[0m \u001b[48;5;232m0\u001b[0m\u001b[0m\n",
      "\u001b[48;5;232m0\u001b[0m \u001b[48;5;93m6\u001b[0m \u001b[48;5;93m6\u001b[0m \u001b[48;5;93m6\u001b[0m \u001b[48;5;232m0\u001b[0m \u001b[48;5;232m0\u001b[0m \u001b[48;5;226m7\u001b[0m \u001b[48;5;232m0\u001b[0m \u001b[48;5;232m0\u001b[0m\u001b[0m\n",
      "\u001b[48;5;232m0\u001b[0m \u001b[48;5;93m6\u001b[0m \u001b[48;5;232m0\u001b[0m \u001b[48;5;93m6\u001b[0m \u001b[48;5;232m0\u001b[0m \u001b[48;5;232m0\u001b[0m \u001b[48;5;226m7\u001b[0m \u001b[48;5;226m7\u001b[0m \u001b[48;5;232m0\u001b[0m\u001b[0m\n",
      "\u001b[48;5;232m0\u001b[0m \u001b[48;5;232m0\u001b[0m \u001b[48;5;232m0\u001b[0m \u001b[48;5;232m0\u001b[0m \u001b[48;5;232m0\u001b[0m \u001b[48;5;232m0\u001b[0m \u001b[48;5;232m0\u001b[0m \u001b[48;5;232m0\u001b[0m \u001b[48;5;232m0\u001b[0m\u001b[0m\n",
      "\u001b[48;5;232m0\u001b[0m \u001b[48;5;232m0\u001b[0m \u001b[48;5;232m0\u001b[0m \u001b[48;5;232m0\u001b[0m \u001b[48;5;232m0\u001b[0m \u001b[48;5;232m0\u001b[0m \u001b[48;5;232m0\u001b[0m \u001b[48;5;15m9\u001b[0m \u001b[48;5;15m9\u001b[0m\u001b[0m\n",
      "\u001b[48;5;232m0\u001b[0m \u001b[48;5;232m0\u001b[0m \u001b[48;5;15m9\u001b[0m \u001b[48;5;15m9\u001b[0m \u001b[48;5;232m0\u001b[0m \u001b[48;5;232m0\u001b[0m \u001b[48;5;232m0\u001b[0m \u001b[48;5;232m0\u001b[0m \u001b[48;5;15m9\u001b[0m\u001b[0m\n",
      "\u001b[48;5;232m0\u001b[0m \u001b[48;5;232m0\u001b[0m \u001b[48;5;232m0\u001b[0m \u001b[48;5;15m9\u001b[0m \u001b[48;5;232m0\u001b[0m \u001b[48;5;226m7\u001b[0m \u001b[48;5;232m0\u001b[0m \u001b[48;5;232m0\u001b[0m \u001b[48;5;232m0\u001b[0m\u001b[0m\n",
      "\u001b[48;5;93m6\u001b[0m \u001b[48;5;93m6\u001b[0m \u001b[48;5;93m6\u001b[0m \u001b[48;5;232m0\u001b[0m \u001b[48;5;232m0\u001b[0m \u001b[48;5;226m7\u001b[0m \u001b[48;5;226m7\u001b[0m \u001b[48;5;232m0\u001b[0m \u001b[48;5;232m0\u001b[0m\u001b[0m\n",
      "\u001b[48;5;93m6\u001b[0m \u001b[48;5;232m0\u001b[0m \u001b[48;5;93m6\u001b[0m \u001b[48;5;232m0\u001b[0m \u001b[48;5;232m0\u001b[0m \u001b[48;5;232m0\u001b[0m \u001b[48;5;232m0\u001b[0m \u001b[48;5;232m0\u001b[0m \u001b[48;5;232m0\u001b[0m\u001b[0m\n",
      "- Predicted grid (mismatches highlighted):\n",
      "\u001b[48;5;232m0\u001b[0m \u001b[48;5;232m0\u001b[0m \u001b[48;5;232m0\u001b[0m \u001b[48;5;232m0\u001b[0m \u001b[48;5;232m0\u001b[0m \u001b[48;5;232m0\u001b[0m \u001b[48;5;232m0\u001b[0m \u001b[48;5;232m0\u001b[0m \u001b[48;5;232m0\u001b[0m\u001b[0m\n",
      "\u001b[48;5;232m0\u001b[0m \u001b[1m\u001b[48;5;232m\u001b[38;5;196m0\u001b[0m \u001b[1m\u001b[48;5;232m\u001b[38;5;196m0\u001b[0m \u001b[1m\u001b[48;5;232m\u001b[38;5;196m0\u001b[0m \u001b[48;5;232m0\u001b[0m \u001b[48;5;232m0\u001b[0m \u001b[1m\u001b[48;5;232m\u001b[38;5;196m0\u001b[0m \u001b[48;5;232m0\u001b[0m \u001b[48;5;232m0\u001b[0m\u001b[0m\n",
      "\u001b[48;5;232m0\u001b[0m \u001b[1m\u001b[48;5;232m\u001b[38;5;196m0\u001b[0m \u001b[48;5;232m0\u001b[0m \u001b[1m\u001b[48;5;232m\u001b[38;5;196m0\u001b[0m \u001b[48;5;232m0\u001b[0m \u001b[48;5;232m0\u001b[0m \u001b[1m\u001b[48;5;232m\u001b[38;5;196m0\u001b[0m \u001b[1m\u001b[48;5;232m\u001b[38;5;196m0\u001b[0m \u001b[48;5;232m0\u001b[0m\u001b[0m\n",
      "\u001b[48;5;232m0\u001b[0m \u001b[48;5;232m0\u001b[0m \u001b[48;5;232m0\u001b[0m \u001b[48;5;232m0\u001b[0m \u001b[48;5;232m0\u001b[0m \u001b[48;5;232m0\u001b[0m \u001b[48;5;232m0\u001b[0m \u001b[48;5;232m0\u001b[0m \u001b[48;5;232m0\u001b[0m\u001b[0m\n",
      "\u001b[48;5;232m0\u001b[0m \u001b[48;5;232m0\u001b[0m \u001b[48;5;232m0\u001b[0m \u001b[48;5;232m0\u001b[0m \u001b[48;5;232m0\u001b[0m \u001b[48;5;232m0\u001b[0m \u001b[48;5;232m0\u001b[0m \u001b[1m\u001b[48;5;232m\u001b[38;5;196m0\u001b[0m \u001b[1m\u001b[48;5;232m\u001b[38;5;196m0\u001b[0m\u001b[0m\n",
      "\u001b[48;5;232m0\u001b[0m \u001b[48;5;232m0\u001b[0m \u001b[1m\u001b[48;5;232m\u001b[38;5;196m0\u001b[0m \u001b[1m\u001b[48;5;232m\u001b[38;5;196m0\u001b[0m \u001b[48;5;232m0\u001b[0m \u001b[48;5;232m0\u001b[0m \u001b[48;5;232m0\u001b[0m \u001b[48;5;232m0\u001b[0m \u001b[1m\u001b[48;5;232m\u001b[38;5;196m0\u001b[0m\u001b[0m\n",
      "\u001b[48;5;232m0\u001b[0m \u001b[48;5;232m0\u001b[0m \u001b[48;5;232m0\u001b[0m \u001b[1m\u001b[48;5;232m\u001b[38;5;196m0\u001b[0m \u001b[48;5;232m0\u001b[0m \u001b[1m\u001b[48;5;232m\u001b[38;5;196m0\u001b[0m \u001b[48;5;232m0\u001b[0m \u001b[48;5;232m0\u001b[0m \u001b[48;5;232m0\u001b[0m\u001b[0m\n",
      "\u001b[1m\u001b[48;5;232m\u001b[38;5;196m0\u001b[0m \u001b[1m\u001b[48;5;232m\u001b[38;5;196m0\u001b[0m \u001b[1m\u001b[48;5;232m\u001b[38;5;196m0\u001b[0m \u001b[48;5;232m0\u001b[0m \u001b[48;5;232m0\u001b[0m \u001b[1m\u001b[48;5;232m\u001b[38;5;196m0\u001b[0m \u001b[1m\u001b[48;5;232m\u001b[38;5;196m0\u001b[0m \u001b[48;5;232m0\u001b[0m \u001b[48;5;232m0\u001b[0m\u001b[0m\n",
      "\u001b[1m\u001b[48;5;232m\u001b[38;5;196m0\u001b[0m \u001b[48;5;232m0\u001b[0m \u001b[1m\u001b[48;5;232m\u001b[38;5;196m0\u001b[0m \u001b[48;5;232m0\u001b[0m \u001b[48;5;232m0\u001b[0m \u001b[48;5;232m0\u001b[0m \u001b[48;5;232m0\u001b[0m \u001b[48;5;232m0\u001b[0m \u001b[48;5;232m0\u001b[0m\u001b[0m\n"
     ]
    },
    {
     "data": {
      "image/png": "[encoded data removed]",
      "text/plain": [
       "<Figure size 600x200 with 3 Axes>"
      ]
     },
     "metadata": {},
     "output_type": "display_data"
    },
    {
     "name": "stdout",
     "output_type": "stream",
     "text": [
      "Per-example cell accuracy: 59/81 = 72.84%\n",
      "======================================================================\n",
      "Task 27a28665 pair 5  | input (3, 3) -> target (1, 1)\n",
      "- Input grid:\n",
      "\u001b[48;5;34m4\u001b[0m \u001b[48;5;34m4\u001b[0m \u001b[48;5;232m0\u001b[0m\u001b[0m\n",
      "\u001b[48;5;34m4\u001b[0m \u001b[48;5;232m0\u001b[0m \u001b[48;5;34m4\u001b[0m\u001b[0m\n",
      "\u001b[48;5;232m0\u001b[0m \u001b[48;5;34m4\u001b[0m \u001b[48;5;232m0\u001b[0m\u001b[0m\n",
      "- Target grid:\n",
      "\u001b[48;5;240m1\u001b[0m\u001b[0m\n",
      "- Predicted grid (mismatches highlighted):\n",
      "\u001b[1m\u001b[48;5;232m\u001b[38;5;196m0\u001b[0m\u001b[0m\n"
     ]
    },
    {
     "data": {
      "image/png": "[encoded data removed]",
      "text/plain": [
       "<Figure size 600x200 with 3 Axes>"
      ]
     },
     "metadata": {},
     "output_type": "display_data"
    },
    {
     "name": "stdout",
     "output_type": "stream",
     "text": [
      "Per-example cell accuracy: 0/1 = 0.00%\n"
     ]
    }
   ],
   "source": [
    "# Cell 6: Visualize predictions vs targets (grid view)\n",
    "import random, shutil\n",
    "\n",
    "# ANSI color palette for digits 0-9 (background colors) + reset\n",
    "_ANSI_BG = [\n",
    "    \"\\x1b[48;5;232m\",  # 0 nearly black\n",
    "    \"\\x1b[48;5;240m\",  # 1 dark gray\n",
    "    \"\\x1b[48;5;202m\",  # 2 orange\n",
    "    \"\\x1b[48;5;196m\",  # 3 red\n",
    "    \"\\x1b[48;5;34m\",   # 4 green\n",
    "    \"\\x1b[48;5;27m\",   # 5 blue\n",
    "    \"\\x1b[48;5;93m\",   # 6 purple\n",
    "    \"\\x1b[48;5;226m\",  # 7 yellow\n",
    "    \"\\x1b[48;5;39m\",   # 8 cyan\n",
    "    \"\\x1b[48;5;15m\"    # 9 white\n",
    "]\n",
    "_RESET = \"\\x1b[0m\"\n",
    "\n",
    "def color_cell(v, mismatch=False):\n",
    "    v = int(v) if 0 <= int(v) <= 9 else 0\n",
    "    bg = _ANSI_BG[v]\n",
    "    # Show digit centered; highlight mismatch with bold inverse border effect (use bright fg)\n",
    "    if mismatch:\n",
    "        return f\"\\x1b[1m{bg}\\x1b[38;5;196m{v}\\x1b[0m\"\n",
    "    else:\n",
    "        return f\"{bg}{v}\\x1b[0m\"\n",
    "\n",
    "def render_grid(grid, ref=None):\n",
    "    g = _norm(grid)\n",
    "    lines = []\n",
    "    for r in range(g.shape[0]):\n",
    "        row_cells = []\n",
    "        for c in range(g.shape[1]):\n",
    "            mismatch = False\n",
    "            if ref is not None:\n",
    "                mismatch = (g[r,c] != ref[r][c])\n",
    "            row_cells.append(color_cell(g[r,c], mismatch))\n",
    "        lines.append(' '.join(row_cells) + _RESET)\n",
    "    return '\\n'.join(lines)\n",
    "\n",
    "try:\n",
    "    import matplotlib.pyplot as plt\n",
    "    _HAS_MPL = True\n",
    "except Exception:\n",
    "    _HAS_MPL = False\n",
    "\n",
    "if _HAS_MPL:\n",
    "    # Define a simple color map for 0-9\n",
    "    import numpy as np\n",
    "    from matplotlib.colors import ListedColormap\n",
    "    cmap = ListedColormap([\n",
    "        '#111111', '#555555', '#ff7f27', '#ff1a1a', '#2ca02c', '#1f77b4', '#9467bd', '#ffeb3b', '#17becf', '#ffffff'\n",
    "    ])\n",
    "\n",
    "@torch.no_grad()\n",
    "def visualize_predictions(n=5, use_validation=True, max_gen_len=256):\n",
    "    if use_validation and len(val_pairs)==0:\n",
    "        print('No validation split; falling back to training pairs.')\n",
    "        use_validation = False\n",
    "    pool = val_pairs if use_validation else train_pairs\n",
    "    if len(pool)==0:\n",
    "        print('No pairs to visualize.')\n",
    "        return\n",
    "    sample = random.sample(pool, min(n, len(pool)))\n",
    "    for inp, out, tid, idx in sample:\n",
    "        inp_arr = _norm(inp)\n",
    "        out_arr = _norm(out)\n",
    "        enc_tokens = torch.tensor(encode_grid(inp_arr), dtype=torch.long).unsqueeze(0).to(device)\n",
    "        rows = torch.arange(inp_arr.shape[0]).repeat_interleave(inp_arr.shape[1]).unsqueeze(0).to(device)\n",
    "        cols = torch.arange(inp_arr.shape[1]).repeat(inp_arr.shape[0]).unsqueeze(0).to(device)\n",
    "        enc_pad = torch.zeros_like(enc_tokens, dtype=torch.bool)\n",
    "        batch_fake = {'enc':enc_tokens,'row_idx':rows,'col_idx':cols,'enc_pad_mask':enc_pad}\n",
    "        gen = model.generate(batch_fake, max_len=min(max_gen_len, out_arr.size))\n",
    "        pred = gen[0].cpu().tolist()\n",
    "        pred_grid = decode_grid(pred, out_arr.shape[0], out_arr.shape[1])\n",
    "        # Text / ANSI output\n",
    "        print('='*70)\n",
    "        print(f'Task {tid} pair {idx}  | input {inp_arr.shape} -> target {out_arr.shape}')\n",
    "        print('- Input grid:')\n",
    "        print(render_grid(inp_arr))\n",
    "        print('- Target grid:')\n",
    "        print(render_grid(out_arr))\n",
    "        print('- Predicted grid (mismatches highlighted):')\n",
    "        print(render_grid(pred_grid, ref=out_arr))\n",
    "        # Optional matplotlib side-by-side for richer view\n",
    "        if _HAS_MPL:\n",
    "            fig, axs = plt.subplots(1,3, figsize=(6,2))\n",
    "            axs[0].imshow(inp_arr, cmap=cmap, vmin=0, vmax=9); axs[0].set_title('Input'); axs[0].axis('off')\n",
    "            axs[1].imshow(out_arr, cmap=cmap, vmin=0, vmax=9); axs[1].set_title('Target'); axs[1].axis('off')\n",
    "            axs[2].imshow(np.array(pred_grid), cmap=cmap, vmin=0, vmax=9); axs[2].set_title('Pred'); axs[2].axis('off')\n",
    "            plt.tight_layout(); plt.show()\n",
    "        # Simple accuracy for this example\n",
    "        match = sum(pred_grid[r][c] == out_arr[r,c] for r in range(out_arr.shape[0]) for c in range(out_arr.shape[1]))\n",
    "        total = out_arr.shape[0]*out_arr.shape[1]\n",
    "        print(f'Per-example cell accuracy: {match}/{total} = {match/total:.2%}')\n",
    "\n",
    "# Run visualization on (up to) 5 validation examples\n",
    "visualize_predictions(n=5, use_validation=True)\n"
   ]
  },
  {
   "cell_type": "code",
   "execution_count": null,
   "id": "e0b94155",
   "metadata": {},
   "outputs": [],
   "source": []
  }
 ],
 "metadata": {
  "kernelspec": {
   "display_name": ".venv",
   "language": "python",
   "name": "python3"
  },
  "language_info": {
   "codemirror_mode": {
    "name": "ipython",
    "version": 3
   },
   "file_extension": ".py",
   "mimetype": "text/x-python",
   "name": "python",
   "nbconvert_exporter": "python",
   "pygments_lexer": "ipython3",
   "version": "3.13.7"
  }
 },
 "nbformat": 4,
 "nbformat_minor": 5
}
